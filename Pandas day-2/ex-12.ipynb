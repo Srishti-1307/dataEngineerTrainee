{
 "cells": [
  {
   "cell_type": "code",
   "execution_count": 1,
   "id": "d59e648f-36e6-47e5-b7e0-03a7d8c727d2",
   "metadata": {},
   "outputs": [],
   "source": [
    "import pandas as pd\n",
    "import numpy as np"
   ]
  },
  {
   "cell_type": "raw",
   "id": "b12fbcbb-e8bc-42c5-b86f-38199c6a4a77",
   "metadata": {},
   "source": [
    "Given a dataset----\n",
    "Replace \"N/A\" and \"?\" with np.nan.\n",
    "Drop columns with >50% nulls.\n",
    "Fill remaining nulls with mean (for numeric) or mode (for categorical).\n"
   ]
  },
  {
   "cell_type": "code",
   "execution_count": 3,
   "id": "ed3c40ce-1702-4446-882b-d7448bd21fdb",
   "metadata": {},
   "outputs": [],
   "source": [
    "data = {'col1': [1, 2, 'N/A', 4, 5, '?', 7, 8, np.nan, 10],\n",
    "        'col2': ['A', '?', 'A', 'N/A', 'E', 'F', '?', 'A', 'I', 'J'],\n",
    "        'col3': [100, 200, 300, 400, 500, '?', 700, 'N/A', 900, 1000],\n",
    "        'col4': [np.nan, np.nan, np.nan, np.nan, 5, np.nan, 7, np.nan, 9, 10], \n",
    "        'col5': ['X', 'Y', 'Z', 'X', 'Y', 'Z', 'X', 'Y', 'Z', np.nan],\n",
    "        'col6': [np.nan, np.nan, np.nan, np.nan, np.nan, np.nan, np.nan, np.nan, np.nan, np.nan] \n",
    "       }"
   ]
  },
  {
   "cell_type": "code",
   "execution_count": 4,
   "id": "8bd86381-db5a-4036-9101-be76db5c543a",
   "metadata": {},
   "outputs": [],
   "source": [
    "df = pd.DataFrame(data)"
   ]
  },
  {
   "cell_type": "code",
   "execution_count": 5,
   "id": "4239847f-4921-494a-a966-4a43c97857c3",
   "metadata": {},
   "outputs": [
    {
     "data": {
      "text/html": [
       "<div>\n",
       "<style scoped>\n",
       "    .dataframe tbody tr th:only-of-type {\n",
       "        vertical-align: middle;\n",
       "    }\n",
       "\n",
       "    .dataframe tbody tr th {\n",
       "        vertical-align: top;\n",
       "    }\n",
       "\n",
       "    .dataframe thead th {\n",
       "        text-align: right;\n",
       "    }\n",
       "</style>\n",
       "<table border=\"1\" class=\"dataframe\">\n",
       "  <thead>\n",
       "    <tr style=\"text-align: right;\">\n",
       "      <th></th>\n",
       "      <th>col1</th>\n",
       "      <th>col2</th>\n",
       "      <th>col3</th>\n",
       "      <th>col4</th>\n",
       "      <th>col5</th>\n",
       "      <th>col6</th>\n",
       "    </tr>\n",
       "  </thead>\n",
       "  <tbody>\n",
       "    <tr>\n",
       "      <th>0</th>\n",
       "      <td>1</td>\n",
       "      <td>A</td>\n",
       "      <td>100</td>\n",
       "      <td>NaN</td>\n",
       "      <td>X</td>\n",
       "      <td>NaN</td>\n",
       "    </tr>\n",
       "    <tr>\n",
       "      <th>1</th>\n",
       "      <td>2</td>\n",
       "      <td>?</td>\n",
       "      <td>200</td>\n",
       "      <td>NaN</td>\n",
       "      <td>Y</td>\n",
       "      <td>NaN</td>\n",
       "    </tr>\n",
       "    <tr>\n",
       "      <th>2</th>\n",
       "      <td>N/A</td>\n",
       "      <td>A</td>\n",
       "      <td>300</td>\n",
       "      <td>NaN</td>\n",
       "      <td>Z</td>\n",
       "      <td>NaN</td>\n",
       "    </tr>\n",
       "    <tr>\n",
       "      <th>3</th>\n",
       "      <td>4</td>\n",
       "      <td>N/A</td>\n",
       "      <td>400</td>\n",
       "      <td>NaN</td>\n",
       "      <td>X</td>\n",
       "      <td>NaN</td>\n",
       "    </tr>\n",
       "    <tr>\n",
       "      <th>4</th>\n",
       "      <td>5</td>\n",
       "      <td>E</td>\n",
       "      <td>500</td>\n",
       "      <td>5.0</td>\n",
       "      <td>Y</td>\n",
       "      <td>NaN</td>\n",
       "    </tr>\n",
       "    <tr>\n",
       "      <th>5</th>\n",
       "      <td>?</td>\n",
       "      <td>F</td>\n",
       "      <td>?</td>\n",
       "      <td>NaN</td>\n",
       "      <td>Z</td>\n",
       "      <td>NaN</td>\n",
       "    </tr>\n",
       "    <tr>\n",
       "      <th>6</th>\n",
       "      <td>7</td>\n",
       "      <td>?</td>\n",
       "      <td>700</td>\n",
       "      <td>7.0</td>\n",
       "      <td>X</td>\n",
       "      <td>NaN</td>\n",
       "    </tr>\n",
       "    <tr>\n",
       "      <th>7</th>\n",
       "      <td>8</td>\n",
       "      <td>A</td>\n",
       "      <td>N/A</td>\n",
       "      <td>NaN</td>\n",
       "      <td>Y</td>\n",
       "      <td>NaN</td>\n",
       "    </tr>\n",
       "    <tr>\n",
       "      <th>8</th>\n",
       "      <td>NaN</td>\n",
       "      <td>I</td>\n",
       "      <td>900</td>\n",
       "      <td>9.0</td>\n",
       "      <td>Z</td>\n",
       "      <td>NaN</td>\n",
       "    </tr>\n",
       "    <tr>\n",
       "      <th>9</th>\n",
       "      <td>10</td>\n",
       "      <td>J</td>\n",
       "      <td>1000</td>\n",
       "      <td>10.0</td>\n",
       "      <td>NaN</td>\n",
       "      <td>NaN</td>\n",
       "    </tr>\n",
       "  </tbody>\n",
       "</table>\n",
       "</div>"
      ],
      "text/plain": [
       "  col1 col2  col3  col4 col5  col6\n",
       "0    1    A   100   NaN    X   NaN\n",
       "1    2    ?   200   NaN    Y   NaN\n",
       "2  N/A    A   300   NaN    Z   NaN\n",
       "3    4  N/A   400   NaN    X   NaN\n",
       "4    5    E   500   5.0    Y   NaN\n",
       "5    ?    F     ?   NaN    Z   NaN\n",
       "6    7    ?   700   7.0    X   NaN\n",
       "7    8    A   N/A   NaN    Y   NaN\n",
       "8  NaN    I   900   9.0    Z   NaN\n",
       "9   10    J  1000  10.0  NaN   NaN"
      ]
     },
     "execution_count": 5,
     "metadata": {},
     "output_type": "execute_result"
    }
   ],
   "source": [
    "df"
   ]
  },
  {
   "cell_type": "code",
   "execution_count": 6,
   "id": "196a4e59-cc10-4fd7-bc19-4f6c4d9dfdc5",
   "metadata": {},
   "outputs": [
    {
     "name": "stderr",
     "output_type": "stream",
     "text": [
      "/tmp/ipykernel_15929/2871576727.py:1: FutureWarning: Downcasting behavior in `replace` is deprecated and will be removed in a future version. To retain the old behavior, explicitly call `result.infer_objects(copy=False)`. To opt-in to the future behavior, set `pd.set_option('future.no_silent_downcasting', True)`\n",
      "  df.replace(['N/A', '?'], np.nan, inplace=True)\n"
     ]
    }
   ],
   "source": [
    "df.replace(['N/A', '?'], np.nan, inplace=True) "
   ]
  },
  {
   "cell_type": "raw",
   "id": "87d88db7-3b18-4967-81de-8fb6fb51fe54",
   "metadata": {},
   "source": [
    "df.replace() offers\n",
    "single value replacements,\n",
    "multiple value replacements, \n",
    "replacements based on regular expressions."
   ]
  },
  {
   "cell_type": "raw",
   "id": "46558097-ea79-40d0-b9a4-9013dab2a14b",
   "metadata": {},
   "source": [
    "Syntax-- df.replace(to_replace, value, inplace=False, regex=False)\n",
    "\n",
    "to_replace: The value(s) to be replaced. This can be a \n",
    "single value,\n",
    "list of values, \n",
    "dictionary mapping old values to new values,\n",
    "regular expression.\n",
    "\n",
    "\n",
    "value: The value(s) to replace with. This can be a \n",
    "single value, \n",
    "list of values (when to_replace is a list), \n",
    "omitted if to_replace is a dictionary."
   ]
  },
  {
   "cell_type": "markdown",
   "id": "92c0a418-5d66-4511-93e2-b32629c1fa93",
   "metadata": {},
   "source": [
    "#### Drop col with more than 50% null values"
   ]
  },
  {
   "cell_type": "code",
   "execution_count": 7,
   "id": "c3a0935f-73e6-45b2-9d97-09047563d85d",
   "metadata": {},
   "outputs": [
    {
     "data": {
      "text/plain": [
       "col1     3\n",
       "col2     3\n",
       "col3     2\n",
       "col4     6\n",
       "col5     1\n",
       "col6    10\n",
       "dtype: int64"
      ]
     },
     "execution_count": 7,
     "metadata": {},
     "output_type": "execute_result"
    }
   ],
   "source": [
    "null_count = df.isna().sum()\n",
    "null_count"
   ]
  },
  {
   "cell_type": "code",
   "execution_count": 8,
   "id": "f053158d-4fb3-4c31-a11d-be68821778e4",
   "metadata": {},
   "outputs": [
    {
     "data": {
      "text/plain": [
       "col1     30.0\n",
       "col2     30.0\n",
       "col3     20.0\n",
       "col4     60.0\n",
       "col5     10.0\n",
       "col6    100.0\n",
       "dtype: float64"
      ]
     },
     "execution_count": 8,
     "metadata": {},
     "output_type": "execute_result"
    }
   ],
   "source": [
    "null_percentage = (null_count/len(df))*100\n",
    "null_percentage"
   ]
  },
  {
   "cell_type": "code",
   "execution_count": 9,
   "id": "ff79ccaf-a5db-4a84-8ace-c61c48615c43",
   "metadata": {},
   "outputs": [
    {
     "data": {
      "text/plain": [
       "col4     60.0\n",
       "col6    100.0\n",
       "dtype: float64"
      ]
     },
     "execution_count": 9,
     "metadata": {},
     "output_type": "execute_result"
    }
   ],
   "source": [
    "null_percentage[null_percentage>50]"
   ]
  },
  {
   "cell_type": "code",
   "execution_count": 10,
   "id": "e356868c-71ad-41d1-9599-4347300f8ef0",
   "metadata": {},
   "outputs": [
    {
     "data": {
      "text/plain": [
       "Index(['col4', 'col6'], dtype='object')"
      ]
     },
     "execution_count": 10,
     "metadata": {},
     "output_type": "execute_result"
    }
   ],
   "source": [
    "col_to_drop = null_percentage[null_percentage > 50].index\n",
    "col_to_drop"
   ]
  },
  {
   "cell_type": "code",
   "execution_count": 11,
   "id": "03398b20-94ff-4ca4-a81c-a25fab78d50b",
   "metadata": {},
   "outputs": [],
   "source": [
    "df.drop(columns=col_to_drop, inplace=True)"
   ]
  },
  {
   "cell_type": "code",
   "execution_count": 12,
   "id": "e4234161-53f0-4482-a013-df86ecf49c3a",
   "metadata": {},
   "outputs": [
    {
     "data": {
      "text/html": [
       "<div>\n",
       "<style scoped>\n",
       "    .dataframe tbody tr th:only-of-type {\n",
       "        vertical-align: middle;\n",
       "    }\n",
       "\n",
       "    .dataframe tbody tr th {\n",
       "        vertical-align: top;\n",
       "    }\n",
       "\n",
       "    .dataframe thead th {\n",
       "        text-align: right;\n",
       "    }\n",
       "</style>\n",
       "<table border=\"1\" class=\"dataframe\">\n",
       "  <thead>\n",
       "    <tr style=\"text-align: right;\">\n",
       "      <th></th>\n",
       "      <th>col1</th>\n",
       "      <th>col2</th>\n",
       "      <th>col3</th>\n",
       "      <th>col5</th>\n",
       "    </tr>\n",
       "  </thead>\n",
       "  <tbody>\n",
       "    <tr>\n",
       "      <th>0</th>\n",
       "      <td>1.0</td>\n",
       "      <td>A</td>\n",
       "      <td>100.0</td>\n",
       "      <td>X</td>\n",
       "    </tr>\n",
       "    <tr>\n",
       "      <th>1</th>\n",
       "      <td>2.0</td>\n",
       "      <td>NaN</td>\n",
       "      <td>200.0</td>\n",
       "      <td>Y</td>\n",
       "    </tr>\n",
       "    <tr>\n",
       "      <th>2</th>\n",
       "      <td>NaN</td>\n",
       "      <td>A</td>\n",
       "      <td>300.0</td>\n",
       "      <td>Z</td>\n",
       "    </tr>\n",
       "    <tr>\n",
       "      <th>3</th>\n",
       "      <td>4.0</td>\n",
       "      <td>NaN</td>\n",
       "      <td>400.0</td>\n",
       "      <td>X</td>\n",
       "    </tr>\n",
       "    <tr>\n",
       "      <th>4</th>\n",
       "      <td>5.0</td>\n",
       "      <td>E</td>\n",
       "      <td>500.0</td>\n",
       "      <td>Y</td>\n",
       "    </tr>\n",
       "    <tr>\n",
       "      <th>5</th>\n",
       "      <td>NaN</td>\n",
       "      <td>F</td>\n",
       "      <td>NaN</td>\n",
       "      <td>Z</td>\n",
       "    </tr>\n",
       "    <tr>\n",
       "      <th>6</th>\n",
       "      <td>7.0</td>\n",
       "      <td>NaN</td>\n",
       "      <td>700.0</td>\n",
       "      <td>X</td>\n",
       "    </tr>\n",
       "    <tr>\n",
       "      <th>7</th>\n",
       "      <td>8.0</td>\n",
       "      <td>A</td>\n",
       "      <td>NaN</td>\n",
       "      <td>Y</td>\n",
       "    </tr>\n",
       "    <tr>\n",
       "      <th>8</th>\n",
       "      <td>NaN</td>\n",
       "      <td>I</td>\n",
       "      <td>900.0</td>\n",
       "      <td>Z</td>\n",
       "    </tr>\n",
       "    <tr>\n",
       "      <th>9</th>\n",
       "      <td>10.0</td>\n",
       "      <td>J</td>\n",
       "      <td>1000.0</td>\n",
       "      <td>NaN</td>\n",
       "    </tr>\n",
       "  </tbody>\n",
       "</table>\n",
       "</div>"
      ],
      "text/plain": [
       "   col1 col2    col3 col5\n",
       "0   1.0    A   100.0    X\n",
       "1   2.0  NaN   200.0    Y\n",
       "2   NaN    A   300.0    Z\n",
       "3   4.0  NaN   400.0    X\n",
       "4   5.0    E   500.0    Y\n",
       "5   NaN    F     NaN    Z\n",
       "6   7.0  NaN   700.0    X\n",
       "7   8.0    A     NaN    Y\n",
       "8   NaN    I   900.0    Z\n",
       "9  10.0    J  1000.0  NaN"
      ]
     },
     "execution_count": 12,
     "metadata": {},
     "output_type": "execute_result"
    }
   ],
   "source": [
    "df"
   ]
  },
  {
   "cell_type": "code",
   "execution_count": 40,
   "id": "b1222676-9d96-4e43-af34-7a14db3bcfb3",
   "metadata": {},
   "outputs": [
    {
     "data": {
      "text/plain": [
       "0    A\n",
       "1    A\n",
       "2    A\n",
       "3    A\n",
       "4    E\n",
       "5    F\n",
       "6    A\n",
       "7    A\n",
       "8    I\n",
       "9    J\n",
       "Name: col2, dtype: object"
      ]
     },
     "execution_count": 40,
     "metadata": {},
     "output_type": "execute_result"
    }
   ],
   "source": [
    "df['col2'].fillna(df['col2'].mode()[0])"
   ]
  },
  {
   "cell_type": "code",
   "execution_count": 20,
   "id": "40275ada-5d59-46d5-8e36-601337d173a4",
   "metadata": {},
   "outputs": [
    {
     "data": {
      "text/plain": [
       "0     100.0\n",
       "1     200.0\n",
       "2     300.0\n",
       "3     400.0\n",
       "4     500.0\n",
       "5     450.0\n",
       "6     700.0\n",
       "7     450.0\n",
       "8     900.0\n",
       "9    1000.0\n",
       "Name: col3, dtype: float64"
      ]
     },
     "execution_count": 20,
     "metadata": {},
     "output_type": "execute_result"
    }
   ],
   "source": [
    "df['col3'].fillna(df['col3'].median())"
   ]
  },
  {
   "cell_type": "code",
   "execution_count": 37,
   "id": "d2b4cbb5-8ce1-4524-8f7e-7b7bc1a3e774",
   "metadata": {},
   "outputs": [
    {
     "data": {
      "text/plain": [
       "0    X\n",
       "1    Y\n",
       "2    Z\n",
       "3    X\n",
       "4    Y\n",
       "5    Z\n",
       "6    X\n",
       "7    Y\n",
       "8    Z\n",
       "9    X\n",
       "Name: col5, dtype: object"
      ]
     },
     "execution_count": 37,
     "metadata": {},
     "output_type": "execute_result"
    }
   ],
   "source": [
    "df['col5'].fillna(df['col5'].mode()[0])"
   ]
  },
  {
   "cell_type": "code",
   "execution_count": 36,
   "id": "9cc04a99-69cc-4952-969c-33c2b7e00e53",
   "metadata": {},
   "outputs": [
    {
     "data": {
      "text/plain": [
       "0     1\n",
       "1     2\n",
       "2     5\n",
       "3     4\n",
       "4     5\n",
       "5     5\n",
       "6     7\n",
       "7     8\n",
       "8     5\n",
       "9    10\n",
       "Name: col1, dtype: int64"
      ]
     },
     "execution_count": 36,
     "metadata": {},
     "output_type": "execute_result"
    }
   ],
   "source": [
    "df['col1'].fillna(df['col1'].mean()).astype(int)"
   ]
  },
  {
   "cell_type": "raw",
   "id": "90e84067-5a13-4883-b109-5a1ee3d886aa",
   "metadata": {},
   "source": [
    "mode() method always returns a Pandas Series, even if there is only one mode. This is because a dataset can have multiple modes.\n",
    ".mode()[0]) is used to select the first mode found in the Series returned by the mode() method."
   ]
  },
  {
   "cell_type": "code",
   "execution_count": null,
   "id": "38603aae-9c64-4ad4-af2f-746da26857f9",
   "metadata": {},
   "outputs": [],
   "source": []
  }
 ],
 "metadata": {
  "kernelspec": {
   "display_name": "Python 3 (ipykernel)",
   "language": "python",
   "name": "python3"
  },
  "language_info": {
   "codemirror_mode": {
    "name": "ipython",
    "version": 3
   },
   "file_extension": ".py",
   "mimetype": "text/x-python",
   "name": "python",
   "nbconvert_exporter": "python",
   "pygments_lexer": "ipython3",
   "version": "3.10.12"
  }
 },
 "nbformat": 4,
 "nbformat_minor": 5
}
