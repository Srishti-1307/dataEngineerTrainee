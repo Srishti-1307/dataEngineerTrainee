{
  "nbformat": 4,
  "nbformat_minor": 0,
  "metadata": {
    "colab": {
      "provenance": [],
      "authorship_tag": "ABX9TyM+1SKHvviCUZZ4qY+CU+CF",
      "include_colab_link": true
    },
    "kernelspec": {
      "name": "python3",
      "display_name": "Python 3"
    },
    "language_info": {
      "name": "python"
    }
  },
  "cells": [
    {
      "cell_type": "markdown",
      "metadata": {
        "id": "view-in-github",
        "colab_type": "text"
      },
      "source": [
        "<a href=\"https://colab.research.google.com/github/Srishti-1307/dataEngineerTrainee/blob/main/array_creation.ipynb\" target=\"_parent\"><img src=\"https://colab.research.google.com/assets/colab-badge.svg\" alt=\"Open In Colab\"/></a>"
      ]
    },
    {
      "cell_type": "code",
      "execution_count": null,
      "metadata": {
        "id": "tnXuyX3vFyKZ"
      },
      "outputs": [],
      "source": [
        "import numpy as np"
      ]
    },
    {
      "cell_type": "code",
      "source": [
        "# Numpy Arrays"
      ],
      "metadata": {
        "id": "zyPcJOrgHPZ1"
      },
      "execution_count": null,
      "outputs": []
    },
    {
      "cell_type": "code",
      "source": [
        "pythonList = [1,2,3,4,5,6]\n",
        "numpyArray = np.array(pythonList)\n",
        "print(numpyArray)\n",
        "print('--------------------------------------------------------------------')\n",
        "print(np.array([[1,2],[3,4],[4,5]]))\n",
        "print('--------------------------------------------------------------------')\n",
        "print(np.array([[[1, 2, 3], [4, 5, 6]], [[1, 2, 3], [4, 5, 6]]]))\n",
        "print('--------------------------------------------------------------------')\n",
        "print(np.array([1, 2, 3, 4], ndmin=5))"
      ],
      "metadata": {
        "colab": {
          "base_uri": "https://localhost:8080/"
        },
        "id": "DJCrOctHHSfb",
        "outputId": "31f95d1d-b618-471a-f2d1-7ac3e08e86eb"
      },
      "execution_count": null,
      "outputs": [
        {
          "output_type": "stream",
          "name": "stdout",
          "text": [
            "[1 2 3 4 5 6]\n",
            "--------------------------------------------------------------------\n",
            "[[1 2]\n",
            " [3 4]\n",
            " [4 5]]\n",
            "--------------------------------------------------------------------\n",
            "[[[1 2 3]\n",
            "  [4 5 6]]\n",
            "\n",
            " [[1 2 3]\n",
            "  [4 5 6]]]\n",
            "--------------------------------------------------------------------\n",
            "[[[[[1 2 3 4]]]]]\n"
          ]
        }
      ]
    },
    {
      "cell_type": "code",
      "source": [
        "# Dimension\n",
        "\n",
        "print(np.array([[1,2],[3,4],[4,5]]).ndim)"
      ],
      "metadata": {
        "colab": {
          "base_uri": "https://localhost:8080/"
        },
        "id": "2yg6MaiOV8M6",
        "outputId": "0cb8a85e-7c27-474f-d3b2-15ba3d27efcb"
      },
      "execution_count": null,
      "outputs": [
        {
          "output_type": "stream",
          "name": "stdout",
          "text": [
            "2\n"
          ]
        }
      ]
    },
    {
      "cell_type": "code",
      "source": [
        "pythonTuple = (5,6,7,8,9)\n",
        "numpyArray = np.array(pythonTuple)\n",
        "print(numpyArray)\n",
        "print(np.array(((13,14,15,16), (1,2,3,4))))"
      ],
      "metadata": {
        "colab": {
          "base_uri": "https://localhost:8080/"
        },
        "id": "FZ5y4DXYIDoP",
        "outputId": "d8a6167b-7bef-4182-9d70-65bbd7c9b0b5"
      },
      "execution_count": null,
      "outputs": [
        {
          "output_type": "stream",
          "name": "stdout",
          "text": [
            "[5 6 7 8 9]\n",
            "[[13 14 15 16]\n",
            " [ 1  2  3  4]]\n"
          ]
        }
      ]
    },
    {
      "cell_type": "code",
      "source": [
        "arrayZeros = np.zeros((2,4), dtype=np.int64)\n",
        "print(arrayZeros)"
      ],
      "metadata": {
        "colab": {
          "base_uri": "https://localhost:8080/"
        },
        "id": "yuVpxq1TIRbN",
        "outputId": "4e52cf17-b908-44d1-f653-5791a992b4d2"
      },
      "execution_count": null,
      "outputs": [
        {
          "output_type": "stream",
          "name": "stdout",
          "text": [
            "[[0 0 0 0]\n",
            " [0 0 0 0]]\n"
          ]
        }
      ]
    },
    {
      "cell_type": "code",
      "source": [
        "arrayOnes = np.ones(7)\n",
        "print(arrayOnes)"
      ],
      "metadata": {
        "colab": {
          "base_uri": "https://localhost:8080/"
        },
        "id": "kQmiHy_WJGXd",
        "outputId": "90db6bcf-11c4-4d2a-cabb-e8b69d2a9d6b"
      },
      "execution_count": null,
      "outputs": [
        {
          "output_type": "stream",
          "name": "stdout",
          "text": [
            "[1. 1. 1. 1. 1. 1. 1.]\n"
          ]
        }
      ]
    },
    {
      "cell_type": "code",
      "source": [
        "arrayFull = np.full((3,3),7)\n",
        "print(arrayFull)"
      ],
      "metadata": {
        "colab": {
          "base_uri": "https://localhost:8080/"
        },
        "id": "RVPpW6YdJV8L",
        "outputId": "49aac52e-aee3-4134-bccf-25793658ed20"
      },
      "execution_count": null,
      "outputs": [
        {
          "output_type": "stream",
          "name": "stdout",
          "text": [
            "[[7 7 7]\n",
            " [7 7 7]\n",
            " [7 7 7]]\n"
          ]
        }
      ]
    },
    {
      "cell_type": "code",
      "source": [
        "arrayArange = np.arange(5,20,2)       # start , stop , step\n",
        "print(arrayArange)"
      ],
      "metadata": {
        "colab": {
          "base_uri": "https://localhost:8080/"
        },
        "id": "hXokTPc-Jdkt",
        "outputId": "8686aef6-6a22-425b-875e-fb3084a84a88"
      },
      "execution_count": null,
      "outputs": [
        {
          "output_type": "stream",
          "name": "stdout",
          "text": [
            "[ 5  7  9 11 13 15 17 19]\n"
          ]
        }
      ]
    },
    {
      "cell_type": "code",
      "source": [
        "arrayLinspace = np.linspace(1,10,7)     # start, stop, num (equispaced)\n",
        "print(arrayLinspace)"
      ],
      "metadata": {
        "colab": {
          "base_uri": "https://localhost:8080/"
        },
        "id": "GaZQXAopJtHZ",
        "outputId": "e5f554fc-cb40-43d1-c5d4-4a12c96d159d"
      },
      "execution_count": null,
      "outputs": [
        {
          "output_type": "stream",
          "name": "stdout",
          "text": [
            "[ 1.   2.5  4.   5.5  7.   8.5 10. ]\n"
          ]
        }
      ]
    },
    {
      "cell_type": "code",
      "source": [
        "# random number generation"
      ],
      "metadata": {
        "id": "MraWZIQ9KwEw"
      },
      "execution_count": null,
      "outputs": []
    },
    {
      "cell_type": "code",
      "source": [
        "arr1 = np.random.rand(6,2)                       # between 0 & 1\n",
        "print(arr1)"
      ],
      "metadata": {
        "colab": {
          "base_uri": "https://localhost:8080/"
        },
        "id": "mpx3ZUm7LqPW",
        "outputId": "a0666154-8c5b-4f56-947d-6e8b6c6bffc8"
      },
      "execution_count": null,
      "outputs": [
        {
          "output_type": "stream",
          "name": "stdout",
          "text": [
            "[[0.17652122 0.65568232]\n",
            " [0.93932164 0.75014321]\n",
            " [0.63441671 0.32210214]\n",
            " [0.65046377 0.92970142]\n",
            " [0.58602635 0.5448748 ]\n",
            " [0.93501896 0.69926062]]\n"
          ]
        }
      ]
    },
    {
      "cell_type": "code",
      "source": [
        "arr2 = np.random.randn(10)                          # between -1 & 1\n",
        "print(arr2)"
      ],
      "metadata": {
        "colab": {
          "base_uri": "https://localhost:8080/"
        },
        "id": "z2d6KWEILusW",
        "outputId": "9aa08da8-1d8e-4f8c-9dc1-ca88afc1d76e"
      },
      "execution_count": null,
      "outputs": [
        {
          "output_type": "stream",
          "name": "stdout",
          "text": [
            "[ 0.02901246 -1.57458184 -0.17009651 -0.39571983  0.51493584 -0.50472258\n",
            " -0.2134651  -0.80681861 -0.2487842  -0.08463745]\n"
          ]
        }
      ]
    },
    {
      "cell_type": "code",
      "source": [
        "arr3 = np.random.randint(4,12, (4,2))                # from, to, shape\n",
        "print(arr3)"
      ],
      "metadata": {
        "colab": {
          "base_uri": "https://localhost:8080/"
        },
        "id": "wZyXAdE3NwUZ",
        "outputId": "a66b8795-a099-4574-c3ce-0383f46fc99b"
      },
      "execution_count": null,
      "outputs": [
        {
          "output_type": "stream",
          "name": "stdout",
          "text": [
            "[[ 5  7]\n",
            " [ 9  9]\n",
            " [10 11]\n",
            " [11  6]]\n"
          ]
        }
      ]
    },
    {
      "cell_type": "code",
      "source": [
        "# np.eye() v/s np.identity()"
      ],
      "metadata": {
        "id": "trZyGmISQSYl"
      },
      "execution_count": null,
      "outputs": []
    },
    {
      "cell_type": "code",
      "source": [
        "print(np.identity(4))"
      ],
      "metadata": {
        "colab": {
          "base_uri": "https://localhost:8080/"
        },
        "id": "FbClbxrQR__Q",
        "outputId": "0db31d03-6430-4d65-fc17-0c862b1aa11a"
      },
      "execution_count": null,
      "outputs": [
        {
          "output_type": "stream",
          "name": "stdout",
          "text": [
            "[[1. 0. 0. 0.]\n",
            " [0. 1. 0. 0.]\n",
            " [0. 0. 1. 0.]\n",
            " [0. 0. 0. 1.]]\n"
          ]
        }
      ]
    },
    {
      "cell_type": "code",
      "source": [
        "print(np.eye(4))      # np.eye(row, col, diagonal, dtype) by-default col=row; diagonal=0 (try 0,1,2,3,4); dtype=float"
      ],
      "metadata": {
        "colab": {
          "base_uri": "https://localhost:8080/"
        },
        "id": "B7vJ5Ok4R3fX",
        "outputId": "7645fd69-4393-4c6e-a854-d3ef0325d27b"
      },
      "execution_count": null,
      "outputs": [
        {
          "output_type": "stream",
          "name": "stdout",
          "text": [
            "[[1. 0. 0. 0.]\n",
            " [0. 1. 0. 0.]\n",
            " [0. 0. 1. 0.]\n",
            " [0. 0. 0. 1.]]\n"
          ]
        }
      ]
    }
  ]
}