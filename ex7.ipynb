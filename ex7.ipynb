{
  "nbformat": 4,
  "nbformat_minor": 0,
  "metadata": {
    "colab": {
      "provenance": [],
      "authorship_tag": "ABX9TyOnw7OkMJ9lemHTW7H1f/JC",
      "include_colab_link": true
    },
    "kernelspec": {
      "name": "python3",
      "display_name": "Python 3"
    },
    "language_info": {
      "name": "python"
    }
  },
  "cells": [
    {
      "cell_type": "markdown",
      "metadata": {
        "id": "view-in-github",
        "colab_type": "text"
      },
      "source": [
        "<a href=\"https://colab.research.google.com/github/Srishti-1307/dataEngineerTrainee/blob/main/ex7.ipynb\" target=\"_parent\"><img src=\"https://colab.research.google.com/assets/colab-badge.svg\" alt=\"Open In Colab\"/></a>"
      ]
    },
    {
      "cell_type": "code",
      "execution_count": null,
      "metadata": {
        "id": "yfFmB94QgwaR"
      },
      "outputs": [],
      "source": [
        "#  Generate a 2D NumPy array with random integers (10x5) representing temperature readings."
      ]
    },
    {
      "cell_type": "code",
      "source": [
        "import numpy as np"
      ],
      "metadata": {
        "id": "RYymQcfRg332"
      },
      "execution_count": null,
      "outputs": []
    },
    {
      "cell_type": "code",
      "source": [
        "temp_readings = np.random.randint(20,30,(2,10,5))\n",
        "print(temp_readings)"
      ],
      "metadata": {
        "colab": {
          "base_uri": "https://localhost:8080/"
        },
        "id": "-2ygAbEOg6i9",
        "outputId": "b71ea96f-dc2e-451c-804a-55f0265a287a"
      },
      "execution_count": null,
      "outputs": [
        {
          "output_type": "stream",
          "name": "stdout",
          "text": [
            "[[[29 29 28 27 21]\n",
            "  [27 29 26 27 23]\n",
            "  [25 27 21 21 27]\n",
            "  [21 23 25 25 21]\n",
            "  [21 20 27 27 20]\n",
            "  [29 20 23 22 20]\n",
            "  [24 20 21 25 26]\n",
            "  [28 28 29 26 23]\n",
            "  [28 29 27 27 28]\n",
            "  [27 25 20 24 27]]\n",
            "\n",
            " [[26 26 24 26 29]\n",
            "  [26 27 21 22 26]\n",
            "  [24 23 28 27 24]\n",
            "  [22 26 25 20 29]\n",
            "  [21 21 25 24 24]\n",
            "  [22 29 29 24 24]\n",
            "  [26 22 28 23 25]\n",
            "  [27 25 24 24 23]\n",
            "  [29 29 25 26 22]\n",
            "  [20 25 21 23 20]]]\n"
          ]
        }
      ]
    },
    {
      "cell_type": "code",
      "source": [],
      "metadata": {
        "id": "r7KA1jishRed"
      },
      "execution_count": null,
      "outputs": []
    }
  ]
}