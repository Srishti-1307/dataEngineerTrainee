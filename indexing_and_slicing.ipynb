{
  "nbformat": 4,
  "nbformat_minor": 0,
  "metadata": {
    "colab": {
      "provenance": [],
      "authorship_tag": "ABX9TyN54Xc/k/zTFpszEUbWWUgQ",
      "include_colab_link": true
    },
    "kernelspec": {
      "name": "python3",
      "display_name": "Python 3"
    },
    "language_info": {
      "name": "python"
    }
  },
  "cells": [
    {
      "cell_type": "markdown",
      "metadata": {
        "id": "view-in-github",
        "colab_type": "text"
      },
      "source": [
        "<a href=\"https://colab.research.google.com/github/Srishti-1307/dataEngineerTrainee/blob/main/indexing_and_slicing.ipynb\" target=\"_parent\"><img src=\"https://colab.research.google.com/assets/colab-badge.svg\" alt=\"Open In Colab\"/></a>"
      ]
    },
    {
      "cell_type": "code",
      "source": [
        "import numpy as np"
      ],
      "metadata": {
        "id": "lO3HegISYRZ4"
      },
      "execution_count": null,
      "outputs": []
    },
    {
      "cell_type": "code",
      "execution_count": null,
      "metadata": {
        "colab": {
          "base_uri": "https://localhost:8080/"
        },
        "id": "nFJFYYJtWjoO",
        "outputId": "8c065ba9-ca14-4fa8-cf4c-fd801fef9107"
      },
      "outputs": [
        {
          "output_type": "stream",
          "name": "stdout",
          "text": [
            "16\n"
          ]
        }
      ],
      "source": [
        "cube = np.array([[[1, 2, 3],\n",
        "                  [4, 5, 6],\n",
        "                  [7, 8, 9]],\n",
        "\n",
        "                 [[10, 11, 12],\n",
        "                  [13, 14, 15],\n",
        "                  [16, 17, 18]]])\n",
        "\n",
        "print(cube[1,2,0])    # depth, row, col"
      ]
    },
    {
      "cell_type": "code",
      "source": [
        "# slicing example 1\n",
        "\n",
        "arr1 = np.array([[1,2,3],[3,4,5],[5,6,7]])\n",
        "print(arr1)\n",
        "print(arr1.ndim)"
      ],
      "metadata": {
        "colab": {
          "base_uri": "https://localhost:8080/"
        },
        "id": "0FMh-RdZYU6e",
        "outputId": "89e80c6e-18bf-4642-d3bc-83e9ebf0c1a6"
      },
      "execution_count": null,
      "outputs": [
        {
          "output_type": "stream",
          "name": "stdout",
          "text": [
            "[[1 2 3]\n",
            " [3 4 5]\n",
            " [5 6 7]]\n",
            "2\n"
          ]
        }
      ]
    },
    {
      "cell_type": "code",
      "source": [
        "print(arr1[0:2, 1:3])                #  arr[row , col]"
      ],
      "metadata": {
        "colab": {
          "base_uri": "https://localhost:8080/"
        },
        "id": "hCWCajW3Yzzg",
        "outputId": "d77e5a8d-a072-4655-b740-502e070b391c"
      },
      "execution_count": null,
      "outputs": [
        {
          "output_type": "stream",
          "name": "stdout",
          "text": [
            "[[2 3]\n",
            " [4 5]]\n"
          ]
        }
      ]
    },
    {
      "cell_type": "code",
      "source": [
        "# slicing example 2\n",
        "arr2 = np.array([[1, 2, 3, 4, 5], [6, 7, 8, 9, 10]])\n",
        "print(arr2)"
      ],
      "metadata": {
        "colab": {
          "base_uri": "https://localhost:8080/"
        },
        "id": "F3xIyj0uaGG9",
        "outputId": "5cf6fc5e-2cb7-4123-ef28-280915ceea7d"
      },
      "execution_count": null,
      "outputs": [
        {
          "output_type": "stream",
          "name": "stdout",
          "text": [
            "[[ 1  2  3  4  5]\n",
            " [ 6  7  8  9 10]]\n"
          ]
        }
      ]
    },
    {
      "cell_type": "code",
      "source": [
        "print(arr2[: , 1:4])"
      ],
      "metadata": {
        "colab": {
          "base_uri": "https://localhost:8080/"
        },
        "id": "L0VVZje2a-8u",
        "outputId": "8d0a985e-116a-47c6-b765-7272b72fd1a9"
      },
      "execution_count": null,
      "outputs": [
        {
          "output_type": "stream",
          "name": "stdout",
          "text": [
            "[[2 3 4]\n",
            " [7 8 9]]\n"
          ]
        }
      ]
    },
    {
      "cell_type": "code",
      "source": [
        "# boolean indexing\n",
        "arr3 = np.array((23,13,65,34,32,18,11))\n",
        "print(arr3[arr3>20])\n",
        "print(arr3[(arr3>20) & (arr3<50)])"
      ],
      "metadata": {
        "colab": {
          "base_uri": "https://localhost:8080/"
        },
        "id": "pfptdRupbOEN",
        "outputId": "c1f6c2d0-a0e5-42c6-a0b3-c1d5504f5e50"
      },
      "execution_count": null,
      "outputs": [
        {
          "output_type": "stream",
          "name": "stdout",
          "text": [
            "[23 65 34 32]\n",
            "[23 34 32]\n"
          ]
        }
      ]
    },
    {
      "cell_type": "code",
      "source": [
        "print(np.array([arr3>20]))"
      ],
      "metadata": {
        "colab": {
          "base_uri": "https://localhost:8080/"
        },
        "id": "df4lYvefcFnv",
        "outputId": "1d056a8e-a591-46f5-961f-5b7fc070df6c"
      },
      "execution_count": null,
      "outputs": [
        {
          "output_type": "stream",
          "name": "stdout",
          "text": [
            "[[ True False  True  True  True False False]]\n"
          ]
        }
      ]
    },
    {
      "cell_type": "code",
      "source": [
        "indices = [0,2,4]                        #fancy indexing\n",
        "print(arr3[indices])"
      ],
      "metadata": {
        "colab": {
          "base_uri": "https://localhost:8080/"
        },
        "id": "RruFLNOFcZJO",
        "outputId": "a69feef3-edd9-4140-d731-7623ebb503f4"
      },
      "execution_count": null,
      "outputs": [
        {
          "output_type": "stream",
          "name": "stdout",
          "text": [
            "[23 65 32]\n"
          ]
        }
      ]
    },
    {
      "cell_type": "code",
      "source": [
        "arr4= np.array([1,2,3])\n",
        "# np.newaxis keyword adds a new axis to the array which helps in converting a 1D array into a row or column vector.\n",
        "print(arr4[:, np.newaxis])"
      ],
      "metadata": {
        "colab": {
          "base_uri": "https://localhost:8080/"
        },
        "id": "8gyIbfh9d7pW",
        "outputId": "86ba331a-925b-415c-9bb5-4ad3786c67d6"
      },
      "execution_count": null,
      "outputs": [
        {
          "output_type": "stream",
          "name": "stdout",
          "text": [
            "[[1]\n",
            " [2]\n",
            " [3]]\n"
          ]
        }
      ]
    },
    {
      "cell_type": "code",
      "source": [
        "# dtype\n",
        "# For i, u, f, S and U we can define size as well; like"
      ],
      "metadata": {
        "id": "iXHTDldIjb_j"
      },
      "execution_count": null,
      "outputs": []
    },
    {
      "cell_type": "code",
      "source": [
        "fruits = np.array(['apple', 'mango', 'banana'])\n",
        "print(fruits.dtype)"
      ],
      "metadata": {
        "colab": {
          "base_uri": "https://localhost:8080/"
        },
        "id": "W9W_Eg38hY3c",
        "outputId": "5c7d7694-e384-4acf-cb29-4625eeaeeffb"
      },
      "execution_count": null,
      "outputs": [
        {
          "output_type": "stream",
          "name": "stdout",
          "text": [
            "<U6\n"
          ]
        }
      ]
    },
    {
      "cell_type": "code",
      "source": [
        "fruitsS = np.array(['apple', 'mango', 'banana'],dtype = 'S')"
      ],
      "metadata": {
        "id": "AvfGWVDXi7FF"
      },
      "execution_count": null,
      "outputs": []
    },
    {
      "cell_type": "code",
      "source": [
        "arr5 = np.array([1.1, 2.1, 32.1, 45.8])\n",
        "arr6 = arr5.astype('i')                          # or try:  arr5.astype(int)\n",
        "print(arr6)"
      ],
      "metadata": {
        "colab": {
          "base_uri": "https://localhost:8080/"
        },
        "id": "0d19YNjxjaES",
        "outputId": "5ab18e91-9b26-4ddd-ca2d-fa296a6835eb"
      },
      "execution_count": null,
      "outputs": [
        {
          "output_type": "stream",
          "name": "stdout",
          "text": [
            "[ 1  2 32 45]\n"
          ]
        }
      ]
    },
    {
      "cell_type": "code",
      "source": [
        "array = np.array([1, 2, 3, 4, 5, 6, 7, 8, 9, 10, 11, 12, 13, 14, 15, 16])\n",
        "print(str(array))"
      ],
      "metadata": {
        "id": "RFr3dOaw4DJ2",
        "colab": {
          "base_uri": "https://localhost:8080/"
        },
        "outputId": "d9ddcbdc-c534-430d-c5b1-1a52d3340a1b"
      },
      "execution_count": null,
      "outputs": [
        {
          "output_type": "stream",
          "name": "stdout",
          "text": [
            "[ 1  2  3  4  5  6  7  8  9 10 11 12 13 14 15 16]\n"
          ]
        }
      ]
    },
    {
      "cell_type": "code",
      "source": [
        "testArray = np.array([[1,2,3],[4,5,6]])\n",
        "testArray"
      ],
      "metadata": {
        "id": "iEOzqos6FUye",
        "colab": {
          "base_uri": "https://localhost:8080/"
        },
        "outputId": "09e1fe73-07f9-4deb-a41d-6fa4ee2aeff8"
      },
      "execution_count": null,
      "outputs": [
        {
          "output_type": "execute_result",
          "data": {
            "text/plain": [
              "array([[1, 2, 3],\n",
              "       [4, 5, 6]])"
            ]
          },
          "metadata": {},
          "execution_count": 3
        }
      ]
    },
    {
      "cell_type": "code",
      "source": [
        "print(testArray[[0, 1, 1], [0, 1, 2]])"
      ],
      "metadata": {
        "colab": {
          "base_uri": "https://localhost:8080/"
        },
        "id": "bs31Ka8tUnEP",
        "outputId": "8dda407e-cdbb-42c0-bdc7-ec147c33853c"
      },
      "execution_count": null,
      "outputs": [
        {
          "output_type": "stream",
          "name": "stdout",
          "text": [
            "[1 5 6]\n"
          ]
        }
      ]
    },
    {
      "cell_type": "code",
      "source": [],
      "metadata": {
        "id": "6n6XcfMmU0Ds"
      },
      "execution_count": null,
      "outputs": []
    }
  ]
}