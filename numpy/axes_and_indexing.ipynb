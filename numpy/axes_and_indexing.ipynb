{
 "cells": [
  {
   "cell_type": "markdown",
   "id": "559011e5-18bc-4bcf-a270-12abf9145f7e",
   "metadata": {},
   "source": [
    "#### 1D array  --- vector---  axis = 0 "
   ]
  },
  {
   "cell_type": "markdown",
   "id": "0024f045-e3ad-4514-ac57-5a6dbbde8bcc",
   "metadata": {},
   "source": [
    "#### 2D array -- matrix ---- \n",
    "* axis = 0 (refers to the rows) Vertical; operations are performed along col.\n",
    "* axis = 1 (refers to the col) Horizontal; operations are performed row-wise. "
   ]
  },
  {
   "cell_type": "markdown",
   "id": "897cde24-6391-4ab8-8222-4d5ae45e6388",
   "metadata": {},
   "source": [
    "#### Negative indexing\n",
    "* Negative axis values can be used to refer to axes from the end of the array.\n",
    "* For example, axis=-1 refers to the last axis, axis=-2 refers to the second to last axis, and so on...\n",
    "* In a 2D array, axis=-1 is equivalent to axis=1, and axis=-2 is equivalent to axis=0"
   ]
  },
  {
   "cell_type": "code",
   "execution_count": 2,
   "id": "a540f1d0-0f64-454d-a84d-b030d3ac378c",
   "metadata": {},
   "outputs": [],
   "source": [
    "import  numpy as np"
   ]
  },
  {
   "cell_type": "code",
   "execution_count": 3,
   "id": "3b08f4fc-080d-40bd-922f-9dfbbfee052e",
   "metadata": {},
   "outputs": [
    {
     "data": {
      "text/plain": [
       "array([[1, 2, 3, 4],\n",
       "       [4, 5, 6, 7]])"
      ]
     },
     "execution_count": 3,
     "metadata": {},
     "output_type": "execute_result"
    }
   ],
   "source": [
    "arr1 = np.array([[1,2,3,4],[4,5,6,7]])\n",
    "arr1"
   ]
  },
  {
   "cell_type": "code",
   "execution_count": 5,
   "id": "c7307fd2-a4d7-4973-9f31-be7b8ffa7f2d",
   "metadata": {},
   "outputs": [
    {
     "data": {
      "text/plain": [
       "array([ 5,  7,  9, 11])"
      ]
     },
     "execution_count": 5,
     "metadata": {},
     "output_type": "execute_result"
    }
   ],
   "source": [
    "arr1Axis0Sum = np.sum(arr1, axis = 0) \n",
    "arr1Axis0Sum"
   ]
  },
  {
   "cell_type": "code",
   "execution_count": 6,
   "id": "a9a75a79-32fe-4cfa-bddb-f95e0cdb95be",
   "metadata": {},
   "outputs": [
    {
     "data": {
      "text/plain": [
       "array([10, 22])"
      ]
     },
     "execution_count": 6,
     "metadata": {},
     "output_type": "execute_result"
    }
   ],
   "source": [
    "arr1Axis1Sum = np.sum(arr1, axis = 1)\n",
    "arr1Axis1Sum"
   ]
  },
  {
   "cell_type": "code",
   "execution_count": null,
   "id": "b09634b5-6a12-4e74-a5af-6823b9b5010e",
   "metadata": {},
   "outputs": [],
   "source": []
  },
  {
   "cell_type": "markdown",
   "id": "1c68e96f-30e2-4c83-a377-6d14d0bc294c",
   "metadata": {},
   "source": [
    "#### Boolean Indexing\n",
    "* It involves creating a \"Boolean mask\" which is a NumPy array of True and False values, and then using this mask to index the original array.\n"
   ]
  },
  {
   "cell_type": "code",
   "execution_count": 37,
   "id": "090a5e48-ce4c-43ad-9703-3b503d8320dc",
   "metadata": {},
   "outputs": [
    {
     "data": {
      "text/plain": [
       "array([ 34,  65,  45,  65,  98, 102,  21,  37])"
      ]
     },
     "execution_count": 37,
     "metadata": {},
     "output_type": "execute_result"
    }
   ],
   "source": [
    "arr2 = np.array([34,65,45,65,98,102,21,37])                # the original array\n",
    "arr2"
   ]
  },
  {
   "cell_type": "code",
   "execution_count": 41,
   "id": "730cc621-5fde-4bb9-b096-b301562e694b",
   "metadata": {},
   "outputs": [
    {
     "data": {
      "text/plain": [
       "array([False,  True, False,  True,  True,  True, False, False])"
      ]
     },
     "execution_count": 41,
     "metadata": {},
     "output_type": "execute_result"
    }
   ],
   "source": [
    "mask = arr2 > 50                                            # creating mask\n",
    "mask"
   ]
  },
  {
   "cell_type": "code",
   "execution_count": 18,
   "id": "5250261a-d82d-4603-aaa5-01a4fc2fdce6",
   "metadata": {},
   "outputs": [
    {
     "data": {
      "text/plain": [
       "array([ 65,  65,  98, 102])"
      ]
     },
     "execution_count": 18,
     "metadata": {},
     "output_type": "execute_result"
    }
   ],
   "source": [
    "arr2[mask]                                                # boolean indexing helped to get only those elements from arr2  which are > 50 "
   ]
  },
  {
   "cell_type": "code",
   "execution_count": 20,
   "id": "810d40a1-9b7e-4c13-9b30-a1be8d64d893",
   "metadata": {},
   "outputs": [
    {
     "data": {
      "text/plain": [
       "array([ 65,  65,  98, 102])"
      ]
     },
     "execution_count": 20,
     "metadata": {},
     "output_type": "execute_result"
    }
   ],
   "source": [
    "arr2[arr2>50]                              # directly also works!"
   ]
  },
  {
   "cell_type": "code",
   "execution_count": 34,
   "id": "cc993506-3394-4104-a94c-c34fa383a77d",
   "metadata": {},
   "outputs": [
    {
     "data": {
      "text/plain": [
       "array([  0,  65,   0,  65,  98, 102,   0,   0])"
      ]
     },
     "execution_count": 34,
     "metadata": {},
     "output_type": "execute_result"
    }
   ],
   "source": [
    "# making elements below 50 = 0  THIS IS NOTHING BUT CONDITIONAL REPLACEMENT.\n",
    "arr2[arr2<50] = 00                                    # creating changes in original array!\n",
    "arr2"
   ]
  },
  {
   "cell_type": "code",
   "execution_count": 42,
   "id": "feb1bf78-6849-4f05-9545-ec3f691a0886",
   "metadata": {},
   "outputs": [
    {
     "data": {
      "text/plain": [
       "array([  0,  65,   0,  65,  98, 102,  21,   0])"
      ]
     },
     "execution_count": 42,
     "metadata": {},
     "output_type": "execute_result"
    }
   ],
   "source": [
    "# Conditional replacement method - 2   ----- using where function ------ where(condition, newValue, array)\n",
    "arr2New = np.where((arr2 < 50) & (arr2>30), 0, arr2)\n",
    "arr2New"
   ]
  },
  {
   "cell_type": "markdown",
   "id": "43be5267-bade-4f4a-8685-5beab8ff4038",
   "metadata": {},
   "source": [
    "##### Key difference\n",
    "* Boolean indexing modifies the array in-place, while np.where() typically returns a new array."
   ]
  },
  {
   "cell_type": "code",
   "execution_count": null,
   "id": "2497e7ee-990e-4726-8a36-c5c54d8468de",
   "metadata": {},
   "outputs": [],
   "source": []
  }
 ],
 "metadata": {
  "kernelspec": {
   "display_name": "Python 3 (ipykernel)",
   "language": "python",
   "name": "python3"
  },
  "language_info": {
   "codemirror_mode": {
    "name": "ipython",
    "version": 3
   },
   "file_extension": ".py",
   "mimetype": "text/x-python",
   "name": "python",
   "nbconvert_exporter": "python",
   "pygments_lexer": "ipython3",
   "version": "3.10.12"
  }
 },
 "nbformat": 4,
 "nbformat_minor": 5
}
