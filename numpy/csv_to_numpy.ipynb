{
 "cells": [
  {
   "cell_type": "code",
   "execution_count": 38,
   "id": "f52fcb75-f71d-4a7d-aa9e-280b3611714b",
   "metadata": {},
   "outputs": [],
   "source": [
    "import numpy as np"
   ]
  },
  {
   "cell_type": "markdown",
   "id": "c8d354cf-d5f6-4255-90d7-f43025e6f99a",
   "metadata": {},
   "source": [
    "### Loading txt and csv files"
   ]
  },
  {
   "cell_type": "markdown",
   "id": "5af1552a-6acf-44da-b59b-e565e66a3c15",
   "metadata": {},
   "source": [
    "#### 1) numpy.loadtxt()"
   ]
  },
  {
   "cell_type": "code",
   "execution_count": 11,
   "id": "4960fbd5-ed2f-491b-b2ed-a5d1dd9b987f",
   "metadata": {},
   "outputs": [
    {
     "name": "stdout",
     "output_type": "stream",
     "text": [
      "[[1. 2. 3. 4. 5.]\n",
      " [2. 3. 4. 5. 6.]\n",
      " [3. 4. 5. 6. 7.]\n",
      " [4. 5. 6. 7. 8.]\n",
      " [5. 6. 7. 8. 9.]]\n"
     ]
    }
   ],
   "source": [
    "arr1 = np.loadtxt('demo.csv', delimiter=',')\n",
    "print(arr1)"
   ]
  },
  {
   "cell_type": "markdown",
   "id": "82068c2c-46ef-4ebc-96f9-0ad1a1728fc0",
   "metadata": {},
   "source": [
    "#### 2) numpy.genfromtxt()"
   ]
  },
  {
   "cell_type": "code",
   "execution_count": 44,
   "id": "9a1d1f89-99e7-43e2-a57f-7c470c636c51",
   "metadata": {},
   "outputs": [],
   "source": [
    "arr2 = np.genfromtxt('data.csv', delimiter=',', dtype=None, encoding=None)"
   ]
  },
  {
   "cell_type": "code",
   "execution_count": 45,
   "id": "056f2cb1-81ca-42c7-8439-9f5f915d10c1",
   "metadata": {},
   "outputs": [
    {
     "data": {
      "text/plain": [
       "array([['\"f1\"', '\"f2\"', '\"f3\"', ..., '\"f616\"', '\"f617\"', '\"class\"'],\n",
       "       ['-0.4394', '-0.093', '0.1718', ..., '0.5898', '-0.4872', \"'1'\"],\n",
       "       ['-0.4348', '-0.1198', '0.2474', ..., '0.4546', '-0.091', \"'1'\"],\n",
       "       ...,\n",
       "       ['-0.6696', '-0.373', '0.1584', ..., '0.0728', '-0.5818', \"'25'\"],\n",
       "       ['-0.5764', '-0.1764', '0.5106', ..., '-0.0434', '-0.5', \"'26'\"],\n",
       "       ['-0.6624', '-0.3334', '0.3666', ..., '-0.1708', '-0.317', \"'26'\"]],\n",
       "      shape=(7798, 618), dtype='<U7')"
      ]
     },
     "execution_count": 45,
     "metadata": {},
     "output_type": "execute_result"
    }
   ],
   "source": [
    "arr2"
   ]
  },
  {
   "cell_type": "code",
   "execution_count": 86,
   "id": "7a363bdc-45b6-4a7e-b348-45dcd53149f6",
   "metadata": {},
   "outputs": [],
   "source": [
    "a2 = np.ones(5)"
   ]
  },
  {
   "cell_type": "code",
   "execution_count": 78,
   "id": "11095a55-4ac7-4536-9f1b-aa4d5092289e",
   "metadata": {},
   "outputs": [],
   "source": [
    "a1 = np.array([32,13,42,21,33])"
   ]
  },
  {
   "cell_type": "code",
   "execution_count": 87,
   "id": "05670ebf-1d3a-43ab-bb13-5ec5313d0efc",
   "metadata": {},
   "outputs": [
    {
     "data": {
      "text/plain": [
       "array([42., 33., 32., 21., 13.,  1.,  1.,  1.,  1.,  1.])"
      ]
     },
     "execution_count": 87,
     "metadata": {},
     "output_type": "execute_result"
    }
   ],
   "source": [
    "np.append(a1, a2)"
   ]
  },
  {
   "cell_type": "code",
   "execution_count": 75,
   "id": "9290c09c-2196-4dc5-9b81-d9f0957bb2d2",
   "metadata": {},
   "outputs": [
    {
     "data": {
      "text/plain": [
       "array([[13, 21, 32, 33, 42],\n",
       "       [11, 12, 23, 42, 44]])"
      ]
     },
     "execution_count": 75,
     "metadata": {},
     "output_type": "execute_result"
    }
   ],
   "source": [
    "a1"
   ]
  },
  {
   "cell_type": "code",
   "execution_count": 94,
   "id": "999a17db-bc69-44ea-948b-dcaf20185333",
   "metadata": {},
   "outputs": [],
   "source": []
  },
  {
   "cell_type": "code",
   "execution_count": 95,
   "id": "a27c3105-99ed-4e23-9d06-0792d03e1d75",
   "metadata": {},
   "outputs": [
    {
     "data": {
      "text/plain": [
       "array([[14,  5, 17, 24,  1,  9, 17, 25, 18, 22, 27, 11, 24, 14, 28, 19,\n",
       "        25,  9, 29,  8,  6,  8,  7,  8],\n",
       "       [24, 18,  3, 26,  2, 19, 11, 14, 23, 13,  3, 20, 13,  2,  9, 21,\n",
       "        22,  9, 19, 20, 23,  2, 25, 21],\n",
       "       [14, 17, 13, 29, 24, 19,  8, 13, 11, 24, 20,  1, 17, 27,  9, 10,\n",
       "        13, 22, 13,  9, 13, 25,  6, 26],\n",
       "       [18,  9, 15, 24, 20, 17, 19, 20,  7,  2,  1, 28, 20, 11, 21, 20,\n",
       "         8, 12,  7, 10, 21,  9, 12,  5],\n",
       "       [ 4, 28, 11,  7,  9, 11, 20, 18, 13,  8, 22,  7, 23, 24, 23,  2,\n",
       "        24, 14,  7, 10, 11, 14, 25, 13],\n",
       "       [ 8, 14, 26, 26, 10, 12, 13, 19, 16, 17,  3,  3, 13, 10, 16, 29,\n",
       "        24, 20, 17, 17,  4,  6,  8, 20],\n",
       "       [27, 16, 21, 13,  3,  4,  5, 13, 22, 14, 26, 19, 19, 20, 20, 22,\n",
       "         2, 11, 14,  8, 28, 14,  1,  9]])"
      ]
     },
     "execution_count": 95,
     "metadata": {},
     "output_type": "execute_result"
    }
   ],
   "source": [
    "arr5"
   ]
  },
  {
   "cell_type": "code",
   "execution_count": 104,
   "id": "641b0895-196c-40a6-867c-5450bdf173bb",
   "metadata": {},
   "outputs": [
    {
     "name": "stdout",
     "output_type": "stream",
     "text": [
      "[375 362 383 336 348 351 351]\n"
     ]
    }
   ],
   "source": []
  },
  {
   "cell_type": "code",
   "execution_count": 105,
   "id": "55f0d136-a9d6-4013-acb0-3bd511033060",
   "metadata": {},
   "outputs": [
    {
     "name": "stdout",
     "output_type": "stream",
     "text": [
      "[15.62 15.08 15.96 14.   14.5  14.62 14.62]\n"
     ]
    }
   ],
   "source": []
  },
  {
   "cell_type": "code",
   "execution_count": 107,
   "id": "d2938cdd-2a6c-4238-bc97-93281ad80541",
   "metadata": {},
   "outputs": [
    {
     "name": "stdout",
     "output_type": "stream",
     "text": [
      "[67.57 63.91 52.46 50.   53.58 52.15 62.07]\n"
     ]
    }
   ],
   "source": []
  },
  {
   "cell_type": "code",
   "execution_count": null,
   "id": "4ebdc065-6b03-46e3-9db3-414f80474684",
   "metadata": {},
   "outputs": [],
   "source": []
  }
 ],
 "metadata": {
  "kernelspec": {
   "display_name": "Python 3 (ipykernel)",
   "language": "python",
   "name": "python3"
  },
  "language_info": {
   "codemirror_mode": {
    "name": "ipython",
    "version": 3
   },
   "file_extension": ".py",
   "mimetype": "text/x-python",
   "name": "python",
   "nbconvert_exporter": "python",
   "pygments_lexer": "ipython3",
   "version": "3.10.12"
  }
 },
 "nbformat": 4,
 "nbformat_minor": 5
}
