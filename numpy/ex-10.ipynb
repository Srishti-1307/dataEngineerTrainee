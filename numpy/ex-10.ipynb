{
 "cells": [
  {
   "cell_type": "code",
   "execution_count": 1,
   "id": "3937621c-2bba-4097-a34b-15991a873fa8",
   "metadata": {},
   "outputs": [],
   "source": [
    "import numpy as np"
   ]
  },
  {
   "cell_type": "code",
   "execution_count": 2,
   "id": "3e4c7fba-e958-40d9-bdde-9224cf8acbcb",
   "metadata": {},
   "outputs": [],
   "source": [
    "arr5 = np.random.randint(1,30, size=(7,24))"
   ]
  },
  {
   "cell_type": "code",
   "execution_count": 6,
   "id": "42b5b161-87e5-4267-9aa3-c07b72d8b66f",
   "metadata": {},
   "outputs": [
    {
     "data": {
      "text/plain": [
       "array([[17,  4, 26,  2, 25, 18,  9,  4, 19, 10, 17, 10, 21, 22,  7, 14,\n",
       "         8, 12, 14, 22, 19, 24, 18, 10],\n",
       "       [ 4, 20,  9,  2, 17, 15, 28,  9, 26, 13, 22, 24,  9, 10,  7, 17,\n",
       "        25, 25, 27, 12,  8,  7, 29,  1],\n",
       "       [ 7, 17, 21,  5, 21, 19, 27,  8, 27, 18, 26, 24, 23,  6, 27, 27,\n",
       "        15, 16, 23, 19, 28,  8, 11,  1],\n",
       "       [17, 12,  3,  9, 15, 11,  5, 10, 21, 12, 17, 15,  1,  1,  5, 29,\n",
       "        11, 10, 11, 21, 29, 22,  9, 15],\n",
       "       [15, 10,  3,  8,  4, 25, 25, 15,  5,  8, 26, 23, 22, 11,  3,  7,\n",
       "        26,  2, 22,  6,  4, 25, 28,  8],\n",
       "       [28,  7, 26, 16, 18,  1, 20,  4, 26, 10, 23, 11, 11,  2, 26, 26,\n",
       "        14,  7, 17,  3, 19,  5, 29, 18],\n",
       "       [14, 10,  7, 13, 19,  3,  2, 21, 28, 18, 21,  6, 10, 19,  6, 20,\n",
       "        26,  6, 29,  2,  3,  4, 17,  7]])"
      ]
     },
     "execution_count": 6,
     "metadata": {},
     "output_type": "execute_result"
    }
   ],
   "source": [
    "arr5"
   ]
  },
  {
   "cell_type": "code",
   "execution_count": 3,
   "id": "f898f7f4-af22-44ec-8c0c-006aa25dcad2",
   "metadata": {},
   "outputs": [
    {
     "name": "stdout",
     "output_type": "stream",
     "text": [
      "[352 366 424 311 331 367 311]\n"
     ]
    }
   ],
   "source": [
    "print(np.sum(arr5, axis=1))"
   ]
  },
  {
   "cell_type": "code",
   "execution_count": 4,
   "id": "ba83edb4-be92-49e9-883c-1cbce401553a",
   "metadata": {},
   "outputs": [
    {
     "name": "stdout",
     "output_type": "stream",
     "text": [
      "[14.67 15.25 17.67 12.96 13.79 15.29 12.96]\n"
     ]
    }
   ],
   "source": [
    "print(np.round(np.mean(arr5, axis=1),decimals=2))"
   ]
  },
  {
   "cell_type": "code",
   "execution_count": 5,
   "id": "79dac01c-2148-4e1a-abe5-c61e5c068eb1",
   "metadata": {},
   "outputs": [
    {
     "name": "stdout",
     "output_type": "stream",
     "text": [
      "[47.39 75.02 65.72 56.04 82.08 78.79 70.87]\n"
     ]
    }
   ],
   "source": [
    "print(np.round(np.var(arr5, axis=1),decimals=2))"
   ]
  },
  {
   "cell_type": "code",
   "execution_count": null,
   "id": "56352d67-d70d-434e-9aaa-65716bfdbd23",
   "metadata": {},
   "outputs": [],
   "source": []
  }
 ],
 "metadata": {
  "kernelspec": {
   "display_name": "Python 3 (ipykernel)",
   "language": "python",
   "name": "python3"
  },
  "language_info": {
   "codemirror_mode": {
    "name": "ipython",
    "version": 3
   },
   "file_extension": ".py",
   "mimetype": "text/x-python",
   "name": "python",
   "nbconvert_exporter": "python",
   "pygments_lexer": "ipython3",
   "version": "3.10.12"
  }
 },
 "nbformat": 4,
 "nbformat_minor": 5
}
