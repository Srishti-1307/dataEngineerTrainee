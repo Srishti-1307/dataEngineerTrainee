{
 "cells": [
  {
   "cell_type": "code",
   "execution_count": 1,
   "id": "26b3c083-0179-4119-8b39-26cdc419808a",
   "metadata": {},
   "outputs": [],
   "source": [
    "import numpy as np"
   ]
  },
  {
   "cell_type": "code",
   "execution_count": 3,
   "id": "0f36ed83-2aae-4f67-866b-604fb92c76e2",
   "metadata": {},
   "outputs": [
    {
     "data": {
      "text/plain": [
       "array([[88, 56, 71, 22, 37, 34],\n",
       "       [90, 90, 55, 36, 87, 27],\n",
       "       [33, 36, 79, 26, 90, 55],\n",
       "       [80, 84, 50, 81, 90, 47],\n",
       "       [88, 93, 33, 19, 33, 14],\n",
       "       [68, 71, 86, 33, 23, 71],\n",
       "       [98, 40, 12, 79, 69, 64]])"
      ]
     },
     "execution_count": 3,
     "metadata": {},
     "output_type": "execute_result"
    }
   ],
   "source": [
    "arr1 = np.random.randint(10,100, size=(7,6))\n",
    "arr1"
   ]
  },
  {
   "cell_type": "markdown",
   "id": "12abaee3-f8d4-469d-b40d-7852451c7c62",
   "metadata": {},
   "source": [
    "#### Computing the average per sensor."
   ]
  },
  {
   "cell_type": "code",
   "execution_count": 6,
   "id": "ead485df-8c29-48c3-82c5-2959114696d2",
   "metadata": {},
   "outputs": [
    {
     "data": {
      "text/plain": [
       "array([77.86, 67.14, 55.14, 42.29, 61.29, 44.57])"
      ]
     },
     "execution_count": 6,
     "metadata": {},
     "output_type": "execute_result"
    }
   ],
   "source": [
    "avg_per_sensor = np.round((np.average(arr1, axis=0)), decimals = 2)\n",
    "avg_per_sensor"
   ]
  },
  {
   "cell_type": "markdown",
   "id": "625a8f7f-4832-4a4e-82b2-51d8d0975fc2",
   "metadata": {},
   "source": [
    "#### Finding the day with maximum total reading."
   ]
  },
  {
   "cell_type": "code",
   "execution_count": 7,
   "id": "4506a33d-79f8-4568-8bc5-f967d1288810",
   "metadata": {},
   "outputs": [
    {
     "data": {
      "text/plain": [
       "array([308, 385, 319, 432, 280, 352, 362])"
      ]
     },
     "execution_count": 7,
     "metadata": {},
     "output_type": "execute_result"
    }
   ],
   "source": [
    "total_reading_per_day = np.sum(arr1, axis=1)\n",
    "total_reading_per_day"
   ]
  },
  {
   "cell_type": "code",
   "execution_count": 11,
   "id": "4840b2ae-da6b-4ace-b0a5-b88f8063eb22",
   "metadata": {},
   "outputs": [
    {
     "data": {
      "text/plain": [
       "np.int64(3)"
      ]
     },
     "execution_count": 11,
     "metadata": {},
     "output_type": "execute_result"
    }
   ],
   "source": [
    "np.argmax(total_reading_per_day)"
   ]
  },
  {
   "cell_type": "code",
   "execution_count": null,
   "id": "1d2c799b-caac-4ee0-89ec-f70907996b84",
   "metadata": {},
   "outputs": [],
   "source": []
  }
 ],
 "metadata": {
  "kernelspec": {
   "display_name": "Python 3 (ipykernel)",
   "language": "python",
   "name": "python3"
  },
  "language_info": {
   "codemirror_mode": {
    "name": "ipython",
    "version": 3
   },
   "file_extension": ".py",
   "mimetype": "text/x-python",
   "name": "python",
   "nbconvert_exporter": "python",
   "pygments_lexer": "ipython3",
   "version": "3.10.12"
  }
 },
 "nbformat": 4,
 "nbformat_minor": 5
}
