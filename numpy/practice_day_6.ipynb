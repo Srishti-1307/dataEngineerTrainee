{
 "cells": [
  {
   "cell_type": "code",
   "execution_count": 33,
   "id": "8a13536b-2c6d-42ff-99e6-d8cf209e5b94",
   "metadata": {},
   "outputs": [],
   "source": [
    "import numpy as np"
   ]
  },
  {
   "cell_type": "code",
   "execution_count": 34,
   "id": "c094f3c4-2c75-4eaa-97dc-d7065dec6cc6",
   "metadata": {},
   "outputs": [],
   "source": [
    "import datetime\n",
    "l=[]"
   ]
  },
  {
   "cell_type": "code",
   "execution_count": 35,
   "id": "a8228bb1-1cd6-450b-b0bb-3e39f7552ee5",
   "metadata": {},
   "outputs": [],
   "source": [
    "def daily_sensor_data(num_days=7, const_temp=25):\n",
    "    start_date = datetime.date(2025, 7, 13)\n",
    "    for i in range(num_days):\n",
    "        daily_temp = const_temp + (i*0.5)+ np.random.normal(0)\n",
    "        yield start_date , daily_temp\n",
    "        l.append(daily_temp)\n",
    "        start_date += datetime.timedelta(days=1)"
   ]
  },
  {
   "cell_type": "code",
   "execution_count": 36,
   "id": "916ab699-c85d-4373-abe4-bd7ffa1e3bf3",
   "metadata": {},
   "outputs": [
    {
     "name": "stdout",
     "output_type": "stream",
     "text": [
      "Date: 2025-07-13, Temperature: 25.50 °C\n",
      "Date: 2025-07-14, Temperature: 26.77 °C\n",
      "Date: 2025-07-15, Temperature: 25.53 °C\n",
      "Date: 2025-07-16, Temperature: 25.76 °C\n",
      "Date: 2025-07-17, Temperature: 27.83 °C\n",
      "Date: 2025-07-18, Temperature: 28.56 °C\n",
      "Date: 2025-07-19, Temperature: 27.97 °C\n"
     ]
    }
   ],
   "source": [
    "\n",
    "res = daily_sensor_data()\n",
    "\n",
    "for date, temperature in res:\n",
    "    print(f\"Date: {date}, Temperature: {temperature:.2f} °C\")\n",
    "\n"
   ]
  },
  {
   "cell_type": "code",
   "execution_count": 37,
   "id": "9f5ca83e-f827-4f90-a3ff-8141320e5ba8",
   "metadata": {},
   "outputs": [],
   "source": [
    "arr = np.array([l])"
   ]
  },
  {
   "cell_type": "code",
   "execution_count": 38,
   "id": "fb6ebec0-c12e-4fcb-bdd9-905451a8a0d4",
   "metadata": {},
   "outputs": [
    {
     "data": {
      "text/plain": [
       "array([[25.49542466, 26.77111078, 25.531009  , 25.75866975, 27.82718962,\n",
       "        28.55908531, 27.97350616]])"
      ]
     },
     "execution_count": 38,
     "metadata": {},
     "output_type": "execute_result"
    }
   ],
   "source": [
    "arr"
   ]
  },
  {
   "cell_type": "code",
   "execution_count": 40,
   "id": "3195b22f-1d92-49e4-98b3-7086f964d06d",
   "metadata": {},
   "outputs": [
    {
     "name": "stdout",
     "output_type": "stream",
     "text": [
      "26.85\n"
     ]
    }
   ],
   "source": [
    "print(np.round(np.mean(arr), decimals=2))"
   ]
  },
  {
   "cell_type": "code",
   "execution_count": 42,
   "id": "bae6c9f0-5504-4135-8ea6-14e17b518129",
   "metadata": {},
   "outputs": [
    {
     "name": "stdout",
     "output_type": "stream",
     "text": [
      "25.5\n"
     ]
    }
   ],
   "source": [
    "print(np.round(np.min(arr), decimals=2))"
   ]
  },
  {
   "cell_type": "code",
   "execution_count": 43,
   "id": "2fc8b9da-113d-4759-8b63-ffcb10db47eb",
   "metadata": {},
   "outputs": [
    {
     "name": "stdout",
     "output_type": "stream",
     "text": [
      "28.56\n"
     ]
    }
   ],
   "source": [
    "print(np.round(np.max(arr), decimals=2))"
   ]
  },
  {
   "cell_type": "code",
   "execution_count": 44,
   "id": "86403bf3-99a2-4eae-8c54-20f29a8c57e2",
   "metadata": {},
   "outputs": [
    {
     "name": "stdout",
     "output_type": "stream",
     "text": [
      "26.77\n"
     ]
    }
   ],
   "source": [
    "print(np.round(np.median(arr), decimals=2))"
   ]
  },
  {
   "cell_type": "code",
   "execution_count": 45,
   "id": "85a69aae-9d20-413e-83df-a606cf2f8ead",
   "metadata": {},
   "outputs": [
    {
     "name": "stdout",
     "output_type": "stream",
     "text": [
      "1.19\n"
     ]
    }
   ],
   "source": [
    "print(np.round(np.std(arr), decimals=2))"
   ]
  },
  {
   "cell_type": "code",
   "execution_count": null,
   "id": "482a5047-f804-4ac4-b8e9-592b1833a46f",
   "metadata": {},
   "outputs": [],
   "source": []
  }
 ],
 "metadata": {
  "kernelspec": {
   "display_name": "Python 3 (ipykernel)",
   "language": "python",
   "name": "python3"
  },
  "language_info": {
   "codemirror_mode": {
    "name": "ipython",
    "version": 3
   },
   "file_extension": ".py",
   "mimetype": "text/x-python",
   "name": "python",
   "nbconvert_exporter": "python",
   "pygments_lexer": "ipython3",
   "version": "3.10.12"
  }
 },
 "nbformat": 4,
 "nbformat_minor": 5
}
