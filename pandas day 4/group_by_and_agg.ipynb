{
 "cells": [
  {
   "cell_type": "code",
   "execution_count": 1,
   "id": "a4aee016-6a03-404c-abaa-d524633af877",
   "metadata": {},
   "outputs": [],
   "source": [
    "import pandas as pd\n",
    "import os"
   ]
  },
  {
   "cell_type": "markdown",
   "id": "d98da7e7-0ae8-4e3a-912d-dfa52bded690",
   "metadata": {},
   "source": [
    "#### groupby: split, apply, combine\n",
    "Structure: \n",
    "* Splitting: groupby('col_name')/ groupby(['col1', 'col2'])\n",
    "* Apply: aggregation/transformation\n",
    "* Combine: Finally, the results combined back into a single, cohesive data structure, (new DataFrame or Series)"
   ]
  },
  {
   "cell_type": "code",
   "execution_count": 42,
   "id": "0676aaed-d0cc-44d8-bafe-41e8ff4810ac",
   "metadata": {},
   "outputs": [
    {
     "data": {
      "text/html": [
       "<div>\n",
       "<style scoped>\n",
       "    .dataframe tbody tr th:only-of-type {\n",
       "        vertical-align: middle;\n",
       "    }\n",
       "\n",
       "    .dataframe tbody tr th {\n",
       "        vertical-align: top;\n",
       "    }\n",
       "\n",
       "    .dataframe thead th {\n",
       "        text-align: right;\n",
       "    }\n",
       "</style>\n",
       "<table border=\"1\" class=\"dataframe\">\n",
       "  <thead>\n",
       "    <tr style=\"text-align: right;\">\n",
       "      <th></th>\n",
       "      <th>Region</th>\n",
       "      <th>Product</th>\n",
       "      <th>Sales</th>\n",
       "    </tr>\n",
       "  </thead>\n",
       "  <tbody>\n",
       "    <tr>\n",
       "      <th>0</th>\n",
       "      <td>East</td>\n",
       "      <td>X</td>\n",
       "      <td>100</td>\n",
       "    </tr>\n",
       "    <tr>\n",
       "      <th>1</th>\n",
       "      <td>West</td>\n",
       "      <td>Y</td>\n",
       "      <td>150</td>\n",
       "    </tr>\n",
       "    <tr>\n",
       "      <th>2</th>\n",
       "      <td>East</td>\n",
       "      <td>X</td>\n",
       "      <td>120</td>\n",
       "    </tr>\n",
       "    <tr>\n",
       "      <th>3</th>\n",
       "      <td>West</td>\n",
       "      <td>Y</td>\n",
       "      <td>180</td>\n",
       "    </tr>\n",
       "    <tr>\n",
       "      <th>4</th>\n",
       "      <td>East</td>\n",
       "      <td>Z</td>\n",
       "      <td>90</td>\n",
       "    </tr>\n",
       "    <tr>\n",
       "      <th>5</th>\n",
       "      <td>West</td>\n",
       "      <td>X</td>\n",
       "      <td>110</td>\n",
       "    </tr>\n",
       "  </tbody>\n",
       "</table>\n",
       "</div>"
      ],
      "text/plain": [
       "  Region Product  Sales\n",
       "0   East       X    100\n",
       "1   West       Y    150\n",
       "2   East       X    120\n",
       "3   West       Y    180\n",
       "4   East       Z     90\n",
       "5   West       X    110"
      ]
     },
     "execution_count": 42,
     "metadata": {},
     "output_type": "execute_result"
    }
   ],
   "source": [
    "data = {'Region': ['East', 'West', 'East', 'West', 'East', 'West'],\n",
    "        'Product': ['X', 'Y', 'X', 'Y', 'Z', 'X'],\n",
    "        'Sales': [100, 150, 120, 180, 90, 110]}\n",
    "\n",
    "df = pd.DataFrame(data)\n",
    "df"
   ]
  },
  {
   "cell_type": "markdown",
   "id": "06e12ebc-5c04-48b1-b87e-35fde0a4be30",
   "metadata": {},
   "source": [
    "#### Grouping by a Single Column and Aggregating"
   ]
  },
  {
   "cell_type": "code",
   "execution_count": 3,
   "id": "28ecdced-be34-45c7-95c8-c7636985d71c",
   "metadata": {},
   "outputs": [
    {
     "data": {
      "text/plain": [
       "Region\n",
       "East    310\n",
       "West    440\n",
       "Name: Sales, dtype: int64"
      ]
     },
     "execution_count": 3,
     "metadata": {},
     "output_type": "execute_result"
    }
   ],
   "source": [
    "df.groupby('Region')['Sales'].sum()                           # o/p - series"
   ]
  },
  {
   "cell_type": "markdown",
   "id": "2d8d03ee-23f3-4739-9a24-3003809a23c9",
   "metadata": {},
   "source": [
    "#### Grouping by Multiple Columns"
   ]
  },
  {
   "cell_type": "code",
   "execution_count": 4,
   "id": "8611b505-7b98-46c5-814d-57ead7ccc6b1",
   "metadata": {},
   "outputs": [
    {
     "data": {
      "text/plain": [
       "Region  Product\n",
       "East    X          220\n",
       "        Z           90\n",
       "West    X          110\n",
       "        Y          330\n",
       "Name: Sales, dtype: int64"
      ]
     },
     "execution_count": 4,
     "metadata": {},
     "output_type": "execute_result"
    }
   ],
   "source": [
    "df.groupby(['Region', 'Product'])['Sales'].sum()                       # o/p - df"
   ]
  },
  {
   "cell_type": "markdown",
   "id": "1df1d263-d90b-4f0f-b5be-9b8afcd10bb4",
   "metadata": {},
   "source": [
    "#### Applying Multiple Aggregations"
   ]
  },
  {
   "cell_type": "code",
   "execution_count": 5,
   "id": "5512691f-32f1-47bb-805d-b02df6803a14",
   "metadata": {},
   "outputs": [
    {
     "name": "stderr",
     "output_type": "stream",
     "text": [
      "/tmp/ipykernel_13676/2718265752.py:1: FutureWarning: The provided callable <built-in function min> is currently using SeriesGroupBy.min. In a future version of pandas, the provided callable will be used directly. To keep current behavior pass the string \"min\" instead.\n",
      "  df.groupby('Product')['Sales'].agg(['mean', min, 'max'])\n"
     ]
    },
    {
     "data": {
      "text/html": [
       "<div>\n",
       "<style scoped>\n",
       "    .dataframe tbody tr th:only-of-type {\n",
       "        vertical-align: middle;\n",
       "    }\n",
       "\n",
       "    .dataframe tbody tr th {\n",
       "        vertical-align: top;\n",
       "    }\n",
       "\n",
       "    .dataframe thead th {\n",
       "        text-align: right;\n",
       "    }\n",
       "</style>\n",
       "<table border=\"1\" class=\"dataframe\">\n",
       "  <thead>\n",
       "    <tr style=\"text-align: right;\">\n",
       "      <th></th>\n",
       "      <th>mean</th>\n",
       "      <th>min</th>\n",
       "      <th>max</th>\n",
       "    </tr>\n",
       "    <tr>\n",
       "      <th>Product</th>\n",
       "      <th></th>\n",
       "      <th></th>\n",
       "      <th></th>\n",
       "    </tr>\n",
       "  </thead>\n",
       "  <tbody>\n",
       "    <tr>\n",
       "      <th>X</th>\n",
       "      <td>110.0</td>\n",
       "      <td>100</td>\n",
       "      <td>120</td>\n",
       "    </tr>\n",
       "    <tr>\n",
       "      <th>Y</th>\n",
       "      <td>165.0</td>\n",
       "      <td>150</td>\n",
       "      <td>180</td>\n",
       "    </tr>\n",
       "    <tr>\n",
       "      <th>Z</th>\n",
       "      <td>90.0</td>\n",
       "      <td>90</td>\n",
       "      <td>90</td>\n",
       "    </tr>\n",
       "  </tbody>\n",
       "</table>\n",
       "</div>"
      ],
      "text/plain": [
       "          mean  min  max\n",
       "Product                 \n",
       "X        110.0  100  120\n",
       "Y        165.0  150  180\n",
       "Z         90.0   90   90"
      ]
     },
     "execution_count": 5,
     "metadata": {},
     "output_type": "execute_result"
    }
   ],
   "source": [
    "df.groupby('Product')['Sales'].agg(['mean', min, 'max'])"
   ]
  },
  {
   "cell_type": "markdown",
   "id": "feeb0397-4fd7-4dcc-a368-f0789c4c6560",
   "metadata": {},
   "source": [
    "#### groupby() with transform()\n",
    "* its result that has the same shape as the original DataFrame or Series"
   ]
  },
  {
   "cell_type": "code",
   "execution_count": 6,
   "id": "8e6201ee-8284-4ed2-91a8-3dbc217354be",
   "metadata": {},
   "outputs": [
    {
     "data": {
      "text/html": [
       "<div>\n",
       "<style scoped>\n",
       "    .dataframe tbody tr th:only-of-type {\n",
       "        vertical-align: middle;\n",
       "    }\n",
       "\n",
       "    .dataframe tbody tr th {\n",
       "        vertical-align: top;\n",
       "    }\n",
       "\n",
       "    .dataframe thead th {\n",
       "        text-align: right;\n",
       "    }\n",
       "</style>\n",
       "<table border=\"1\" class=\"dataframe\">\n",
       "  <thead>\n",
       "    <tr style=\"text-align: right;\">\n",
       "      <th></th>\n",
       "      <th>Region</th>\n",
       "      <th>Product</th>\n",
       "      <th>Sales</th>\n",
       "    </tr>\n",
       "  </thead>\n",
       "  <tbody>\n",
       "    <tr>\n",
       "      <th>0</th>\n",
       "      <td>East</td>\n",
       "      <td>X</td>\n",
       "      <td>100</td>\n",
       "    </tr>\n",
       "    <tr>\n",
       "      <th>1</th>\n",
       "      <td>West</td>\n",
       "      <td>Y</td>\n",
       "      <td>150</td>\n",
       "    </tr>\n",
       "    <tr>\n",
       "      <th>2</th>\n",
       "      <td>East</td>\n",
       "      <td>X</td>\n",
       "      <td>120</td>\n",
       "    </tr>\n",
       "    <tr>\n",
       "      <th>3</th>\n",
       "      <td>West</td>\n",
       "      <td>Y</td>\n",
       "      <td>180</td>\n",
       "    </tr>\n",
       "    <tr>\n",
       "      <th>4</th>\n",
       "      <td>East</td>\n",
       "      <td>Z</td>\n",
       "      <td>90</td>\n",
       "    </tr>\n",
       "    <tr>\n",
       "      <th>5</th>\n",
       "      <td>West</td>\n",
       "      <td>X</td>\n",
       "      <td>110</td>\n",
       "    </tr>\n",
       "  </tbody>\n",
       "</table>\n",
       "</div>"
      ],
      "text/plain": [
       "  Region Product  Sales\n",
       "0   East       X    100\n",
       "1   West       Y    150\n",
       "2   East       X    120\n",
       "3   West       Y    180\n",
       "4   East       Z     90\n",
       "5   West       X    110"
      ]
     },
     "execution_count": 6,
     "metadata": {},
     "output_type": "execute_result"
    }
   ],
   "source": [
    "df"
   ]
  },
  {
   "cell_type": "code",
   "execution_count": 7,
   "id": "46698a95-43fd-4c26-9f7b-32ce2e03781b",
   "metadata": {},
   "outputs": [],
   "source": [
    "df['Sales_mean'] = df.groupby('Region')['Sales'].transform('mean')"
   ]
  },
  {
   "cell_type": "code",
   "execution_count": 8,
   "id": "dddf92ce-e885-4657-9e23-02a8fcdc9676",
   "metadata": {},
   "outputs": [
    {
     "data": {
      "text/html": [
       "<div>\n",
       "<style scoped>\n",
       "    .dataframe tbody tr th:only-of-type {\n",
       "        vertical-align: middle;\n",
       "    }\n",
       "\n",
       "    .dataframe tbody tr th {\n",
       "        vertical-align: top;\n",
       "    }\n",
       "\n",
       "    .dataframe thead th {\n",
       "        text-align: right;\n",
       "    }\n",
       "</style>\n",
       "<table border=\"1\" class=\"dataframe\">\n",
       "  <thead>\n",
       "    <tr style=\"text-align: right;\">\n",
       "      <th></th>\n",
       "      <th>Region</th>\n",
       "      <th>Product</th>\n",
       "      <th>Sales</th>\n",
       "      <th>Sales_mean</th>\n",
       "    </tr>\n",
       "  </thead>\n",
       "  <tbody>\n",
       "    <tr>\n",
       "      <th>0</th>\n",
       "      <td>East</td>\n",
       "      <td>X</td>\n",
       "      <td>100</td>\n",
       "      <td>103.333333</td>\n",
       "    </tr>\n",
       "    <tr>\n",
       "      <th>1</th>\n",
       "      <td>West</td>\n",
       "      <td>Y</td>\n",
       "      <td>150</td>\n",
       "      <td>146.666667</td>\n",
       "    </tr>\n",
       "    <tr>\n",
       "      <th>2</th>\n",
       "      <td>East</td>\n",
       "      <td>X</td>\n",
       "      <td>120</td>\n",
       "      <td>103.333333</td>\n",
       "    </tr>\n",
       "    <tr>\n",
       "      <th>3</th>\n",
       "      <td>West</td>\n",
       "      <td>Y</td>\n",
       "      <td>180</td>\n",
       "      <td>146.666667</td>\n",
       "    </tr>\n",
       "    <tr>\n",
       "      <th>4</th>\n",
       "      <td>East</td>\n",
       "      <td>Z</td>\n",
       "      <td>90</td>\n",
       "      <td>103.333333</td>\n",
       "    </tr>\n",
       "    <tr>\n",
       "      <th>5</th>\n",
       "      <td>West</td>\n",
       "      <td>X</td>\n",
       "      <td>110</td>\n",
       "      <td>146.666667</td>\n",
       "    </tr>\n",
       "  </tbody>\n",
       "</table>\n",
       "</div>"
      ],
      "text/plain": [
       "  Region Product  Sales  Sales_mean\n",
       "0   East       X    100  103.333333\n",
       "1   West       Y    150  146.666667\n",
       "2   East       X    120  103.333333\n",
       "3   West       Y    180  146.666667\n",
       "4   East       Z     90  103.333333\n",
       "5   West       X    110  146.666667"
      ]
     },
     "execution_count": 8,
     "metadata": {},
     "output_type": "execute_result"
    }
   ],
   "source": [
    "df"
   ]
  },
  {
   "cell_type": "code",
   "execution_count": 9,
   "id": "8d5be220-180d-41ab-ab83-3daff4c6fec0",
   "metadata": {},
   "outputs": [
    {
     "data": {
      "text/plain": [
       "Region\n",
       "East    103.333333\n",
       "West    146.666667\n",
       "Name: Sales, dtype: float64"
      ]
     },
     "execution_count": 9,
     "metadata": {},
     "output_type": "execute_result"
    }
   ],
   "source": [
    "df.groupby('Region')['Sales'].mean()"
   ]
  },
  {
   "cell_type": "code",
   "execution_count": null,
   "id": "09107f5f-92e5-42eb-9619-aec45b9a720b",
   "metadata": {},
   "outputs": [],
   "source": []
  },
  {
   "cell_type": "code",
   "execution_count": null,
   "id": "90f9fcb7-c6be-4a23-b663-80e321cf5c16",
   "metadata": {},
   "outputs": [],
   "source": []
  },
  {
   "cell_type": "markdown",
   "id": "8e05b09a-22f7-4e37-a732-dd11599a2a7c",
   "metadata": {},
   "source": [
    "#### agg()"
   ]
  },
  {
   "cell_type": "code",
   "execution_count": 33,
   "id": "a61cbd93-dd02-4456-847c-9ded2c787406",
   "metadata": {},
   "outputs": [
    {
     "data": {
      "text/html": [
       "<div>\n",
       "<style scoped>\n",
       "    .dataframe tbody tr th:only-of-type {\n",
       "        vertical-align: middle;\n",
       "    }\n",
       "\n",
       "    .dataframe tbody tr th {\n",
       "        vertical-align: top;\n",
       "    }\n",
       "\n",
       "    .dataframe thead th {\n",
       "        text-align: right;\n",
       "    }\n",
       "</style>\n",
       "<table border=\"1\" class=\"dataframe\">\n",
       "  <thead>\n",
       "    <tr style=\"text-align: right;\">\n",
       "      <th></th>\n",
       "      <th>A</th>\n",
       "      <th>B</th>\n",
       "      <th>age</th>\n",
       "    </tr>\n",
       "  </thead>\n",
       "  <tbody>\n",
       "    <tr>\n",
       "      <th>0</th>\n",
       "      <td>1</td>\n",
       "      <td>4</td>\n",
       "      <td>17</td>\n",
       "    </tr>\n",
       "    <tr>\n",
       "      <th>1</th>\n",
       "      <td>2</td>\n",
       "      <td>5</td>\n",
       "      <td>14</td>\n",
       "    </tr>\n",
       "    <tr>\n",
       "      <th>2</th>\n",
       "      <td>3</td>\n",
       "      <td>3</td>\n",
       "      <td>19</td>\n",
       "    </tr>\n",
       "    <tr>\n",
       "      <th>3</th>\n",
       "      <td>7</td>\n",
       "      <td>3</td>\n",
       "      <td>21</td>\n",
       "    </tr>\n",
       "    <tr>\n",
       "      <th>4</th>\n",
       "      <td>3</td>\n",
       "      <td>1</td>\n",
       "      <td>16</td>\n",
       "    </tr>\n",
       "    <tr>\n",
       "      <th>5</th>\n",
       "      <td>9</td>\n",
       "      <td>7</td>\n",
       "      <td>14</td>\n",
       "    </tr>\n",
       "  </tbody>\n",
       "</table>\n",
       "</div>"
      ],
      "text/plain": [
       "   A  B  age\n",
       "0  1  4   17\n",
       "1  2  5   14\n",
       "2  3  3   19\n",
       "3  7  3   21\n",
       "4  3  1   16\n",
       "5  9  7   14"
      ]
     },
     "execution_count": 33,
     "metadata": {},
     "output_type": "execute_result"
    }
   ],
   "source": [
    "data = {'A': [1, 2, 3,7,3,9], 'B': [4, 5, 3,3,1,7], 'age' : [17,14,19,21,16,14]}\n",
    "df = pd.DataFrame(data)\n",
    "df"
   ]
  },
  {
   "cell_type": "markdown",
   "id": "5290cf77-226d-433e-a166-af736b38c768",
   "metadata": {},
   "source": [
    "##### single aggregation function to df"
   ]
  },
  {
   "cell_type": "code",
   "execution_count": 20,
   "id": "b597f98d-b448-4e12-b97c-81cfb638a09b",
   "metadata": {},
   "outputs": [
    {
     "name": "stderr",
     "output_type": "stream",
     "text": [
      "/tmp/ipykernel_13676/3026864763.py:1: FutureWarning: The provided callable <built-in function sum> is currently using DataFrame.sum. In a future version of pandas, the provided callable will be used directly. To keep current behavior pass the string \"sum\" instead.\n",
      "  df.agg(sum)\n"
     ]
    },
    {
     "data": {
      "text/plain": [
       "A       25\n",
       "B       26\n",
       "age    101\n",
       "dtype: int64"
      ]
     },
     "execution_count": 20,
     "metadata": {},
     "output_type": "execute_result"
    }
   ],
   "source": [
    "df.agg(sum)"
   ]
  },
  {
   "cell_type": "markdown",
   "id": "4c0a4b6c-d46e-4a72-aece-9d77b611cb99",
   "metadata": {},
   "source": [
    "##### multiple agg function to df"
   ]
  },
  {
   "cell_type": "code",
   "execution_count": 31,
   "id": "100584bb-485d-4d92-98bb-b30e21ad9286",
   "metadata": {},
   "outputs": [
    {
     "name": "stderr",
     "output_type": "stream",
     "text": [
      "/tmp/ipykernel_13676/1683955946.py:1: FutureWarning: The provided callable <built-in function sum> is currently using Series.sum. In a future version of pandas, the provided callable will be used directly. To keep current behavior pass the string \"sum\" instead.\n",
      "  df.agg(['mean', 'max', sum, min, 'median', 'std'])\n",
      "/tmp/ipykernel_13676/1683955946.py:1: FutureWarning: The provided callable <built-in function min> is currently using Series.min. In a future version of pandas, the provided callable will be used directly. To keep current behavior pass the string \"min\" instead.\n",
      "  df.agg(['mean', 'max', sum, min, 'median', 'std'])\n",
      "/tmp/ipykernel_13676/1683955946.py:1: FutureWarning: The provided callable <built-in function sum> is currently using Series.sum. In a future version of pandas, the provided callable will be used directly. To keep current behavior pass the string \"sum\" instead.\n",
      "  df.agg(['mean', 'max', sum, min, 'median', 'std'])\n",
      "/tmp/ipykernel_13676/1683955946.py:1: FutureWarning: The provided callable <built-in function min> is currently using Series.min. In a future version of pandas, the provided callable will be used directly. To keep current behavior pass the string \"min\" instead.\n",
      "  df.agg(['mean', 'max', sum, min, 'median', 'std'])\n",
      "/tmp/ipykernel_13676/1683955946.py:1: FutureWarning: The provided callable <built-in function sum> is currently using Series.sum. In a future version of pandas, the provided callable will be used directly. To keep current behavior pass the string \"sum\" instead.\n",
      "  df.agg(['mean', 'max', sum, min, 'median', 'std'])\n",
      "/tmp/ipykernel_13676/1683955946.py:1: FutureWarning: The provided callable <built-in function min> is currently using Series.min. In a future version of pandas, the provided callable will be used directly. To keep current behavior pass the string \"min\" instead.\n",
      "  df.agg(['mean', 'max', sum, min, 'median', 'std'])\n"
     ]
    },
    {
     "data": {
      "text/html": [
       "<div>\n",
       "<style scoped>\n",
       "    .dataframe tbody tr th:only-of-type {\n",
       "        vertical-align: middle;\n",
       "    }\n",
       "\n",
       "    .dataframe tbody tr th {\n",
       "        vertical-align: top;\n",
       "    }\n",
       "\n",
       "    .dataframe thead th {\n",
       "        text-align: right;\n",
       "    }\n",
       "</style>\n",
       "<table border=\"1\" class=\"dataframe\">\n",
       "  <thead>\n",
       "    <tr style=\"text-align: right;\">\n",
       "      <th></th>\n",
       "      <th>A</th>\n",
       "      <th>B</th>\n",
       "      <th>age</th>\n",
       "    </tr>\n",
       "  </thead>\n",
       "  <tbody>\n",
       "    <tr>\n",
       "      <th>mean</th>\n",
       "      <td>4.166667</td>\n",
       "      <td>3.833333</td>\n",
       "      <td>16.833333</td>\n",
       "    </tr>\n",
       "    <tr>\n",
       "      <th>max</th>\n",
       "      <td>9.000000</td>\n",
       "      <td>7.000000</td>\n",
       "      <td>21.000000</td>\n",
       "    </tr>\n",
       "    <tr>\n",
       "      <th>sum</th>\n",
       "      <td>25.000000</td>\n",
       "      <td>23.000000</td>\n",
       "      <td>101.000000</td>\n",
       "    </tr>\n",
       "    <tr>\n",
       "      <th>min</th>\n",
       "      <td>1.000000</td>\n",
       "      <td>1.000000</td>\n",
       "      <td>14.000000</td>\n",
       "    </tr>\n",
       "    <tr>\n",
       "      <th>median</th>\n",
       "      <td>3.000000</td>\n",
       "      <td>3.500000</td>\n",
       "      <td>16.500000</td>\n",
       "    </tr>\n",
       "    <tr>\n",
       "      <th>std</th>\n",
       "      <td>3.125167</td>\n",
       "      <td>2.041241</td>\n",
       "      <td>2.786874</td>\n",
       "    </tr>\n",
       "  </tbody>\n",
       "</table>\n",
       "</div>"
      ],
      "text/plain": [
       "                A          B         age\n",
       "mean     4.166667   3.833333   16.833333\n",
       "max      9.000000   7.000000   21.000000\n",
       "sum     25.000000  23.000000  101.000000\n",
       "min      1.000000   1.000000   14.000000\n",
       "median   3.000000   3.500000   16.500000\n",
       "std      3.125167   2.041241    2.786874"
      ]
     },
     "execution_count": 31,
     "metadata": {},
     "output_type": "execute_result"
    }
   ],
   "source": [
    "df.agg(['mean', 'max', sum, min, 'median', 'std'])"
   ]
  },
  {
   "cell_type": "markdown",
   "id": "20c164ca-1f7b-476b-8107-0c03b532c2c7",
   "metadata": {},
   "source": [
    "#### diff functions to diff columns"
   ]
  },
  {
   "cell_type": "code",
   "execution_count": 35,
   "id": "9f922a47-96e0-47e5-ad86-8b81e87020f6",
   "metadata": {},
   "outputs": [
    {
     "name": "stderr",
     "output_type": "stream",
     "text": [
      "/tmp/ipykernel_13676/2450273173.py:1: FutureWarning: The provided callable <built-in function sum> is currently using Series.sum. In a future version of pandas, the provided callable will be used directly. To keep current behavior pass the string \"sum\" instead.\n",
      "  df.agg({'A' : 'mean', 'B' : sum, 'age' : 'max'})\n"
     ]
    },
    {
     "data": {
      "text/plain": [
       "A       4.166667\n",
       "B      23.000000\n",
       "age    21.000000\n",
       "dtype: float64"
      ]
     },
     "execution_count": 35,
     "metadata": {},
     "output_type": "execute_result"
    }
   ],
   "source": [
    "df.agg({'A' : 'mean', 'B' : sum, 'age' : 'max'})"
   ]
  },
  {
   "cell_type": "markdown",
   "id": "aa8bf7ce-b5cd-4f1f-bb34-8df31cbd0213",
   "metadata": {},
   "source": [
    "##### agg to single column"
   ]
  },
  {
   "cell_type": "code",
   "execution_count": 39,
   "id": "dc8ec1d4-4b70-42a4-8486-86ce5bd63a03",
   "metadata": {},
   "outputs": [
    {
     "name": "stderr",
     "output_type": "stream",
     "text": [
      "/tmp/ipykernel_13676/4258003588.py:1: FutureWarning: The provided callable <built-in function sum> is currently using Series.sum. In a future version of pandas, the provided callable will be used directly. To keep current behavior pass the string \"sum\" instead.\n",
      "  df['A'].agg(['mean',sum])\n"
     ]
    },
    {
     "data": {
      "text/plain": [
       "mean     4.166667\n",
       "sum     25.000000\n",
       "Name: A, dtype: float64"
      ]
     },
     "execution_count": 39,
     "metadata": {},
     "output_type": "execute_result"
    }
   ],
   "source": [
    "df['A'].agg(['mean',sum])"
   ]
  },
  {
   "cell_type": "markdown",
   "id": "cc673ff3-098d-4b13-aa6a-456f4fd16dc5",
   "metadata": {},
   "source": [
    "##### agg() with groupby"
   ]
  },
  {
   "cell_type": "code",
   "execution_count": 40,
   "id": "07632e5e-5687-45e8-bc3b-1a5a0c6fe34f",
   "metadata": {},
   "outputs": [],
   "source": [
    "# already done"
   ]
  },
  {
   "cell_type": "markdown",
   "id": "38b751bc-f1f8-4028-8f46-ec28116a8caf",
   "metadata": {},
   "source": [
    "#### multiple agg to grouped data"
   ]
  },
  {
   "cell_type": "code",
   "execution_count": 41,
   "id": "3565ca45-aed2-408a-a093-2ace6ce32432",
   "metadata": {},
   "outputs": [],
   "source": [
    "# pls run df (product, region, sales) before below"
   ]
  },
  {
   "cell_type": "code",
   "execution_count": 48,
   "id": "122a178b-9072-4cc7-82bd-ccec26b84d54",
   "metadata": {},
   "outputs": [
    {
     "name": "stderr",
     "output_type": "stream",
     "text": [
      "/tmp/ipykernel_13676/3910970745.py:1: FutureWarning: The provided callable <built-in function sum> is currently using SeriesGroupBy.sum. In a future version of pandas, the provided callable will be used directly. To keep current behavior pass the string \"sum\" instead.\n",
      "  df.groupby('Region').agg(Value_Sum = ('Sales', sum), Value_mean = ('Sales', 'mean'), maxValue = ('Sales', max))\n",
      "/tmp/ipykernel_13676/3910970745.py:1: FutureWarning: The provided callable <built-in function max> is currently using SeriesGroupBy.max. In a future version of pandas, the provided callable will be used directly. To keep current behavior pass the string \"max\" instead.\n",
      "  df.groupby('Region').agg(Value_Sum = ('Sales', sum), Value_mean = ('Sales', 'mean'), maxValue = ('Sales', max))\n"
     ]
    },
    {
     "data": {
      "text/html": [
       "<div>\n",
       "<style scoped>\n",
       "    .dataframe tbody tr th:only-of-type {\n",
       "        vertical-align: middle;\n",
       "    }\n",
       "\n",
       "    .dataframe tbody tr th {\n",
       "        vertical-align: top;\n",
       "    }\n",
       "\n",
       "    .dataframe thead th {\n",
       "        text-align: right;\n",
       "    }\n",
       "</style>\n",
       "<table border=\"1\" class=\"dataframe\">\n",
       "  <thead>\n",
       "    <tr style=\"text-align: right;\">\n",
       "      <th></th>\n",
       "      <th>Value_Sum</th>\n",
       "      <th>Value_mean</th>\n",
       "      <th>maxValue</th>\n",
       "    </tr>\n",
       "    <tr>\n",
       "      <th>Region</th>\n",
       "      <th></th>\n",
       "      <th></th>\n",
       "      <th></th>\n",
       "    </tr>\n",
       "  </thead>\n",
       "  <tbody>\n",
       "    <tr>\n",
       "      <th>East</th>\n",
       "      <td>310</td>\n",
       "      <td>103.333333</td>\n",
       "      <td>120</td>\n",
       "    </tr>\n",
       "    <tr>\n",
       "      <th>West</th>\n",
       "      <td>440</td>\n",
       "      <td>146.666667</td>\n",
       "      <td>180</td>\n",
       "    </tr>\n",
       "  </tbody>\n",
       "</table>\n",
       "</div>"
      ],
      "text/plain": [
       "        Value_Sum  Value_mean  maxValue\n",
       "Region                                 \n",
       "East          310  103.333333       120\n",
       "West          440  146.666667       180"
      ]
     },
     "execution_count": 48,
     "metadata": {},
     "output_type": "execute_result"
    }
   ],
   "source": [
    "df.groupby('Region').agg(Value_Sum = ('Sales', sum), Value_mean = ('Sales', 'mean'), maxValue = ('Sales', max))"
   ]
  },
  {
   "cell_type": "code",
   "execution_count": 51,
   "id": "bed7d391-54b2-4033-9cf1-06f7847294da",
   "metadata": {},
   "outputs": [],
   "source": [
    "a1= (1,2,3,4)\n",
    "a2= ('a', 'b', 'c', 'd')"
   ]
  },
  {
   "cell_type": "code",
   "execution_count": 57,
   "id": "d3037b5e-4405-42d7-8498-f52f6af40395",
   "metadata": {},
   "outputs": [
    {
     "data": {
      "text/plain": [
       "pandas.core.indexes.multi.MultiIndex"
      ]
     },
     "execution_count": 57,
     "metadata": {},
     "output_type": "execute_result"
    }
   ],
   "source": [
    "type(pd.MultiIndex.from_tuples((a1,a2)))"
   ]
  },
  {
   "cell_type": "code",
   "execution_count": null,
   "id": "13ea534f-33e0-4e12-ade2-0127a6b22f6e",
   "metadata": {},
   "outputs": [],
   "source": []
  }
 ],
 "metadata": {
  "kernelspec": {
   "display_name": "Python 3 (ipykernel)",
   "language": "python",
   "name": "python3"
  },
  "language_info": {
   "codemirror_mode": {
    "name": "ipython",
    "version": 3
   },
   "file_extension": ".py",
   "mimetype": "text/x-python",
   "name": "python",
   "nbconvert_exporter": "python",
   "pygments_lexer": "ipython3",
   "version": "3.10.12"
  }
 },
 "nbformat": 4,
 "nbformat_minor": 5
}
