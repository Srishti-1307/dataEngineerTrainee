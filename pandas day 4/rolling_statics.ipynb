{
 "cells": [
  {
   "cell_type": "code",
   "execution_count": 1,
   "id": "54e38301-ed80-4d42-94cd-37ced8db0b0c",
   "metadata": {},
   "outputs": [],
   "source": [
    "import pandas as pd"
   ]
  },
  {
   "cell_type": "code",
   "execution_count": 2,
   "id": "da88cc87-e08c-459a-8f03-f33b21865ef8",
   "metadata": {},
   "outputs": [],
   "source": [
    "data = {'price': [10, 12, 11, 13, 15, 14, 16, 18, 17, 19]}"
   ]
  },
  {
   "cell_type": "code",
   "execution_count": 4,
   "id": "005b7fc5-a033-4946-ac9a-0f41ede48c71",
   "metadata": {},
   "outputs": [],
   "source": [
    "df = pd.DataFrame(data)"
   ]
  },
  {
   "cell_type": "markdown",
   "id": "4401cb6c-8cf5-44ab-ae3c-81ce2839f4bd",
   "metadata": {},
   "source": [
    "#### rolling(window, min_periods, center, step)\n",
    "* window:  This specifies the number of observations to include in each window/for calculating the statistic. It can be an integer (fixed number of rows) or a time offset string ('3D' for 3 days, '1M' for 1 month) if index is a DatetimeIndex.\n",
    "* minimum_period\n",
    "* center : if set to True, the window is centered on the current data point, meaning it includes data points before and after the current point. Default center=False; default window includes the current point and preceding points.\n",
    "* after rolling agg functions such as mean(), sum(), std(), min(), max(), corr(), and apply() can be applied\n",
    "* step: "
   ]
  },
  {
   "cell_type": "code",
   "execution_count": 38,
   "id": "b33668d6-971e-4681-ba11-5c16db4a4192",
   "metadata": {},
   "outputs": [],
   "source": [
    "df['rolling_mean'] = df['price'].rolling(window=4, min_periods=2, center=False, step=3).min()"
   ]
  },
  {
   "cell_type": "code",
   "execution_count": 39,
   "id": "3ed744bc-422c-45bf-8dde-cc2c07df766e",
   "metadata": {},
   "outputs": [
    {
     "data": {
      "text/html": [
       "<div>\n",
       "<style scoped>\n",
       "    .dataframe tbody tr th:only-of-type {\n",
       "        vertical-align: middle;\n",
       "    }\n",
       "\n",
       "    .dataframe tbody tr th {\n",
       "        vertical-align: top;\n",
       "    }\n",
       "\n",
       "    .dataframe thead th {\n",
       "        text-align: right;\n",
       "    }\n",
       "</style>\n",
       "<table border=\"1\" class=\"dataframe\">\n",
       "  <thead>\n",
       "    <tr style=\"text-align: right;\">\n",
       "      <th></th>\n",
       "      <th>price</th>\n",
       "      <th>rolling_mean_5_days</th>\n",
       "      <th>rolling_mean</th>\n",
       "    </tr>\n",
       "  </thead>\n",
       "  <tbody>\n",
       "    <tr>\n",
       "      <th>0</th>\n",
       "      <td>10</td>\n",
       "      <td>NaN</td>\n",
       "      <td>NaN</td>\n",
       "    </tr>\n",
       "    <tr>\n",
       "      <th>1</th>\n",
       "      <td>12</td>\n",
       "      <td>NaN</td>\n",
       "      <td>NaN</td>\n",
       "    </tr>\n",
       "    <tr>\n",
       "      <th>2</th>\n",
       "      <td>11</td>\n",
       "      <td>NaN</td>\n",
       "      <td>NaN</td>\n",
       "    </tr>\n",
       "    <tr>\n",
       "      <th>3</th>\n",
       "      <td>13</td>\n",
       "      <td>10.0</td>\n",
       "      <td>10.0</td>\n",
       "    </tr>\n",
       "    <tr>\n",
       "      <th>4</th>\n",
       "      <td>15</td>\n",
       "      <td>NaN</td>\n",
       "      <td>NaN</td>\n",
       "    </tr>\n",
       "    <tr>\n",
       "      <th>5</th>\n",
       "      <td>14</td>\n",
       "      <td>NaN</td>\n",
       "      <td>NaN</td>\n",
       "    </tr>\n",
       "    <tr>\n",
       "      <th>6</th>\n",
       "      <td>16</td>\n",
       "      <td>13.0</td>\n",
       "      <td>13.0</td>\n",
       "    </tr>\n",
       "    <tr>\n",
       "      <th>7</th>\n",
       "      <td>18</td>\n",
       "      <td>NaN</td>\n",
       "      <td>NaN</td>\n",
       "    </tr>\n",
       "    <tr>\n",
       "      <th>8</th>\n",
       "      <td>17</td>\n",
       "      <td>NaN</td>\n",
       "      <td>NaN</td>\n",
       "    </tr>\n",
       "    <tr>\n",
       "      <th>9</th>\n",
       "      <td>19</td>\n",
       "      <td>16.0</td>\n",
       "      <td>16.0</td>\n",
       "    </tr>\n",
       "  </tbody>\n",
       "</table>\n",
       "</div>"
      ],
      "text/plain": [
       "   price  rolling_mean_5_days  rolling_mean\n",
       "0     10                  NaN           NaN\n",
       "1     12                  NaN           NaN\n",
       "2     11                  NaN           NaN\n",
       "3     13                 10.0          10.0\n",
       "4     15                  NaN           NaN\n",
       "5     14                  NaN           NaN\n",
       "6     16                 13.0          13.0\n",
       "7     18                  NaN           NaN\n",
       "8     17                  NaN           NaN\n",
       "9     19                 16.0          16.0"
      ]
     },
     "execution_count": 39,
     "metadata": {},
     "output_type": "execute_result"
    }
   ],
   "source": [
    "df"
   ]
  },
  {
   "cell_type": "code",
   "execution_count": null,
   "id": "2f3168e0-3af5-481f-8749-f6763f570738",
   "metadata": {},
   "outputs": [],
   "source": []
  }
 ],
 "metadata": {
  "kernelspec": {
   "display_name": "Python 3 (ipykernel)",
   "language": "python",
   "name": "python3"
  },
  "language_info": {
   "codemirror_mode": {
    "name": "ipython",
    "version": 3
   },
   "file_extension": ".py",
   "mimetype": "text/x-python",
   "name": "python",
   "nbconvert_exporter": "python",
   "pygments_lexer": "ipython3",
   "version": "3.10.12"
  }
 },
 "nbformat": 4,
 "nbformat_minor": 5
}
