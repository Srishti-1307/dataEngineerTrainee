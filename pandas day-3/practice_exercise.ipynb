{
 "cells": [
  {
   "cell_type": "code",
   "execution_count": 2,
   "id": "63b27a5f-564f-43e6-9318-e67bccf73cf7",
   "metadata": {},
   "outputs": [],
   "source": [
    "import pandas as pd\n",
    "import os"
   ]
  },
  {
   "cell_type": "markdown",
   "id": "2b032dd8-d14f-4d8f-b42a-e32880ede31d",
   "metadata": {},
   "source": [
    "### Normalize numeric columns and create derived metrics"
   ]
  },
  {
   "cell_type": "code",
   "execution_count": 13,
   "id": "10a43e3e-13bb-4ed8-8d8f-aac31a9635e2",
   "metadata": {},
   "outputs": [
    {
     "data": {
      "text/html": [
       "<div>\n",
       "<style scoped>\n",
       "    .dataframe tbody tr th:only-of-type {\n",
       "        vertical-align: middle;\n",
       "    }\n",
       "\n",
       "    .dataframe tbody tr th {\n",
       "        vertical-align: top;\n",
       "    }\n",
       "\n",
       "    .dataframe thead th {\n",
       "        text-align: right;\n",
       "    }\n",
       "</style>\n",
       "<table border=\"1\" class=\"dataframe\">\n",
       "  <thead>\n",
       "    <tr style=\"text-align: right;\">\n",
       "      <th></th>\n",
       "      <th>Price</th>\n",
       "      <th>Age</th>\n",
       "    </tr>\n",
       "  </thead>\n",
       "  <tbody>\n",
       "    <tr>\n",
       "      <th>0</th>\n",
       "      <td>45</td>\n",
       "      <td>12</td>\n",
       "    </tr>\n",
       "    <tr>\n",
       "      <th>1</th>\n",
       "      <td>50</td>\n",
       "      <td>15</td>\n",
       "    </tr>\n",
       "    <tr>\n",
       "      <th>2</th>\n",
       "      <td>90</td>\n",
       "      <td>19</td>\n",
       "    </tr>\n",
       "    <tr>\n",
       "      <th>3</th>\n",
       "      <td>35</td>\n",
       "      <td>21</td>\n",
       "    </tr>\n",
       "    <tr>\n",
       "      <th>4</th>\n",
       "      <td>200</td>\n",
       "      <td>35</td>\n",
       "    </tr>\n",
       "    <tr>\n",
       "      <th>5</th>\n",
       "      <td>150</td>\n",
       "      <td>48</td>\n",
       "    </tr>\n",
       "    <tr>\n",
       "      <th>6</th>\n",
       "      <td>540</td>\n",
       "      <td>81</td>\n",
       "    </tr>\n",
       "  </tbody>\n",
       "</table>\n",
       "</div>"
      ],
      "text/plain": [
       "   Price  Age\n",
       "0     45   12\n",
       "1     50   15\n",
       "2     90   19\n",
       "3     35   21\n",
       "4    200   35\n",
       "5    150   48\n",
       "6    540   81"
      ]
     },
     "execution_count": 13,
     "metadata": {},
     "output_type": "execute_result"
    }
   ],
   "source": [
    "df = pd.DataFrame({'Price' : [45, 50, 90, 35, 200, 150, 540], 'Age' : [12, 15, 19, 21, 35, 48, 81 ]})\n",
    "df"
   ]
  },
  {
   "cell_type": "markdown",
   "id": "5156dc53-290f-49fc-bdd2-11865f442ed1",
   "metadata": {},
   "source": [
    "#### Normalization formula : \n",
    "   (x - min) / (max - min)"
   ]
  },
  {
   "cell_type": "raw",
   "id": "d70a83ab-3c8f-499e-92b3-a65863167df8",
   "metadata": {},
   "source": [
    "Normalization involves transforming its values to a common scale, typically between 0 and 1 or -1 and 1."
   ]
  },
  {
   "cell_type": "code",
   "execution_count": 17,
   "id": "642f3a40-1743-4f41-8c45-95c206877b54",
   "metadata": {},
   "outputs": [],
   "source": [
    "df['Price'] = round((df['Price'] - df['Price'].min()) / (df['Price'].max() - df['Price'].min()), 2)"
   ]
  },
  {
   "cell_type": "code",
   "execution_count": 18,
   "id": "2cef95e6-8e33-4d1f-aa2e-9c69f0cff8d7",
   "metadata": {},
   "outputs": [],
   "source": [
    "df['Age'] = round((df['Age'] - df['Age'].min() )/ (df['Age'].max() - df['Age'].min()), 2)"
   ]
  },
  {
   "cell_type": "code",
   "execution_count": 19,
   "id": "f877cb6b-9107-43fc-93bf-c631fac0c71d",
   "metadata": {},
   "outputs": [
    {
     "data": {
      "text/html": [
       "<div>\n",
       "<style scoped>\n",
       "    .dataframe tbody tr th:only-of-type {\n",
       "        vertical-align: middle;\n",
       "    }\n",
       "\n",
       "    .dataframe tbody tr th {\n",
       "        vertical-align: top;\n",
       "    }\n",
       "\n",
       "    .dataframe thead th {\n",
       "        text-align: right;\n",
       "    }\n",
       "</style>\n",
       "<table border=\"1\" class=\"dataframe\">\n",
       "  <thead>\n",
       "    <tr style=\"text-align: right;\">\n",
       "      <th></th>\n",
       "      <th>Price</th>\n",
       "      <th>Age</th>\n",
       "    </tr>\n",
       "  </thead>\n",
       "  <tbody>\n",
       "    <tr>\n",
       "      <th>0</th>\n",
       "      <td>0.02</td>\n",
       "      <td>0.00</td>\n",
       "    </tr>\n",
       "    <tr>\n",
       "      <th>1</th>\n",
       "      <td>0.03</td>\n",
       "      <td>0.04</td>\n",
       "    </tr>\n",
       "    <tr>\n",
       "      <th>2</th>\n",
       "      <td>0.11</td>\n",
       "      <td>0.10</td>\n",
       "    </tr>\n",
       "    <tr>\n",
       "      <th>3</th>\n",
       "      <td>0.00</td>\n",
       "      <td>0.13</td>\n",
       "    </tr>\n",
       "    <tr>\n",
       "      <th>4</th>\n",
       "      <td>0.33</td>\n",
       "      <td>0.33</td>\n",
       "    </tr>\n",
       "    <tr>\n",
       "      <th>5</th>\n",
       "      <td>0.23</td>\n",
       "      <td>0.52</td>\n",
       "    </tr>\n",
       "    <tr>\n",
       "      <th>6</th>\n",
       "      <td>1.00</td>\n",
       "      <td>1.00</td>\n",
       "    </tr>\n",
       "  </tbody>\n",
       "</table>\n",
       "</div>"
      ],
      "text/plain": [
       "   Price   Age\n",
       "0   0.02  0.00\n",
       "1   0.03  0.04\n",
       "2   0.11  0.10\n",
       "3   0.00  0.13\n",
       "4   0.33  0.33\n",
       "5   0.23  0.52\n",
       "6   1.00  1.00"
      ]
     },
     "execution_count": 19,
     "metadata": {},
     "output_type": "execute_result"
    }
   ],
   "source": [
    "df"
   ]
  }
 ],
 "metadata": {
  "kernelspec": {
   "display_name": "Python 3 (ipykernel)",
   "language": "python",
   "name": "python3"
  },
  "language_info": {
   "codemirror_mode": {
    "name": "ipython",
    "version": 3
   },
   "file_extension": ".py",
   "mimetype": "text/x-python",
   "name": "python",
   "nbconvert_exporter": "python",
   "pygments_lexer": "ipython3",
   "version": "3.10.12"
  }
 },
 "nbformat": 4,
 "nbformat_minor": 5
}
