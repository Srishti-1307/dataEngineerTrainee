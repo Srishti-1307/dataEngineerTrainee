{
 "cells": [
  {
   "cell_type": "code",
   "execution_count": 1,
   "id": "cda55a82-bdf5-4146-8707-6a6a6099e096",
   "metadata": {},
   "outputs": [],
   "source": [
    "import pandas as pd"
   ]
  },
  {
   "cell_type": "markdown",
   "id": "2f5a2652-8e45-4842-b180-067dacd105b7",
   "metadata": {},
   "source": [
    "#### merge() - The merge() function in Pandas combines two DataFrame or named Series objects based on columns or indexes. The result is a new DataFrame containing data from both original DataFrames, while the source DataFrames remain unchanged."
   ]
  },
  {
   "cell_type": "markdown",
   "id": "ddec1a97-40f0-47c8-8417-f0e9c4f07611",
   "metadata": {},
   "source": [
    "##### merge(left, right, on, how, left/right_on, left/right_index, suffixes)\n",
    "* on: default consider same name column\n",
    "* how- left/right/inner/outer/cross................ default- inner\n",
    "* left_on/ right_on: Specify the column names from the left/right DataFrame to use when the column names differ."
   ]
  },
  {
   "cell_type": "code",
   "execution_count": 28,
   "id": "dc57ca63-c6ca-4ccc-9e57-de317d696393",
   "metadata": {},
   "outputs": [],
   "source": [
    "data1 = {\n",
    "    'EmployeeID': [1,2,3,4],\n",
    "    'Name': ['Alice', 'Bob', 'Charlie', 'DAvid'],\n",
    "    'DeptID': ['D001', 'D002', 'D001', 'D555']\n",
    "}\n",
    "\n",
    "df1 = pd.DataFrame(data1)"
   ]
  },
  {
   "cell_type": "code",
   "execution_count": 29,
   "id": "33b5c642-fbd0-4604-9ec7-3423a4b9b9c0",
   "metadata": {},
   "outputs": [
    {
     "data": {
      "text/html": [
       "<div>\n",
       "<style scoped>\n",
       "    .dataframe tbody tr th:only-of-type {\n",
       "        vertical-align: middle;\n",
       "    }\n",
       "\n",
       "    .dataframe tbody tr th {\n",
       "        vertical-align: top;\n",
       "    }\n",
       "\n",
       "    .dataframe thead th {\n",
       "        text-align: right;\n",
       "    }\n",
       "</style>\n",
       "<table border=\"1\" class=\"dataframe\">\n",
       "  <thead>\n",
       "    <tr style=\"text-align: right;\">\n",
       "      <th></th>\n",
       "      <th>EmployeeID</th>\n",
       "      <th>Name</th>\n",
       "      <th>DeptID</th>\n",
       "    </tr>\n",
       "  </thead>\n",
       "  <tbody>\n",
       "    <tr>\n",
       "      <th>0</th>\n",
       "      <td>1</td>\n",
       "      <td>Alice</td>\n",
       "      <td>D001</td>\n",
       "    </tr>\n",
       "    <tr>\n",
       "      <th>1</th>\n",
       "      <td>2</td>\n",
       "      <td>Bob</td>\n",
       "      <td>D002</td>\n",
       "    </tr>\n",
       "    <tr>\n",
       "      <th>2</th>\n",
       "      <td>3</td>\n",
       "      <td>Charlie</td>\n",
       "      <td>D001</td>\n",
       "    </tr>\n",
       "    <tr>\n",
       "      <th>3</th>\n",
       "      <td>4</td>\n",
       "      <td>DAvid</td>\n",
       "      <td>D555</td>\n",
       "    </tr>\n",
       "  </tbody>\n",
       "</table>\n",
       "</div>"
      ],
      "text/plain": [
       "   EmployeeID     Name DeptID\n",
       "0           1    Alice   D001\n",
       "1           2      Bob   D002\n",
       "2           3  Charlie   D001\n",
       "3           4    DAvid   D555"
      ]
     },
     "execution_count": 29,
     "metadata": {},
     "output_type": "execute_result"
    }
   ],
   "source": [
    "df1"
   ]
  },
  {
   "cell_type": "code",
   "execution_count": 30,
   "id": "9e573e2a-ec4d-4f4f-a761-117d3e975f06",
   "metadata": {},
   "outputs": [],
   "source": [
    "data2 = {\n",
    "    'DeptID': ['D001', 'D002'],\n",
    "    'DeptName': ['Sales', 'Marketing']\n",
    "}\n",
    "df2 = pd.DataFrame(data2)"
   ]
  },
  {
   "cell_type": "code",
   "execution_count": 31,
   "id": "6e6a4854-b767-4f8d-b9c3-b9598565ef1f",
   "metadata": {},
   "outputs": [
    {
     "data": {
      "text/html": [
       "<div>\n",
       "<style scoped>\n",
       "    .dataframe tbody tr th:only-of-type {\n",
       "        vertical-align: middle;\n",
       "    }\n",
       "\n",
       "    .dataframe tbody tr th {\n",
       "        vertical-align: top;\n",
       "    }\n",
       "\n",
       "    .dataframe thead th {\n",
       "        text-align: right;\n",
       "    }\n",
       "</style>\n",
       "<table border=\"1\" class=\"dataframe\">\n",
       "  <thead>\n",
       "    <tr style=\"text-align: right;\">\n",
       "      <th></th>\n",
       "      <th>DeptID</th>\n",
       "      <th>DeptName</th>\n",
       "    </tr>\n",
       "  </thead>\n",
       "  <tbody>\n",
       "    <tr>\n",
       "      <th>0</th>\n",
       "      <td>D001</td>\n",
       "      <td>Sales</td>\n",
       "    </tr>\n",
       "    <tr>\n",
       "      <th>1</th>\n",
       "      <td>D002</td>\n",
       "      <td>Marketing</td>\n",
       "    </tr>\n",
       "  </tbody>\n",
       "</table>\n",
       "</div>"
      ],
      "text/plain": [
       "  DeptID   DeptName\n",
       "0   D001      Sales\n",
       "1   D002  Marketing"
      ]
     },
     "execution_count": 31,
     "metadata": {},
     "output_type": "execute_result"
    }
   ],
   "source": [
    "df2"
   ]
  },
  {
   "cell_type": "code",
   "execution_count": 52,
   "id": "0eb84c4b-c8d6-4410-8c10-40c7bea9725c",
   "metadata": {},
   "outputs": [
    {
     "data": {
      "text/html": [
       "<div>\n",
       "<style scoped>\n",
       "    .dataframe tbody tr th:only-of-type {\n",
       "        vertical-align: middle;\n",
       "    }\n",
       "\n",
       "    .dataframe tbody tr th {\n",
       "        vertical-align: top;\n",
       "    }\n",
       "\n",
       "    .dataframe thead th {\n",
       "        text-align: right;\n",
       "    }\n",
       "</style>\n",
       "<table border=\"1\" class=\"dataframe\">\n",
       "  <thead>\n",
       "    <tr style=\"text-align: right;\">\n",
       "      <th></th>\n",
       "      <th>EmployeeID</th>\n",
       "      <th>Name</th>\n",
       "      <th>DeptID_x</th>\n",
       "      <th>DeptID_y</th>\n",
       "      <th>DeptName</th>\n",
       "    </tr>\n",
       "  </thead>\n",
       "  <tbody>\n",
       "    <tr>\n",
       "      <th>0</th>\n",
       "      <td>1</td>\n",
       "      <td>Alice</td>\n",
       "      <td>D001</td>\n",
       "      <td>D001</td>\n",
       "      <td>Sales</td>\n",
       "    </tr>\n",
       "    <tr>\n",
       "      <th>1</th>\n",
       "      <td>1</td>\n",
       "      <td>Alice</td>\n",
       "      <td>D001</td>\n",
       "      <td>D002</td>\n",
       "      <td>Marketing</td>\n",
       "    </tr>\n",
       "    <tr>\n",
       "      <th>2</th>\n",
       "      <td>2</td>\n",
       "      <td>Bob</td>\n",
       "      <td>D002</td>\n",
       "      <td>D001</td>\n",
       "      <td>Sales</td>\n",
       "    </tr>\n",
       "    <tr>\n",
       "      <th>3</th>\n",
       "      <td>2</td>\n",
       "      <td>Bob</td>\n",
       "      <td>D002</td>\n",
       "      <td>D002</td>\n",
       "      <td>Marketing</td>\n",
       "    </tr>\n",
       "    <tr>\n",
       "      <th>4</th>\n",
       "      <td>3</td>\n",
       "      <td>Charlie</td>\n",
       "      <td>D001</td>\n",
       "      <td>D001</td>\n",
       "      <td>Sales</td>\n",
       "    </tr>\n",
       "    <tr>\n",
       "      <th>5</th>\n",
       "      <td>3</td>\n",
       "      <td>Charlie</td>\n",
       "      <td>D001</td>\n",
       "      <td>D002</td>\n",
       "      <td>Marketing</td>\n",
       "    </tr>\n",
       "    <tr>\n",
       "      <th>6</th>\n",
       "      <td>4</td>\n",
       "      <td>DAvid</td>\n",
       "      <td>D555</td>\n",
       "      <td>D001</td>\n",
       "      <td>Sales</td>\n",
       "    </tr>\n",
       "    <tr>\n",
       "      <th>7</th>\n",
       "      <td>4</td>\n",
       "      <td>DAvid</td>\n",
       "      <td>D555</td>\n",
       "      <td>D002</td>\n",
       "      <td>Marketing</td>\n",
       "    </tr>\n",
       "  </tbody>\n",
       "</table>\n",
       "</div>"
      ],
      "text/plain": [
       "   EmployeeID     Name DeptID_x DeptID_y   DeptName\n",
       "0           1    Alice     D001     D001      Sales\n",
       "1           1    Alice     D001     D002  Marketing\n",
       "2           2      Bob     D002     D001      Sales\n",
       "3           2      Bob     D002     D002  Marketing\n",
       "4           3  Charlie     D001     D001      Sales\n",
       "5           3  Charlie     D001     D002  Marketing\n",
       "6           4    DAvid     D555     D001      Sales\n",
       "7           4    DAvid     D555     D002  Marketing"
      ]
     },
     "execution_count": 52,
     "metadata": {},
     "output_type": "execute_result"
    }
   ],
   "source": [
    "pd.merge(df1, df2, how='cross')"
   ]
  },
  {
   "cell_type": "markdown",
   "id": "5e16ede6-7f40-4a7c-a1ee-96166f7a8e91",
   "metadata": {},
   "source": [
    "##### left_on/ right_on"
   ]
  },
  {
   "cell_type": "code",
   "execution_count": 39,
   "id": "4da27e95-77c0-4b13-86ec-6bb8b21e9a92",
   "metadata": {},
   "outputs": [
    {
     "data": {
      "text/html": [
       "<div>\n",
       "<style scoped>\n",
       "    .dataframe tbody tr th:only-of-type {\n",
       "        vertical-align: middle;\n",
       "    }\n",
       "\n",
       "    .dataframe tbody tr th {\n",
       "        vertical-align: top;\n",
       "    }\n",
       "\n",
       "    .dataframe thead th {\n",
       "        text-align: right;\n",
       "    }\n",
       "</style>\n",
       "<table border=\"1\" class=\"dataframe\">\n",
       "  <thead>\n",
       "    <tr style=\"text-align: right;\">\n",
       "      <th></th>\n",
       "      <th>EmpID</th>\n",
       "      <th>Salary</th>\n",
       "    </tr>\n",
       "  </thead>\n",
       "  <tbody>\n",
       "    <tr>\n",
       "      <th>0</th>\n",
       "      <td>4</td>\n",
       "      <td>50000</td>\n",
       "    </tr>\n",
       "    <tr>\n",
       "      <th>1</th>\n",
       "      <td>3</td>\n",
       "      <td>60000</td>\n",
       "    </tr>\n",
       "    <tr>\n",
       "      <th>2</th>\n",
       "      <td>1</td>\n",
       "      <td>70000</td>\n",
       "    </tr>\n",
       "    <tr>\n",
       "      <th>3</th>\n",
       "      <td>4</td>\n",
       "      <td>25000</td>\n",
       "    </tr>\n",
       "  </tbody>\n",
       "</table>\n",
       "</div>"
      ],
      "text/plain": [
       "   EmpID  Salary\n",
       "0      4   50000\n",
       "1      3   60000\n",
       "2      1   70000\n",
       "3      4   25000"
      ]
     },
     "execution_count": 39,
     "metadata": {},
     "output_type": "execute_result"
    }
   ],
   "source": [
    "df3 = pd.DataFrame({'EmpID': [4, 3, 1, 4], 'Salary': [50000, 60000, 70000, 25000]})\n",
    "df3"
   ]
  },
  {
   "cell_type": "code",
   "execution_count": 40,
   "id": "ddc298c9-3008-4050-8c52-af34c855ee11",
   "metadata": {},
   "outputs": [
    {
     "data": {
      "text/html": [
       "<div>\n",
       "<style scoped>\n",
       "    .dataframe tbody tr th:only-of-type {\n",
       "        vertical-align: middle;\n",
       "    }\n",
       "\n",
       "    .dataframe tbody tr th {\n",
       "        vertical-align: top;\n",
       "    }\n",
       "\n",
       "    .dataframe thead th {\n",
       "        text-align: right;\n",
       "    }\n",
       "</style>\n",
       "<table border=\"1\" class=\"dataframe\">\n",
       "  <thead>\n",
       "    <tr style=\"text-align: right;\">\n",
       "      <th></th>\n",
       "      <th>EmployeeID</th>\n",
       "      <th>Name</th>\n",
       "      <th>DeptID</th>\n",
       "      <th>EmpID</th>\n",
       "      <th>Salary</th>\n",
       "    </tr>\n",
       "  </thead>\n",
       "  <tbody>\n",
       "    <tr>\n",
       "      <th>0</th>\n",
       "      <td>1</td>\n",
       "      <td>Alice</td>\n",
       "      <td>D001</td>\n",
       "      <td>1</td>\n",
       "      <td>70000</td>\n",
       "    </tr>\n",
       "    <tr>\n",
       "      <th>1</th>\n",
       "      <td>3</td>\n",
       "      <td>Charlie</td>\n",
       "      <td>D001</td>\n",
       "      <td>3</td>\n",
       "      <td>60000</td>\n",
       "    </tr>\n",
       "    <tr>\n",
       "      <th>2</th>\n",
       "      <td>4</td>\n",
       "      <td>DAvid</td>\n",
       "      <td>D555</td>\n",
       "      <td>4</td>\n",
       "      <td>50000</td>\n",
       "    </tr>\n",
       "    <tr>\n",
       "      <th>3</th>\n",
       "      <td>4</td>\n",
       "      <td>DAvid</td>\n",
       "      <td>D555</td>\n",
       "      <td>4</td>\n",
       "      <td>25000</td>\n",
       "    </tr>\n",
       "  </tbody>\n",
       "</table>\n",
       "</div>"
      ],
      "text/plain": [
       "   EmployeeID     Name DeptID  EmpID  Salary\n",
       "0           1    Alice   D001      1   70000\n",
       "1           3  Charlie   D001      3   60000\n",
       "2           4    DAvid   D555      4   50000\n",
       "3           4    DAvid   D555      4   25000"
      ]
     },
     "execution_count": 40,
     "metadata": {},
     "output_type": "execute_result"
    }
   ],
   "source": [
    "pd.merge(df1, df3, left_on = 'EmployeeID', right_on = 'EmpID', sort = True) "
   ]
  },
  {
   "cell_type": "markdown",
   "id": "8e68a348-8ff5-473a-91ec-1496456ac475",
   "metadata": {},
   "source": [
    "#### multiple col_name- same; suffixes specify Tuple of string suffixes to apply to overlapping column names "
   ]
  },
  {
   "cell_type": "code",
   "execution_count": 47,
   "id": "a748858b-1eac-4fcb-ae86-dc3e6c24b039",
   "metadata": {},
   "outputs": [
    {
     "name": "stdout",
     "output_type": "stream",
     "text": [
      "   ID  col_2_dfA  col_2_dfB\n",
      "0   1         10         15\n",
      "1   2         20         20\n"
     ]
    }
   ],
   "source": [
    "    df_a = pd.DataFrame({'ID': [1, 2, 4], 'col_2': [10, 20, 13]})\n",
    "    df_b = pd.DataFrame({'ID': [1, 3, 2], 'col_2': [15, 25, 20]})\n",
    "    merged_suffixes = pd.merge(df_a, df_b, on='ID', suffixes=('_dfA', '_dfB'))\n",
    "    print(merged_suffixes)"
   ]
  },
  {
   "cell_type": "code",
   "execution_count": null,
   "id": "b2d592f2-fcae-4af2-a33e-6af9914df3c7",
   "metadata": {},
   "outputs": [],
   "source": []
  },
  {
   "cell_type": "code",
   "execution_count": null,
   "id": "d28614ef-b17d-4f15-93d6-690faec87017",
   "metadata": {},
   "outputs": [],
   "source": []
  }
 ],
 "metadata": {
  "kernelspec": {
   "display_name": "Python 3 (ipykernel)",
   "language": "python",
   "name": "python3"
  },
  "language_info": {
   "codemirror_mode": {
    "name": "ipython",
    "version": 3
   },
   "file_extension": ".py",
   "mimetype": "text/x-python",
   "name": "python",
   "nbconvert_exporter": "python",
   "pygments_lexer": "ipython3",
   "version": "3.10.12"
  }
 },
 "nbformat": 4,
 "nbformat_minor": 5
}
