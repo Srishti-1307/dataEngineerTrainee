{
 "cells": [
  {
   "cell_type": "code",
   "execution_count": 1,
   "id": "a7a91c1c-1b60-4ab4-ad5c-85817c6b61cd",
   "metadata": {},
   "outputs": [],
   "source": [
    "import pandas as pd"
   ]
  },
  {
   "cell_type": "markdown",
   "id": "e32c7a6a-94c5-4c1e-9c4c-6d3b8a44a4da",
   "metadata": {},
   "source": [
    "#### Pandas has Timestamp objects and DatetimeIndex."
   ]
  },
  {
   "cell_type": "markdown",
   "id": "262d3b16-7378-4a03-af74-3036c9e13822",
   "metadata": {},
   "source": [
    "##### Conversion to Datetime Objects: converts into datetime64[ns] objects [internal representation for datetime]"
   ]
  },
  {
   "cell_type": "code",
   "execution_count": 3,
   "id": "eca5bd40-87f5-467c-a0d5-0a46b0c5a5b0",
   "metadata": {},
   "outputs": [],
   "source": [
    "date_str = '2025-07-13'"
   ]
  },
  {
   "cell_type": "code",
   "execution_count": 5,
   "id": "77256be1-cb3b-4185-9d27-65c246a81f18",
   "metadata": {},
   "outputs": [
    {
     "data": {
      "text/plain": [
       "str"
      ]
     },
     "execution_count": 5,
     "metadata": {},
     "output_type": "execute_result"
    }
   ],
   "source": [
    "type(date_str)"
   ]
  },
  {
   "cell_type": "code",
   "execution_count": 6,
   "id": "38947d0c-c256-4fd2-af4b-363bbf6ea0d7",
   "metadata": {},
   "outputs": [],
   "source": [
    "date = pd.to_datetime(date_str)"
   ]
  },
  {
   "cell_type": "code",
   "execution_count": 7,
   "id": "c5b56223-4337-4765-9aad-ba0898205918",
   "metadata": {},
   "outputs": [
    {
     "data": {
      "text/plain": [
       "pandas._libs.tslibs.timestamps.Timestamp"
      ]
     },
     "execution_count": 7,
     "metadata": {},
     "output_type": "execute_result"
    }
   ],
   "source": [
    "type(date)"
   ]
  },
  {
   "cell_type": "code",
   "execution_count": null,
   "id": "a7d07eeb-18cc-4a66-b1b5-21cb16afedfe",
   "metadata": {},
   "outputs": [],
   "source": []
  },
  {
   "cell_type": "markdown",
   "id": "90dab405-95fe-4b8f-9d2c-8987a3483731",
   "metadata": {},
   "source": [
    "##### creating TimeStamp object"
   ]
  },
  {
   "cell_type": "code",
   "execution_count": 33,
   "id": "ec2959ae-2bb4-4376-bfc1-cd898937e6c9",
   "metadata": {},
   "outputs": [
    {
     "name": "stdout",
     "output_type": "stream",
     "text": [
      "2010-07-16 21:30:00\n"
     ]
    }
   ],
   "source": [
    "timeobj = pd.Timestamp('2010-7-16 21:30:00')\n",
    "print(timeobj)"
   ]
  },
  {
   "cell_type": "code",
   "execution_count": 34,
   "id": "2f4a6689-e794-4a27-a26b-9e95c222c84b",
   "metadata": {},
   "outputs": [
    {
     "data": {
      "text/plain": [
       "2010"
      ]
     },
     "execution_count": 34,
     "metadata": {},
     "output_type": "execute_result"
    }
   ],
   "source": [
    "timeobj.year"
   ]
  },
  {
   "cell_type": "code",
   "execution_count": 35,
   "id": "38e717e7-40d4-4f5c-ab03-519f1dbb56da",
   "metadata": {},
   "outputs": [
    {
     "data": {
      "text/plain": [
       "21"
      ]
     },
     "execution_count": 35,
     "metadata": {},
     "output_type": "execute_result"
    }
   ],
   "source": [
    "timeobj.hour"
   ]
  },
  {
   "cell_type": "code",
   "execution_count": 36,
   "id": "81b3dc32-c824-4f21-b735-3bf95bb5fb01",
   "metadata": {},
   "outputs": [
    {
     "data": {
      "text/plain": [
       "3"
      ]
     },
     "execution_count": 36,
     "metadata": {},
     "output_type": "execute_result"
    }
   ],
   "source": [
    "timeobj.quarter"
   ]
  },
  {
   "cell_type": "code",
   "execution_count": null,
   "id": "0351d225-0680-4cfb-b377-b06cd4a37dd3",
   "metadata": {},
   "outputs": [],
   "source": []
  },
  {
   "cell_type": "markdown",
   "id": "63741751-cea6-45da-b027-9cda373e3ac5",
   "metadata": {},
   "source": [
    "##### parse_dates parameter can be used to automatically convert specified columns to datetime objects during import"
   ]
  },
  {
   "cell_type": "code",
   "execution_count": 13,
   "id": "e4384d2a-cf4d-44e3-8b97-9aa30460f5e1",
   "metadata": {},
   "outputs": [
    {
     "data": {
      "text/plain": [
       "dtype('O')"
      ]
     },
     "execution_count": 13,
     "metadata": {},
     "output_type": "execute_result"
    }
   ],
   "source": [
    "df = pd.read_csv('sales_data.csv')\n",
    "df['Date'].dtype"
   ]
  },
  {
   "cell_type": "code",
   "execution_count": 15,
   "id": "0129ef69-8200-47e5-9199-86b09d6b900c",
   "metadata": {},
   "outputs": [
    {
     "data": {
      "text/plain": [
       "dtype('<M8[ns]')"
      ]
     },
     "execution_count": 15,
     "metadata": {},
     "output_type": "execute_result"
    }
   ],
   "source": [
    "df = pd.read_csv('sales_data.csv', parse_dates=['Date'])\n",
    "df['Date'].dtype                                               #datetime64 data type with nanosecond"
   ]
  },
  {
   "cell_type": "markdown",
   "id": "e6274f0e-d7fd-4ddb-a0fa-880584c1624a",
   "metadata": {},
   "source": [
    "##### Accessing Datetime Components:"
   ]
  },
  {
   "cell_type": "code",
   "execution_count": 19,
   "id": "2d884d24-d776-4b1b-af8f-583e983f440a",
   "metadata": {},
   "outputs": [
    {
     "data": {
      "text/plain": [
       "0         2013\n",
       "1         2015\n",
       "2         2014\n",
       "3         2016\n",
       "4         2014\n",
       "          ... \n",
       "113031    2016\n",
       "113032    2014\n",
       "113033    2016\n",
       "113034    2014\n",
       "113035    2016\n",
       "Name: Date, Length: 113036, dtype: int32"
      ]
     },
     "execution_count": 19,
     "metadata": {},
     "output_type": "execute_result"
    }
   ],
   "source": [
    "df['Date'].dt.year"
   ]
  },
  {
   "cell_type": "code",
   "execution_count": 20,
   "id": "d23eaa1f-e1b0-4b8b-970a-4f6c70f7c3f2",
   "metadata": {},
   "outputs": [
    {
     "data": {
      "text/plain": [
       "array([2013, 2015, 2014, 2016, 2012, 2011], dtype=int32)"
      ]
     },
     "execution_count": 20,
     "metadata": {},
     "output_type": "execute_result"
    }
   ],
   "source": [
    "df['Date'].dt.year.unique()"
   ]
  },
  {
   "cell_type": "code",
   "execution_count": 21,
   "id": "68b986f0-4d10-48e4-9ab8-b406f4897ae5",
   "metadata": {},
   "outputs": [
    {
     "data": {
      "text/plain": [
       "0         11\n",
       "1         11\n",
       "2          3\n",
       "3          3\n",
       "4          5\n",
       "          ..\n",
       "113031     4\n",
       "113032     4\n",
       "113033     4\n",
       "113034     3\n",
       "113035     3\n",
       "Name: Date, Length: 113036, dtype: int32"
      ]
     },
     "execution_count": 21,
     "metadata": {},
     "output_type": "execute_result"
    }
   ],
   "source": [
    "df['Date'].dt.month"
   ]
  },
  {
   "cell_type": "code",
   "execution_count": null,
   "id": "c39f3a58-1f0a-41f2-ac10-da262de28284",
   "metadata": {},
   "outputs": [],
   "source": []
  },
  {
   "cell_type": "markdown",
   "id": "853eaa8c-497a-4011-83a4-187d2b7af9e4",
   "metadata": {},
   "source": [
    "#### using datetime module of python"
   ]
  },
  {
   "cell_type": "code",
   "execution_count": 24,
   "id": "53772d94-c260-4ccd-8938-b80cb7bc011b",
   "metadata": {},
   "outputs": [],
   "source": [
    "from datetime import date"
   ]
  },
  {
   "cell_type": "code",
   "execution_count": 26,
   "id": "b9fc4140-bb23-4c7f-933f-a56671c04061",
   "metadata": {},
   "outputs": [
    {
     "name": "stdout",
     "output_type": "stream",
     "text": [
      "2000-01-21\n"
     ]
    }
   ],
   "source": [
    "date1 = date(2000, 1,21)\n",
    "print(date1)"
   ]
  },
  {
   "cell_type": "code",
   "execution_count": 37,
   "id": "a2a52f13-d01f-442c-8f0f-72e3ed09b5eb",
   "metadata": {},
   "outputs": [],
   "source": [
    "from datetime import time"
   ]
  },
  {
   "cell_type": "code",
   "execution_count": 38,
   "id": "ba3bc4bd-514d-4cb5-bad2-d50c856940b9",
   "metadata": {},
   "outputs": [
    {
     "name": "stdout",
     "output_type": "stream",
     "text": [
      "15:10:40\n"
     ]
    }
   ],
   "source": [
    "time1 = time(15,10,40)\n",
    "print(time1)"
   ]
  },
  {
   "cell_type": "code",
   "execution_count": null,
   "id": "e8d7fafc-4a46-4643-8224-d4d434ea9f3c",
   "metadata": {},
   "outputs": [],
   "source": []
  }
 ],
 "metadata": {
  "kernelspec": {
   "display_name": "Python 3 (ipykernel)",
   "language": "python",
   "name": "python3"
  },
  "language_info": {
   "codemirror_mode": {
    "name": "ipython",
    "version": 3
   },
   "file_extension": ".py",
   "mimetype": "text/x-python",
   "name": "python",
   "nbconvert_exporter": "python",
   "pygments_lexer": "ipython3",
   "version": "3.10.12"
  }
 },
 "nbformat": 4,
 "nbformat_minor": 5
}
