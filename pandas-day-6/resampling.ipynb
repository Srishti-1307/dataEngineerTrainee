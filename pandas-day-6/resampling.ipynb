{
 "cells": [
  {
   "cell_type": "code",
   "execution_count": 1,
   "id": "a6054b78-3c77-4d1a-9850-91fc41ba71ef",
   "metadata": {},
   "outputs": [],
   "source": [
    "import pandas as pd"
   ]
  },
  {
   "cell_type": "markdown",
   "id": "56e10b97-bf90-4904-8dc9-8e6e3dcbaa47",
   "metadata": {},
   "source": [
    "#### resampling : changing freq of timeSeries\n",
    "* downsampling:  reducing the frequency [from daily to weekly]\n",
    "* upsampling: increasing the frequency [from daily to hourly]"
   ]
  },
  {
   "cell_type": "code",
   "execution_count": 3,
   "id": "97fc22a4-4a09-4ae4-a332-039d91276dbd",
   "metadata": {},
   "outputs": [
    {
     "name": "stderr",
     "output_type": "stream",
     "text": [
      "/tmp/ipykernel_11610/239557262.py:1: FutureWarning: 'T' is deprecated and will be removed in a future version, please use 'min' instead.\n",
      "  index = pd.date_range('2020-03-15', periods=8, freq='T')         # 'T' for minute frequency\n"
     ]
    }
   ],
   "source": [
    "index = pd.date_range('2020-03-15', periods=8, freq='T')         # 'T' for minute frequency"
   ]
  },
  {
   "cell_type": "code",
   "execution_count": 4,
   "id": "239cc457-99ae-4545-9c37-9a803ce0fa1f",
   "metadata": {},
   "outputs": [],
   "source": [
    "s = pd.Series(range(8), index=index)"
   ]
  },
  {
   "cell_type": "code",
   "execution_count": 5,
   "id": "9da12bb3-de7e-48d4-81ff-3fc57cb755b1",
   "metadata": {},
   "outputs": [
    {
     "data": {
      "text/plain": [
       "2020-03-15 00:00:00    0\n",
       "2020-03-15 00:01:00    1\n",
       "2020-03-15 00:02:00    2\n",
       "2020-03-15 00:03:00    3\n",
       "2020-03-15 00:04:00    4\n",
       "2020-03-15 00:05:00    5\n",
       "2020-03-15 00:06:00    6\n",
       "2020-03-15 00:07:00    7\n",
       "Freq: min, dtype: int64"
      ]
     },
     "execution_count": 5,
     "metadata": {},
     "output_type": "execute_result"
    }
   ],
   "source": [
    "s"
   ]
  },
  {
   "cell_type": "markdown",
   "id": "917f0421-65a8-4ccc-b14f-7a66a7447939",
   "metadata": {},
   "source": [
    "#### downsampling"
   ]
  },
  {
   "cell_type": "code",
   "execution_count": 8,
   "id": "b511d2bf-8814-4f73-bef6-4ddaa8e6e773",
   "metadata": {},
   "outputs": [
    {
     "name": "stderr",
     "output_type": "stream",
     "text": [
      "/tmp/ipykernel_11610/2042118257.py:1: FutureWarning: 'T' is deprecated and will be removed in a future version, please use 'min' instead.\n",
      "  s.resample('3T').sum()                         # from minute-level frequency to a 3-minute frequency and calculating the sum\n"
     ]
    },
    {
     "data": {
      "text/plain": [
       "2020-03-15 00:00:00     3\n",
       "2020-03-15 00:03:00    12\n",
       "2020-03-15 00:06:00    13\n",
       "Freq: 3min, dtype: int64"
      ]
     },
     "execution_count": 8,
     "metadata": {},
     "output_type": "execute_result"
    }
   ],
   "source": [
    "s.resample('3T').sum()                         # from minute-level frequency to a 3-minute frequency and calculating the sum"
   ]
  },
  {
   "cell_type": "code",
   "execution_count": 19,
   "id": "95789f11-6e1a-4882-b737-e6f959e3606a",
   "metadata": {},
   "outputs": [
    {
     "name": "stderr",
     "output_type": "stream",
     "text": [
      "/tmp/ipykernel_11610/2689423863.py:1: FutureWarning: 'S' is deprecated and will be removed in a future version, please use 's' instead.\n",
      "  s.resample('30S').sum()\n"
     ]
    },
    {
     "data": {
      "text/plain": [
       "2020-03-15 00:00:00    0\n",
       "2020-03-15 00:00:30    0\n",
       "2020-03-15 00:01:00    1\n",
       "2020-03-15 00:01:30    0\n",
       "2020-03-15 00:02:00    2\n",
       "2020-03-15 00:02:30    0\n",
       "2020-03-15 00:03:00    3\n",
       "2020-03-15 00:03:30    0\n",
       "2020-03-15 00:04:00    4\n",
       "2020-03-15 00:04:30    0\n",
       "2020-03-15 00:05:00    5\n",
       "2020-03-15 00:05:30    0\n",
       "2020-03-15 00:06:00    6\n",
       "2020-03-15 00:06:30    0\n",
       "2020-03-15 00:07:00    7\n",
       "Freq: 30s, dtype: int64"
      ]
     },
     "execution_count": 19,
     "metadata": {},
     "output_type": "execute_result"
    }
   ],
   "source": [
    "s.resample('30S').sum()"
   ]
  },
  {
   "cell_type": "markdown",
   "id": "30a5ea56-deb2-4126-94e6-8b3a4faa2ba5",
   "metadata": {},
   "source": [
    "#### resampling based on specific col and not on index"
   ]
  },
  {
   "cell_type": "code",
   "execution_count": 20,
   "id": "4e71dcb9-f862-4557-b873-9b96aeb9c503",
   "metadata": {},
   "outputs": [],
   "source": [
    "data = {'price': [20, 21, 19, 23, 24, 28, 27, 29],\n",
    "        'volume': [60, 70, 50, 100, 60, 100, 40, 60]}"
   ]
  },
  {
   "cell_type": "code",
   "execution_count": 21,
   "id": "a883079f-7bcd-484c-8732-ca690f43d6bb",
   "metadata": {},
   "outputs": [],
   "source": [
    "df = pd.DataFrame(data)"
   ]
  },
  {
   "cell_type": "code",
   "execution_count": 22,
   "id": "2f0ba82a-af89-4d80-9a90-08b264f2ed88",
   "metadata": {},
   "outputs": [],
   "source": [
    "df['week'] = pd.date_range('2025-07-20', periods=8, freq='W')"
   ]
  },
  {
   "cell_type": "code",
   "execution_count": 23,
   "id": "29f22a60-d7f8-4640-b4fa-942c9124059e",
   "metadata": {},
   "outputs": [
    {
     "data": {
      "text/html": [
       "<div>\n",
       "<style scoped>\n",
       "    .dataframe tbody tr th:only-of-type {\n",
       "        vertical-align: middle;\n",
       "    }\n",
       "\n",
       "    .dataframe tbody tr th {\n",
       "        vertical-align: top;\n",
       "    }\n",
       "\n",
       "    .dataframe thead th {\n",
       "        text-align: right;\n",
       "    }\n",
       "</style>\n",
       "<table border=\"1\" class=\"dataframe\">\n",
       "  <thead>\n",
       "    <tr style=\"text-align: right;\">\n",
       "      <th></th>\n",
       "      <th>price</th>\n",
       "      <th>volume</th>\n",
       "      <th>week</th>\n",
       "    </tr>\n",
       "  </thead>\n",
       "  <tbody>\n",
       "    <tr>\n",
       "      <th>0</th>\n",
       "      <td>20</td>\n",
       "      <td>60</td>\n",
       "      <td>2025-07-20</td>\n",
       "    </tr>\n",
       "    <tr>\n",
       "      <th>1</th>\n",
       "      <td>21</td>\n",
       "      <td>70</td>\n",
       "      <td>2025-07-27</td>\n",
       "    </tr>\n",
       "    <tr>\n",
       "      <th>2</th>\n",
       "      <td>19</td>\n",
       "      <td>50</td>\n",
       "      <td>2025-08-03</td>\n",
       "    </tr>\n",
       "    <tr>\n",
       "      <th>3</th>\n",
       "      <td>23</td>\n",
       "      <td>100</td>\n",
       "      <td>2025-08-10</td>\n",
       "    </tr>\n",
       "    <tr>\n",
       "      <th>4</th>\n",
       "      <td>24</td>\n",
       "      <td>60</td>\n",
       "      <td>2025-08-17</td>\n",
       "    </tr>\n",
       "    <tr>\n",
       "      <th>5</th>\n",
       "      <td>28</td>\n",
       "      <td>100</td>\n",
       "      <td>2025-08-24</td>\n",
       "    </tr>\n",
       "    <tr>\n",
       "      <th>6</th>\n",
       "      <td>27</td>\n",
       "      <td>40</td>\n",
       "      <td>2025-08-31</td>\n",
       "    </tr>\n",
       "    <tr>\n",
       "      <th>7</th>\n",
       "      <td>29</td>\n",
       "      <td>60</td>\n",
       "      <td>2025-09-07</td>\n",
       "    </tr>\n",
       "  </tbody>\n",
       "</table>\n",
       "</div>"
      ],
      "text/plain": [
       "   price  volume       week\n",
       "0     20      60 2025-07-20\n",
       "1     21      70 2025-07-27\n",
       "2     19      50 2025-08-03\n",
       "3     23     100 2025-08-10\n",
       "4     24      60 2025-08-17\n",
       "5     28     100 2025-08-24\n",
       "6     27      40 2025-08-31\n",
       "7     29      60 2025-09-07"
      ]
     },
     "execution_count": 23,
     "metadata": {},
     "output_type": "execute_result"
    }
   ],
   "source": [
    "df"
   ]
  },
  {
   "cell_type": "code",
   "execution_count": 25,
   "id": "f3c41fd9-00a1-4430-8fe0-bb6264344a6f",
   "metadata": {},
   "outputs": [
    {
     "name": "stderr",
     "output_type": "stream",
     "text": [
      "/tmp/ipykernel_11610/984113423.py:1: FutureWarning: 'M' is deprecated and will be removed in a future version, please use 'ME' instead.\n",
      "  df.resample('M', on = 'week').mean()\n"
     ]
    },
    {
     "data": {
      "text/html": [
       "<div>\n",
       "<style scoped>\n",
       "    .dataframe tbody tr th:only-of-type {\n",
       "        vertical-align: middle;\n",
       "    }\n",
       "\n",
       "    .dataframe tbody tr th {\n",
       "        vertical-align: top;\n",
       "    }\n",
       "\n",
       "    .dataframe thead th {\n",
       "        text-align: right;\n",
       "    }\n",
       "</style>\n",
       "<table border=\"1\" class=\"dataframe\">\n",
       "  <thead>\n",
       "    <tr style=\"text-align: right;\">\n",
       "      <th></th>\n",
       "      <th>price</th>\n",
       "      <th>volume</th>\n",
       "    </tr>\n",
       "    <tr>\n",
       "      <th>week</th>\n",
       "      <th></th>\n",
       "      <th></th>\n",
       "    </tr>\n",
       "  </thead>\n",
       "  <tbody>\n",
       "    <tr>\n",
       "      <th>2025-07-31</th>\n",
       "      <td>20.5</td>\n",
       "      <td>65.0</td>\n",
       "    </tr>\n",
       "    <tr>\n",
       "      <th>2025-08-31</th>\n",
       "      <td>24.2</td>\n",
       "      <td>70.0</td>\n",
       "    </tr>\n",
       "    <tr>\n",
       "      <th>2025-09-30</th>\n",
       "      <td>29.0</td>\n",
       "      <td>60.0</td>\n",
       "    </tr>\n",
       "  </tbody>\n",
       "</table>\n",
       "</div>"
      ],
      "text/plain": [
       "            price  volume\n",
       "week                     \n",
       "2025-07-31   20.5    65.0\n",
       "2025-08-31   24.2    70.0\n",
       "2025-09-30   29.0    60.0"
      ]
     },
     "execution_count": 25,
     "metadata": {},
     "output_type": "execute_result"
    }
   ],
   "source": [
    "df.resample('M', on = 'week').mean()"
   ]
  },
  {
   "cell_type": "code",
   "execution_count": null,
   "id": "e8bb93d2-a4a3-486d-877d-a8165deeb177",
   "metadata": {},
   "outputs": [],
   "source": []
  }
 ],
 "metadata": {
  "kernelspec": {
   "display_name": "Python 3 (ipykernel)",
   "language": "python",
   "name": "python3"
  },
  "language_info": {
   "codemirror_mode": {
    "name": "ipython",
    "version": 3
   },
   "file_extension": ".py",
   "mimetype": "text/x-python",
   "name": "python",
   "nbconvert_exporter": "python",
   "pygments_lexer": "ipython3",
   "version": "3.10.12"
  }
 },
 "nbformat": 4,
 "nbformat_minor": 5
}
