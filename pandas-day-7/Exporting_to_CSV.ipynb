{
 "cells": [
  {
   "cell_type": "code",
   "execution_count": 1,
   "id": "f14b725c-5117-481c-9d19-49470b743e64",
   "metadata": {},
   "outputs": [],
   "source": [
    "import pandas as pd"
   ]
  },
  {
   "cell_type": "code",
   "execution_count": 2,
   "id": "9804432e-232d-4747-bb51-4023cdf9bb1a",
   "metadata": {},
   "outputs": [],
   "source": [
    "data = {'Name': ['Alice', 'Bob'], 'Age': [25, 30]}"
   ]
  },
  {
   "cell_type": "code",
   "execution_count": 3,
   "id": "a54011b3-ff21-4466-8568-fb5c85e08323",
   "metadata": {},
   "outputs": [
    {
     "data": {
      "text/html": [
       "<div>\n",
       "<style scoped>\n",
       "    .dataframe tbody tr th:only-of-type {\n",
       "        vertical-align: middle;\n",
       "    }\n",
       "\n",
       "    .dataframe tbody tr th {\n",
       "        vertical-align: top;\n",
       "    }\n",
       "\n",
       "    .dataframe thead th {\n",
       "        text-align: right;\n",
       "    }\n",
       "</style>\n",
       "<table border=\"1\" class=\"dataframe\">\n",
       "  <thead>\n",
       "    <tr style=\"text-align: right;\">\n",
       "      <th></th>\n",
       "      <th>Name</th>\n",
       "      <th>Age</th>\n",
       "    </tr>\n",
       "  </thead>\n",
       "  <tbody>\n",
       "    <tr>\n",
       "      <th>0</th>\n",
       "      <td>Alice</td>\n",
       "      <td>25</td>\n",
       "    </tr>\n",
       "    <tr>\n",
       "      <th>1</th>\n",
       "      <td>Bob</td>\n",
       "      <td>30</td>\n",
       "    </tr>\n",
       "  </tbody>\n",
       "</table>\n",
       "</div>"
      ],
      "text/plain": [
       "    Name  Age\n",
       "0  Alice   25\n",
       "1    Bob   30"
      ]
     },
     "execution_count": 3,
     "metadata": {},
     "output_type": "execute_result"
    }
   ],
   "source": [
    "df = pd.DataFrame(data)\n",
    "df"
   ]
  },
  {
   "cell_type": "code",
   "execution_count": 4,
   "id": "39efc2c5-4e84-40b5-acda-35489c7b8060",
   "metadata": {},
   "outputs": [],
   "source": [
    "df.to_csv('output.csv')"
   ]
  },
  {
   "cell_type": "code",
   "execution_count": 5,
   "id": "4ee846c3-4086-43c8-b67a-aa4c4620e8cf",
   "metadata": {},
   "outputs": [],
   "source": [
    "df.to_csv('output_no_index.csv', index=False)                           #Excluding the Index:"
   ]
  },
  {
   "cell_type": "raw",
   "id": "82f11856-7dc7-4aa4-9ff5-afbaeeeb69b0",
   "metadata": {},
   "source": [
    "Specifying a Different Separator:\n",
    "\n",
    "df.to_csv('file.csv', sep='\\t')"
   ]
  },
  {
   "cell_type": "raw",
   "id": "6ea7bb7d-482d-4af1-bdbe-54941206d8ea",
   "metadata": {},
   "source": [
    "To represent missing values (NaN) with a specific string, use the na_rep\n",
    "\n",
    "df.to_csv('file.csv', na_rep='N/A')"
   ]
  },
  {
   "cell_type": "raw",
   "id": "36a7fcd1-8592-4d50-a396-b496eb3d8af2",
   "metadata": {},
   "source": [
    "To export only a subset of columns/some specific columns only\n",
    "\n",
    "df.to_csv('file.csv', columns=[give col names])"
   ]
  },
  {
   "cell_type": "raw",
   "id": "9bbd646e-bd80-4fee-b978-cbf993476ec8",
   "metadata": {},
   "source": [
    "for compresion use compression = 'compression format'"
   ]
  },
  {
   "cell_type": "code",
   "execution_count": 9,
   "id": "02fce22b-fccd-43e5-ab8f-a01a9a8df65e",
   "metadata": {},
   "outputs": [],
   "source": [
    "df.to_csv('zip_file.csv.gz', compression='gzip')"
   ]
  },
  {
   "cell_type": "markdown",
   "id": "45d8a1e7-da71-4f6a-9437-fd601d4badde",
   "metadata": {},
   "source": [
    "#### if file already exists use mode\n",
    "* w- default\n",
    "* a - When appending, it's often desirable to set header=False to prevent duplicate headers in the appended file.\n",
    "* x- (exclusive creation mode) attempts to create a new file exclusively. If the specified file path already exists, the operation will fail and raise a FileExistsError, preventing accidental overwriting."
   ]
  },
  {
   "cell_type": "code",
   "execution_count": 11,
   "id": "3b467792-ad6a-4b78-a92a-32a46cf1646a",
   "metadata": {},
   "outputs": [
    {
     "name": "stdout",
     "output_type": "stream",
     "text": [
      "file already exists\n"
     ]
    }
   ],
   "source": [
    "try:\n",
    "    df.to_csv('output.csv', index=False, mode='x')\n",
    "except FileExistsError:\n",
    "    print('file already exists')"
   ]
  },
  {
   "cell_type": "code",
   "execution_count": null,
   "id": "12a50158-a1f9-4936-97db-2bbef3861607",
   "metadata": {},
   "outputs": [],
   "source": []
  }
 ],
 "metadata": {
  "kernelspec": {
   "display_name": "Python 3 (ipykernel)",
   "language": "python",
   "name": "python3"
  },
  "language_info": {
   "codemirror_mode": {
    "name": "ipython",
    "version": 3
   },
   "file_extension": ".py",
   "mimetype": "text/x-python",
   "name": "python",
   "nbconvert_exporter": "python",
   "pygments_lexer": "ipython3",
   "version": "3.10.12"
  }
 },
 "nbformat": 4,
 "nbformat_minor": 5
}
