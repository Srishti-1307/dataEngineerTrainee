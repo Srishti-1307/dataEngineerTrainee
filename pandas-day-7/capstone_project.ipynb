{
 "cells": [
  {
   "cell_type": "raw",
   "id": "18fed836-8a3e-4a23-8c94-96fb406210ff",
   "metadata": {},
   "source": [
    "import pandas as pd\n",
    "import numpy as np\n",
    "import random\n",
    "from datetime import datetime, timedelta\n",
    "\n",
    "# Set random seed for reproducibility\n",
    "random.seed(42)\n",
    "np.random.seed(42)\n",
    "\n",
    "# Generate 150 random dates\n",
    "start_date = datetime(2023, 1, 1)\n",
    "date_list = [start_date + timedelta(days=i) for i in range(150)]\n",
    "random_dates = random.choices(date_list, k=150)\n",
    "\n",
    "# --- WEATHER DATASET ---\n",
    "weather_data = {\n",
    "    'date': [d.strftime('%Y-%m-%d') if i % 10 != 0 else d.strftime('%d/%m/%Y') for i, d in enumerate(random_dates)],\n",
    "    'Temp': [round(np.random.uniform(15, 40), 1) if i % 8 != 0 else 'hot' for i in range(150)],\n",
    "    'humidity(%)': [np.random.randint(20, 100) if i % 7 != 0 else np.nan for i in range(150)],\n",
    "    'wind_speed': [round(np.random.uniform(0, 20), 2) if i % 5 != 0 else \"fast\" for i in range(150)],\n",
    "    'city': [random.choice(['New York', 'Los Angeles', 'Chicago', np.nan, '']) for _ in range(150)],\n",
    "}\n",
    "\n",
    "weather_df = pd.DataFrame(weather_data)\n",
    "\n",
    "# Add some duplicate rows\n",
    "weather_df = pd.concat([weather_df, weather_df.iloc[0:5]], ignore_index=True)\n",
    "\n",
    "# --- SALES DATASET ---\n",
    "sales_data = {\n",
    "    'date': [d.strftime('%Y-%m-%d') if i % 6 != 0 else d.strftime('%B %d, %Y') for i, d in enumerate(random_dates)],\n",
    "    'sales_amount': [round(np.random.uniform(1000, 10000), 2) if i % 10 != 0 else 'high' for i in range(150)],\n",
    "    'product_id': [random.choice(['P001', 'P002', 'P003', np.nan, 'p001']) for _ in range(150)],\n",
    "    'units_sold': [np.random.randint(1, 50) if i % 9 != 0 else None for i in range(150)],\n",
    "    'store_location': [random.choice(['New York', 'Chicago', 'Houston', '', np.nan]) for _ in range(150)],\n",
    "}\n",
    "\n",
    "sales_df = pd.DataFrame(sales_data)\n",
    "\n",
    "# Add some duplicate rows\n",
    "sales_df = pd.concat([sales_df, sales_df.iloc[2:4]], ignore_index=True)\n",
    "\n",
    "# --- SAVE TO CSV FILES ---\n",
    "weather_df.to_csv(\"weather.csv\", index=False)\n",
    "sales_df.to_csv(\"sales.csv\", index=False)\n",
    "\n",
    "print(\"Generated messy 'weather.csv' and 'sales.csv' with 150+ rows each.\")\n"
   ]
  },
  {
   "cell_type": "code",
   "execution_count": 1,
   "id": "e1506eac-23a7-4ff8-a315-833bd0dd4bd7",
   "metadata": {},
   "outputs": [],
   "source": [
    "import pandas as pd\n",
    "import numpy as np"
   ]
  },
  {
   "cell_type": "markdown",
   "id": "e4b9ec5b-0749-43a4-8095-774ff16b6c47",
   "metadata": {},
   "source": [
    "#### Reading data"
   ]
  },
  {
   "cell_type": "code",
   "execution_count": 2,
   "id": "76abd6e7-9071-4ed2-9e13-e91cd0dcc29b",
   "metadata": {},
   "outputs": [
    {
     "data": {
      "text/html": [
       "<div>\n",
       "<style scoped>\n",
       "    .dataframe tbody tr th:only-of-type {\n",
       "        vertical-align: middle;\n",
       "    }\n",
       "\n",
       "    .dataframe tbody tr th {\n",
       "        vertical-align: top;\n",
       "    }\n",
       "\n",
       "    .dataframe thead th {\n",
       "        text-align: right;\n",
       "    }\n",
       "</style>\n",
       "<table border=\"1\" class=\"dataframe\">\n",
       "  <thead>\n",
       "    <tr style=\"text-align: right;\">\n",
       "      <th></th>\n",
       "      <th>date</th>\n",
       "      <th>sales_amount</th>\n",
       "      <th>product_id</th>\n",
       "      <th>units_sold</th>\n",
       "      <th>store_location</th>\n",
       "    </tr>\n",
       "  </thead>\n",
       "  <tbody>\n",
       "    <tr>\n",
       "      <th>0</th>\n",
       "      <td>April 06, 2023</td>\n",
       "      <td>high</td>\n",
       "      <td>P003</td>\n",
       "      <td>NaN</td>\n",
       "      <td>NaN</td>\n",
       "    </tr>\n",
       "    <tr>\n",
       "      <th>1</th>\n",
       "      <td>2023-01-04</td>\n",
       "      <td>6727.63</td>\n",
       "      <td>P003</td>\n",
       "      <td>28.0</td>\n",
       "      <td>NaN</td>\n",
       "    </tr>\n",
       "    <tr>\n",
       "      <th>2</th>\n",
       "      <td>2023-02-11</td>\n",
       "      <td>8208.54</td>\n",
       "      <td>P002</td>\n",
       "      <td>36.0</td>\n",
       "      <td>New York</td>\n",
       "    </tr>\n",
       "    <tr>\n",
       "      <th>3</th>\n",
       "      <td>2023-02-03</td>\n",
       "      <td>7094.52</td>\n",
       "      <td>NaN</td>\n",
       "      <td>26.0</td>\n",
       "      <td>Houston</td>\n",
       "    </tr>\n",
       "    <tr>\n",
       "      <th>4</th>\n",
       "      <td>2023-04-21</td>\n",
       "      <td>6160.3</td>\n",
       "      <td>p001</td>\n",
       "      <td>8.0</td>\n",
       "      <td>Houston</td>\n",
       "    </tr>\n",
       "  </tbody>\n",
       "</table>\n",
       "</div>"
      ],
      "text/plain": [
       "             date sales_amount product_id  units_sold store_location\n",
       "0  April 06, 2023         high       P003         NaN            NaN\n",
       "1      2023-01-04      6727.63       P003        28.0            NaN\n",
       "2      2023-02-11      8208.54       P002        36.0       New York\n",
       "3      2023-02-03      7094.52        NaN        26.0        Houston\n",
       "4      2023-04-21       6160.3       p001         8.0        Houston"
      ]
     },
     "execution_count": 2,
     "metadata": {},
     "output_type": "execute_result"
    }
   ],
   "source": [
    "df_sales = pd.read_csv('sales.csv')\n",
    "df_sales.head()"
   ]
  },
  {
   "cell_type": "code",
   "execution_count": 3,
   "id": "74fbb24b-19ef-4097-b0c5-f3868ecc92da",
   "metadata": {},
   "outputs": [
    {
     "data": {
      "text/html": [
       "<div>\n",
       "<style scoped>\n",
       "    .dataframe tbody tr th:only-of-type {\n",
       "        vertical-align: middle;\n",
       "    }\n",
       "\n",
       "    .dataframe tbody tr th {\n",
       "        vertical-align: top;\n",
       "    }\n",
       "\n",
       "    .dataframe thead th {\n",
       "        text-align: right;\n",
       "    }\n",
       "</style>\n",
       "<table border=\"1\" class=\"dataframe\">\n",
       "  <thead>\n",
       "    <tr style=\"text-align: right;\">\n",
       "      <th></th>\n",
       "      <th>date</th>\n",
       "      <th>Temp</th>\n",
       "      <th>humidity(%)</th>\n",
       "      <th>wind_speed</th>\n",
       "      <th>city</th>\n",
       "    </tr>\n",
       "  </thead>\n",
       "  <tbody>\n",
       "    <tr>\n",
       "      <th>0</th>\n",
       "      <td>06/04/2023</td>\n",
       "      <td>hot</td>\n",
       "      <td>NaN</td>\n",
       "      <td>fast</td>\n",
       "      <td>Chicago</td>\n",
       "    </tr>\n",
       "    <tr>\n",
       "      <th>1</th>\n",
       "      <td>2023-01-04</td>\n",
       "      <td>24.4</td>\n",
       "      <td>56.0</td>\n",
       "      <td>15.37</td>\n",
       "      <td>NaN</td>\n",
       "    </tr>\n",
       "    <tr>\n",
       "      <th>2</th>\n",
       "      <td>2023-02-11</td>\n",
       "      <td>38.8</td>\n",
       "      <td>70.0</td>\n",
       "      <td>0.87</td>\n",
       "      <td>NaN</td>\n",
       "    </tr>\n",
       "    <tr>\n",
       "      <th>3</th>\n",
       "      <td>2023-02-03</td>\n",
       "      <td>33.3</td>\n",
       "      <td>63.0</td>\n",
       "      <td>19.89</td>\n",
       "      <td>NaN</td>\n",
       "    </tr>\n",
       "    <tr>\n",
       "      <th>4</th>\n",
       "      <td>2023-04-21</td>\n",
       "      <td>30.0</td>\n",
       "      <td>43.0</td>\n",
       "      <td>9.4</td>\n",
       "      <td>New York</td>\n",
       "    </tr>\n",
       "  </tbody>\n",
       "</table>\n",
       "</div>"
      ],
      "text/plain": [
       "         date  Temp  humidity(%) wind_speed      city\n",
       "0  06/04/2023   hot          NaN       fast   Chicago\n",
       "1  2023-01-04  24.4         56.0      15.37       NaN\n",
       "2  2023-02-11  38.8         70.0       0.87       NaN\n",
       "3  2023-02-03  33.3         63.0      19.89       NaN\n",
       "4  2023-04-21  30.0         43.0        9.4  New York"
      ]
     },
     "execution_count": 3,
     "metadata": {},
     "output_type": "execute_result"
    }
   ],
   "source": [
    "df_weather = pd.read_csv('weather.csv')\n",
    "df_weather.head()"
   ]
  },
  {
   "cell_type": "markdown",
   "id": "433d0cf1-65d5-4f8b-bc8f-57e8aff598e4",
   "metadata": {},
   "source": [
    "#### Cleaning and Transforming"
   ]
  },
  {
   "cell_type": "code",
   "execution_count": 4,
   "id": "e04d05be-c85e-4d01-a821-716a7e27e508",
   "metadata": {},
   "outputs": [
    {
     "data": {
      "text/plain": [
       "(152, 5)"
      ]
     },
     "execution_count": 4,
     "metadata": {},
     "output_type": "execute_result"
    }
   ],
   "source": [
    "df_sales.shape"
   ]
  },
  {
   "cell_type": "markdown",
   "id": "0ce59669-3cc3-4a9b-8612-5c241462d656",
   "metadata": {},
   "source": [
    "#### replacing str values like 'High' from 'sales_amount' column with median and changing column's name to 'sales'"
   ]
  },
  {
   "cell_type": "code",
   "execution_count": 5,
   "id": "ac195f16-3ed8-488c-b1ed-41a0eef50083",
   "metadata": {},
   "outputs": [
    {
     "data": {
      "text/plain": [
       "dtype('O')"
      ]
     },
     "execution_count": 5,
     "metadata": {},
     "output_type": "execute_result"
    }
   ],
   "source": [
    "df_sales['sales_amount'].dtype"
   ]
  },
  {
   "cell_type": "code",
   "execution_count": 6,
   "id": "4b532060-8368-495c-aed6-81aa5bc2476d",
   "metadata": {},
   "outputs": [
    {
     "data": {
      "text/plain": [
       "array(['high', '6727.63', '8208.54', '7094.52', '6160.3', '2156.5',\n",
       "       '8300.84', '8385.76', '6633.46', '8383.84', '6863.36', '2860.16',\n",
       "       '3465.65', '2931.3', '4395.33', '1350.67', '6564.28', '4028.99',\n",
       "       '6901.5', '4468.57', '7134.52', '4065.62', '3346.25', '5464.34',\n",
       "       '7236.01', '4135.03', '9429.83', '1352.68', '4761.51', '9708.22',\n",
       "       '5931.75', '4811.24', '6116.68', '6183.32', '7584.83', '2149.21',\n",
       "       '3250.15', '6224.9', '8804.05', '6056.8', '3147.37', '7118.6',\n",
       "       '7659.18', '3144.13', '4399.56', '5808.95', '5469.05', '4506.56',\n",
       "       '3678.72', '1899.86', '1481.37', '9626.87', '8624.29', '4194.15',\n",
       "       '9611.21', '7090.93', '5342.69', '5437.23', '1749.56', '1825.34',\n",
       "       '6421.97', '5983.33', '2914.55', '9515.75', '8031.66', '2021.18',\n",
       "       '9378.36', '9768.23', '9963.38', '1502.84', '7633.32', '5913.24',\n",
       "       '7352.48', '9717.87', '7192.27', '8532.67', '8801.82', '8546.33',\n",
       "       '4834.82', '3003.19', '4569.86', '9027.07', '2319.44', '5619.94',\n",
       "       '3099.05', '6231.75', '8768.25', '8923.24', '3130.17', '9169.24',\n",
       "       '6327.0', '4151.96', '7373.63', '5335.0', '4401.89', '7345.76',\n",
       "       '3238.52', '3972.27', '4910.07', '3283.14', '4646.82', '6143.26',\n",
       "       '7668.76', '7904.75', '8405.11', '7697.9', '7129.35', '3137.56',\n",
       "       '4602.01', '5299.43', '1746.02', '5755.33', '4927.02', '8218.98',\n",
       "       '9801.11', '6004.05', '3904.18', '1390.61', '9321.79', '9272.04',\n",
       "       '3276.91', '7258.7', '1678.91', '2495.94', '2951.28', '3650.45',\n",
       "       '9962.48', '7272.33', '4457.82', '7633.91', '9237.29', '9628.32',\n",
       "       '1520.78', '4550.7', '1960.8', '4020.94'], dtype=object)"
      ]
     },
     "execution_count": 6,
     "metadata": {},
     "output_type": "execute_result"
    }
   ],
   "source": [
    "df_sales['sales_amount'].unique()"
   ]
  },
  {
   "cell_type": "code",
   "execution_count": 7,
   "id": "1959b14d-cf58-47af-bee0-550ffc45ed3b",
   "metadata": {},
   "outputs": [
    {
     "name": "stderr",
     "output_type": "stream",
     "text": [
      "/tmp/ipykernel_23770/3797298442.py:1: FutureWarning: A value is trying to be set on a copy of a DataFrame or Series through chained assignment using an inplace method.\n",
      "The behavior will change in pandas 3.0. This inplace method will never work because the intermediate object on which we are setting values always behaves as a copy.\n",
      "\n",
      "For example, when doing 'df[col].method(value, inplace=True)', try using 'df.method({col: value}, inplace=True)' or df[col] = df[col].method(value) instead, to perform the operation inplace on the original object.\n",
      "\n",
      "\n",
      "  df_sales['sales_amount'].replace('high', 0, inplace=True)\n"
     ]
    }
   ],
   "source": [
    "df_sales['sales_amount'].replace('high', 0, inplace=True)"
   ]
  },
  {
   "cell_type": "code",
   "execution_count": 8,
   "id": "bbb8a7bf-60b0-4549-96db-8e30988e3a8e",
   "metadata": {},
   "outputs": [
    {
     "name": "stderr",
     "output_type": "stream",
     "text": [
      "/tmp/ipykernel_23770/3556426372.py:1: FutureWarning: A value is trying to be set on a copy of a DataFrame or Series through chained assignment using an inplace method.\n",
      "The behavior will change in pandas 3.0. This inplace method will never work because the intermediate object on which we are setting values always behaves as a copy.\n",
      "\n",
      "For example, when doing 'df[col].method(value, inplace=True)', try using 'df.method({col: value}, inplace=True)' or df[col] = df[col].method(value) instead, to perform the operation inplace on the original object.\n",
      "\n",
      "\n",
      "  df_sales['sales_amount'].replace(0, df_sales['sales_amount'].median(), inplace=True)\n"
     ]
    }
   ],
   "source": [
    "df_sales['sales_amount'].replace(0, df_sales['sales_amount'].median(), inplace=True)"
   ]
  },
  {
   "cell_type": "code",
   "execution_count": 9,
   "id": "e964ccff-5c90-49bc-991e-6e334808023e",
   "metadata": {},
   "outputs": [],
   "source": [
    "df_sales['sales'] = pd.to_numeric(df_sales['sales_amount'])"
   ]
  },
  {
   "cell_type": "code",
   "execution_count": 10,
   "id": "bb61cc81-090c-4366-9330-111a7209a0ce",
   "metadata": {},
   "outputs": [],
   "source": [
    "df_sales = df_sales.drop('sales_amount', axis=1)"
   ]
  },
  {
   "cell_type": "markdown",
   "id": "55184851-1203-4231-8fd7-27032169b311",
   "metadata": {},
   "source": [
    "#### renaming 'units_sold' to 'quantity' and 'store_location' to 'city'"
   ]
  },
  {
   "cell_type": "code",
   "execution_count": 11,
   "id": "c67b0258-15f2-44e3-b42e-ebbd0767400e",
   "metadata": {},
   "outputs": [
    {
     "data": {
      "text/plain": [
       "dtype('float64')"
      ]
     },
     "execution_count": 11,
     "metadata": {},
     "output_type": "execute_result"
    }
   ],
   "source": [
    "df_sales['units_sold'].dtype"
   ]
  },
  {
   "cell_type": "code",
   "execution_count": 24,
   "id": "78ac3dec-789b-47f1-853a-4cf85ce66b50",
   "metadata": {},
   "outputs": [
    {
     "name": "stderr",
     "output_type": "stream",
     "text": [
      "/tmp/ipykernel_23770/51846457.py:1: SettingWithCopyWarning: \n",
      "A value is trying to be set on a copy of a slice from a DataFrame\n",
      "\n",
      "See the caveats in the documentation: https://pandas.pydata.org/pandas-docs/stable/user_guide/indexing.html#returning-a-view-versus-a-copy\n",
      "  df_sales.rename(columns={'units_sold' : 'quantity', 'store_location' : 'city'}, inplace=True)\n"
     ]
    }
   ],
   "source": [
    "df_sales.rename(columns={'units_sold' : 'quantity', 'store_location' : 'city'}, inplace=True)"
   ]
  },
  {
   "cell_type": "code",
   "execution_count": 25,
   "id": "95242ec9-758a-4713-b453-9e98149e7389",
   "metadata": {},
   "outputs": [
    {
     "name": "stdout",
     "output_type": "stream",
     "text": [
      "          date product_id  quantity      city    sales     month\n",
      "0          NaT       P003       NaN       NaN  5389.96       NaN\n",
      "1   2023-01-04       P003      28.0       NaN  6727.63   January\n",
      "2   2023-02-11       P002      36.0  New York  8208.54  February\n",
      "3   2023-02-03        NaN      26.0   Houston  7094.52  February\n",
      "4   2023-04-21       p001       8.0   Houston  6160.30     April\n",
      "..         ...        ...       ...       ...      ...       ...\n",
      "145 2023-02-01        NaN      24.0   Chicago  9628.32  February\n",
      "146 2023-03-22       P002       5.0       NaN  1520.78     March\n",
      "147 2023-04-20       p001      34.0   Houston  4550.70     April\n",
      "148 2023-01-31       p001       6.0   Houston  1960.80   January\n",
      "149 2023-02-16       P003       2.0       NaN  4020.94  February\n",
      "\n",
      "[150 rows x 6 columns]\n"
     ]
    }
   ],
   "source": [
    "print(df_sales)"
   ]
  },
  {
   "cell_type": "markdown",
   "id": "d1a21445-0e64-45b9-ba26-af4355097125",
   "metadata": {},
   "source": [
    "#### cleaning 'date' column and creating a new 'month' column from 'date'"
   ]
  },
  {
   "cell_type": "code",
   "execution_count": 26,
   "id": "1f96661a-d6dd-43b0-b4de-bda39aba2630",
   "metadata": {},
   "outputs": [
    {
     "name": "stderr",
     "output_type": "stream",
     "text": [
      "/tmp/ipykernel_23770/795561307.py:1: SettingWithCopyWarning: \n",
      "A value is trying to be set on a copy of a slice from a DataFrame.\n",
      "Try using .loc[row_indexer,col_indexer] = value instead\n",
      "\n",
      "See the caveats in the documentation: https://pandas.pydata.org/pandas-docs/stable/user_guide/indexing.html#returning-a-view-versus-a-copy\n",
      "  df_sales['date'] = pd.to_datetime(df_sales['date'], format='%Y-%m-%d', errors='coerce')\n"
     ]
    }
   ],
   "source": [
    "df_sales['date'] = pd.to_datetime(df_sales['date'], format='%Y-%m-%d', errors='coerce')"
   ]
  },
  {
   "cell_type": "code",
   "execution_count": 27,
   "id": "5d023655-ec3b-4631-997d-d430a2836568",
   "metadata": {},
   "outputs": [],
   "source": [
    "# df_sales['date'] = df_sales['date'].dt.strftime('%d/%m/%Y')"
   ]
  },
  {
   "cell_type": "code",
   "execution_count": 28,
   "id": "c4ef1995-7823-4651-a219-e081e7e0f22a",
   "metadata": {},
   "outputs": [
    {
     "data": {
      "text/plain": [
       "np.int64(25)"
      ]
     },
     "execution_count": 28,
     "metadata": {},
     "output_type": "execute_result"
    }
   ],
   "source": [
    "df_sales['date'].isna().sum() "
   ]
  },
  {
   "cell_type": "code",
   "execution_count": 29,
   "id": "971481df-8009-406c-b640-bd30f3b08cac",
   "metadata": {},
   "outputs": [
    {
     "name": "stderr",
     "output_type": "stream",
     "text": [
      "/tmp/ipykernel_23770/1275967159.py:1: SettingWithCopyWarning: \n",
      "A value is trying to be set on a copy of a slice from a DataFrame.\n",
      "Try using .loc[row_indexer,col_indexer] = value instead\n",
      "\n",
      "See the caveats in the documentation: https://pandas.pydata.org/pandas-docs/stable/user_guide/indexing.html#returning-a-view-versus-a-copy\n",
      "  df_sales['month'] = df_sales['date'].dt.month_name()\n"
     ]
    }
   ],
   "source": [
    "df_sales['month'] = df_sales['date'].dt.month_name()"
   ]
  },
  {
   "cell_type": "code",
   "execution_count": 30,
   "id": "f81107ee-7d6a-4edb-8998-fc976b1b554f",
   "metadata": {},
   "outputs": [
    {
     "data": {
      "text/html": [
       "<div>\n",
       "<style scoped>\n",
       "    .dataframe tbody tr th:only-of-type {\n",
       "        vertical-align: middle;\n",
       "    }\n",
       "\n",
       "    .dataframe tbody tr th {\n",
       "        vertical-align: top;\n",
       "    }\n",
       "\n",
       "    .dataframe thead th {\n",
       "        text-align: right;\n",
       "    }\n",
       "</style>\n",
       "<table border=\"1\" class=\"dataframe\">\n",
       "  <thead>\n",
       "    <tr style=\"text-align: right;\">\n",
       "      <th></th>\n",
       "      <th>date</th>\n",
       "      <th>product_id</th>\n",
       "      <th>quantity</th>\n",
       "      <th>city</th>\n",
       "      <th>sales</th>\n",
       "      <th>month</th>\n",
       "    </tr>\n",
       "  </thead>\n",
       "  <tbody>\n",
       "    <tr>\n",
       "      <th>0</th>\n",
       "      <td>NaT</td>\n",
       "      <td>P003</td>\n",
       "      <td>NaN</td>\n",
       "      <td>NaN</td>\n",
       "      <td>5389.96</td>\n",
       "      <td>NaN</td>\n",
       "    </tr>\n",
       "    <tr>\n",
       "      <th>1</th>\n",
       "      <td>2023-01-04</td>\n",
       "      <td>P003</td>\n",
       "      <td>28.0</td>\n",
       "      <td>NaN</td>\n",
       "      <td>6727.63</td>\n",
       "      <td>January</td>\n",
       "    </tr>\n",
       "    <tr>\n",
       "      <th>2</th>\n",
       "      <td>2023-02-11</td>\n",
       "      <td>P002</td>\n",
       "      <td>36.0</td>\n",
       "      <td>New York</td>\n",
       "      <td>8208.54</td>\n",
       "      <td>February</td>\n",
       "    </tr>\n",
       "    <tr>\n",
       "      <th>3</th>\n",
       "      <td>2023-02-03</td>\n",
       "      <td>NaN</td>\n",
       "      <td>26.0</td>\n",
       "      <td>Houston</td>\n",
       "      <td>7094.52</td>\n",
       "      <td>February</td>\n",
       "    </tr>\n",
       "    <tr>\n",
       "      <th>4</th>\n",
       "      <td>2023-04-21</td>\n",
       "      <td>p001</td>\n",
       "      <td>8.0</td>\n",
       "      <td>Houston</td>\n",
       "      <td>6160.30</td>\n",
       "      <td>April</td>\n",
       "    </tr>\n",
       "    <tr>\n",
       "      <th>...</th>\n",
       "      <td>...</td>\n",
       "      <td>...</td>\n",
       "      <td>...</td>\n",
       "      <td>...</td>\n",
       "      <td>...</td>\n",
       "      <td>...</td>\n",
       "    </tr>\n",
       "    <tr>\n",
       "      <th>145</th>\n",
       "      <td>2023-02-01</td>\n",
       "      <td>NaN</td>\n",
       "      <td>24.0</td>\n",
       "      <td>Chicago</td>\n",
       "      <td>9628.32</td>\n",
       "      <td>February</td>\n",
       "    </tr>\n",
       "    <tr>\n",
       "      <th>146</th>\n",
       "      <td>2023-03-22</td>\n",
       "      <td>P002</td>\n",
       "      <td>5.0</td>\n",
       "      <td>NaN</td>\n",
       "      <td>1520.78</td>\n",
       "      <td>March</td>\n",
       "    </tr>\n",
       "    <tr>\n",
       "      <th>147</th>\n",
       "      <td>2023-04-20</td>\n",
       "      <td>p001</td>\n",
       "      <td>34.0</td>\n",
       "      <td>Houston</td>\n",
       "      <td>4550.70</td>\n",
       "      <td>April</td>\n",
       "    </tr>\n",
       "    <tr>\n",
       "      <th>148</th>\n",
       "      <td>2023-01-31</td>\n",
       "      <td>p001</td>\n",
       "      <td>6.0</td>\n",
       "      <td>Houston</td>\n",
       "      <td>1960.80</td>\n",
       "      <td>January</td>\n",
       "    </tr>\n",
       "    <tr>\n",
       "      <th>149</th>\n",
       "      <td>2023-02-16</td>\n",
       "      <td>P003</td>\n",
       "      <td>2.0</td>\n",
       "      <td>NaN</td>\n",
       "      <td>4020.94</td>\n",
       "      <td>February</td>\n",
       "    </tr>\n",
       "  </tbody>\n",
       "</table>\n",
       "<p>150 rows × 6 columns</p>\n",
       "</div>"
      ],
      "text/plain": [
       "          date product_id  quantity      city    sales     month\n",
       "0          NaT       P003       NaN       NaN  5389.96       NaN\n",
       "1   2023-01-04       P003      28.0       NaN  6727.63   January\n",
       "2   2023-02-11       P002      36.0  New York  8208.54  February\n",
       "3   2023-02-03        NaN      26.0   Houston  7094.52  February\n",
       "4   2023-04-21       p001       8.0   Houston  6160.30     April\n",
       "..         ...        ...       ...       ...      ...       ...\n",
       "145 2023-02-01        NaN      24.0   Chicago  9628.32  February\n",
       "146 2023-03-22       P002       5.0       NaN  1520.78     March\n",
       "147 2023-04-20       p001      34.0   Houston  4550.70     April\n",
       "148 2023-01-31       p001       6.0   Houston  1960.80   January\n",
       "149 2023-02-16       P003       2.0       NaN  4020.94  February\n",
       "\n",
       "[150 rows x 6 columns]"
      ]
     },
     "execution_count": 30,
     "metadata": {},
     "output_type": "execute_result"
    }
   ],
   "source": [
    "df_sales"
   ]
  },
  {
   "cell_type": "markdown",
   "id": "647f5f17-5b5d-40ca-8457-b9183b9bf8dc",
   "metadata": {},
   "source": [
    "#### finding and dropping duplicates"
   ]
  },
  {
   "cell_type": "code",
   "execution_count": 31,
   "id": "a9755dcd-c32c-49a0-8831-eae7525f199f",
   "metadata": {},
   "outputs": [
    {
     "data": {
      "text/html": [
       "<div>\n",
       "<style scoped>\n",
       "    .dataframe tbody tr th:only-of-type {\n",
       "        vertical-align: middle;\n",
       "    }\n",
       "\n",
       "    .dataframe tbody tr th {\n",
       "        vertical-align: top;\n",
       "    }\n",
       "\n",
       "    .dataframe thead th {\n",
       "        text-align: right;\n",
       "    }\n",
       "</style>\n",
       "<table border=\"1\" class=\"dataframe\">\n",
       "  <thead>\n",
       "    <tr style=\"text-align: right;\">\n",
       "      <th></th>\n",
       "      <th>date</th>\n",
       "      <th>product_id</th>\n",
       "      <th>quantity</th>\n",
       "      <th>city</th>\n",
       "      <th>sales</th>\n",
       "      <th>month</th>\n",
       "    </tr>\n",
       "  </thead>\n",
       "  <tbody>\n",
       "  </tbody>\n",
       "</table>\n",
       "</div>"
      ],
      "text/plain": [
       "Empty DataFrame\n",
       "Columns: [date, product_id, quantity, city, sales, month]\n",
       "Index: []"
      ]
     },
     "execution_count": 31,
     "metadata": {},
     "output_type": "execute_result"
    }
   ],
   "source": [
    "df_sales[df_sales.duplicated()]"
   ]
  },
  {
   "cell_type": "code",
   "execution_count": 32,
   "id": "5d60b4b4-cff8-4633-9764-a87f4217dfb8",
   "metadata": {},
   "outputs": [],
   "source": [
    "df_sales = df_sales.drop_duplicates()"
   ]
  },
  {
   "cell_type": "code",
   "execution_count": 33,
   "id": "4b1f2bb6-0ce7-4a9e-9c31-5f0ac620dbcd",
   "metadata": {},
   "outputs": [
    {
     "data": {
      "text/plain": [
       "date          25\n",
       "product_id    23\n",
       "quantity      17\n",
       "city          74\n",
       "sales          0\n",
       "month         25\n",
       "dtype: int64"
      ]
     },
     "execution_count": 33,
     "metadata": {},
     "output_type": "execute_result"
    }
   ],
   "source": [
    "df_sales.isnull().sum()"
   ]
  },
  {
   "cell_type": "code",
   "execution_count": null,
   "id": "12906061-6fcd-4a4d-ae16-ceb4c243cd74",
   "metadata": {},
   "outputs": [],
   "source": []
  },
  {
   "cell_type": "code",
   "execution_count": null,
   "id": "78924b50-69d2-484d-90bb-0297d50552b2",
   "metadata": {},
   "outputs": [],
   "source": []
  }
 ],
 "metadata": {
  "kernelspec": {
   "display_name": "Python 3 (ipykernel)",
   "language": "python",
   "name": "python3"
  },
  "language_info": {
   "codemirror_mode": {
    "name": "ipython",
    "version": 3
   },
   "file_extension": ".py",
   "mimetype": "text/x-python",
   "name": "python",
   "nbconvert_exporter": "python",
   "pygments_lexer": "ipython3",
   "version": "3.10.12"
  }
 },
 "nbformat": 4,
 "nbformat_minor": 5
}
