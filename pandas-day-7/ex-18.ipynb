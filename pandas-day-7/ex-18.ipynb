{
 "cells": [
  {
   "cell_type": "code",
   "execution_count": 11,
   "id": "dd1501e2-a4f6-4a08-a749-63bb74ff70de",
   "metadata": {},
   "outputs": [],
   "source": [
    "import random\n",
    "import pandas as pd"
   ]
  },
  {
   "cell_type": "markdown",
   "id": "ad97924b-0ad0-4375-9890-0e727a15e848",
   "metadata": {},
   "source": [
    "#### Task\n",
    "* Parse date column as datetime.\n",
    "* Resample data to weekly aggregates.\n",
    "* Calculate % change week over week.\n"
   ]
  },
  {
   "cell_type": "code",
   "execution_count": 3,
   "id": "1c93be7c-656e-4506-a688-cba08dfb982f",
   "metadata": {},
   "outputs": [],
   "source": [
    "date = pd.date_range('07-01-2025', '07-31-2025')"
   ]
  },
  {
   "cell_type": "code",
   "execution_count": 20,
   "id": "b4f1e2a3-c5e9-46a2-8b98-366419021575",
   "metadata": {},
   "outputs": [],
   "source": [
    "df = pd.DataFrame(date, columns=['date'])\n",
    "df['temp'] = [random.randint(15,40) for _ in range(31)]"
   ]
  },
  {
   "cell_type": "code",
   "execution_count": 23,
   "id": "3adda67e-c4a8-4491-88dd-e5fb051e789c",
   "metadata": {},
   "outputs": [],
   "source": [
    "df = df.set_index('date')"
   ]
  },
  {
   "cell_type": "code",
   "execution_count": 27,
   "id": "2a4fa22c-2a31-465e-80dd-004bf5dec3c6",
   "metadata": {},
   "outputs": [],
   "source": [
    "df = df.resample('W').agg(['sum', 'mean', 'median'])"
   ]
  },
  {
   "cell_type": "code",
   "execution_count": 30,
   "id": "b85ebdba-f745-434d-82fd-e3cc3b106606",
   "metadata": {},
   "outputs": [
    {
     "data": {
      "text/plain": [
       "MultiIndex([('temp',    'sum'),\n",
       "            ('temp',   'mean'),\n",
       "            ('temp', 'median')],\n",
       "           )"
      ]
     },
     "execution_count": 30,
     "metadata": {},
     "output_type": "execute_result"
    }
   ],
   "source": [
    "df.columns"
   ]
  },
  {
   "cell_type": "code",
   "execution_count": 33,
   "id": "cb029ab2-c5ce-4d4b-aacd-d0159d7ca972",
   "metadata": {},
   "outputs": [
    {
     "data": {
      "text/plain": [
       "date\n",
       "2025-07-06      NaN\n",
       "2025-07-13    -1.08\n",
       "2025-07-20    11.41\n",
       "2025-07-27   -12.68\n",
       "2025-08-03   -53.07\n",
       "Freq: W-SUN, Name: (temp, sum), dtype: float64"
      ]
     },
     "execution_count": 33,
     "metadata": {},
     "output_type": "execute_result"
    }
   ],
   "source": [
    "round(df[('temp',    'sum')].pct_change()*100, 2)"
   ]
  },
  {
   "cell_type": "code",
   "execution_count": null,
   "id": "9236700f-2cd2-4214-bd49-143e44e4e99a",
   "metadata": {},
   "outputs": [],
   "source": []
  }
 ],
 "metadata": {
  "kernelspec": {
   "display_name": "Python 3 (ipykernel)",
   "language": "python",
   "name": "python3"
  },
  "language_info": {
   "codemirror_mode": {
    "name": "ipython",
    "version": 3
   },
   "file_extension": ".py",
   "mimetype": "text/x-python",
   "name": "python",
   "nbconvert_exporter": "python",
   "pygments_lexer": "ipython3",
   "version": "3.10.12"
  }
 },
 "nbformat": 4,
 "nbformat_minor": 5
}
