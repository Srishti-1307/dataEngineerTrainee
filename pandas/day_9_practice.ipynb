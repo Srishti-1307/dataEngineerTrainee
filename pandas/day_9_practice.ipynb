{
 "cells": [
  {
   "cell_type": "code",
   "execution_count": 1,
   "id": "9b670d3f-dd9e-41c2-902f-5fdb9364206e",
   "metadata": {},
   "outputs": [],
   "source": [
    "import pandas as pd"
   ]
  },
  {
   "cell_type": "markdown",
   "id": "fc55adc8-3bd8-427f-8187-7d3753291ae4",
   "metadata": {},
   "source": [
    "### Clean and prepare a dataset for analysis"
   ]
  },
  {
   "cell_type": "markdown",
   "id": "056a0fba-be4c-42ea-a3d9-223d7be6582c",
   "metadata": {},
   "source": [
    "#### Follow below steps---"
   ]
  },
  {
   "cell_type": "raw",
   "id": "9d13b91d-50e4-44b0-8cd3-51382adced26",
   "metadata": {},
   "source": [
    "1) Handling Missing Values:\n",
    "* Identification:  df.isnull().sum() / df.isna().sum() to count missing values per column.\n",
    "* Dropping:  df.dropna() to remove rows or columns containing missing values.\n",
    "* Filling:  df.fillna() to replace missing values with a specific value (0, mean, median, mode, or using forward/backward fill).\n"
   ]
  },
  {
   "cell_type": "raw",
   "id": "5f2bd268-e3c0-4f59-b884-122a797ab770",
   "metadata": {},
   "source": [
    "2) Removing Duplicates:\n",
    "* Identification: df.duplicated() to identify duplicate rows.\n",
    "* Removal:  df.drop_duplicates() to remove duplicate rows, either based on all columns or a specified subset of columns."
   ]
  },
  {
   "cell_type": "raw",
   "id": "d77d7908-5853-4cc2-97f6-0f2eb605141f",
   "metadata": {},
   "source": [
    "3) Correcting Data Types:\n",
    "* Inspection:  df.info() or df.dtypes to check current data types.\n",
    "* Conversion:  df.astype() to convert columns to the appropriate data type (e.g., int, float, datetime). For dates, pd.to_datetime() is often used."
   ]
  },
  {
   "cell_type": "raw",
   "id": "a452679a-ae7d-4acf-883a-44190f41912e",
   "metadata": {},
   "source": [
    "4) Standardizing Text Data:\n",
    "* Case Conversion: string methods like .str.lower(), .str.upper(), or .str.capitalize() to ensure consistent casing.\n",
    "* Whitespace Removal:  .str.strip() to remove leading/trailing whitespaces.\n",
    "* Replacing Values:  df.replace() or .str.replace() to correct typos, standardize abbreviations, or replace specific values."
   ]
  },
  {
   "cell_type": "raw",
   "id": "fc27fe19-9b07-49cf-99ed-1c02a9b7c901",
   "metadata": {},
   "source": [
    "5)Handling Outliers:\n",
    "* Identification: IOR identify outliers.\n",
    "* Treatment: Outliers can be removed, or transformed depending on the context and impact on analysis."
   ]
  },
  {
   "cell_type": "raw",
   "id": "169bcfd6-212e-4f9b-9fea-5cec826ee959",
   "metadata": {},
   "source": [
    "6) Renaming Columns:\n",
    "* df.rename(columns={'old_name': 'new_name'}) to improve readability and consistency."
   ]
  },
  {
   "cell_type": "raw",
   "id": "efae8761-b564-4919-98ec-f1be853d1f7a",
   "metadata": {},
   "source": [
    "7) Filtering and Subsetting Data:\n",
    "* boolean indexing or df.query() to select specific rows or columns based on conditions."
   ]
  },
  {
   "cell_type": "code",
   "execution_count": null,
   "id": "eca2ecce-bff0-4051-8017-973975e603bc",
   "metadata": {},
   "outputs": [],
   "source": []
  }
 ],
 "metadata": {
  "kernelspec": {
   "display_name": "Python 3 (ipykernel)",
   "language": "python",
   "name": "python3"
  },
  "language_info": {
   "codemirror_mode": {
    "name": "ipython",
    "version": 3
   },
   "file_extension": ".py",
   "mimetype": "text/x-python",
   "name": "python",
   "nbconvert_exporter": "python",
   "pygments_lexer": "ipython3",
   "version": "3.10.12"
  }
 },
 "nbformat": 4,
 "nbformat_minor": 5
}
