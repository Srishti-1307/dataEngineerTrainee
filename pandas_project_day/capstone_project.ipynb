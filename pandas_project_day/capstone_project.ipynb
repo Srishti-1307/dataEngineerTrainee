{
 "cells": [
  {
   "cell_type": "raw",
   "id": "18fed836-8a3e-4a23-8c94-96fb406210ff",
   "metadata": {},
   "source": [
    "import pandas as pd\n",
    "import numpy as np\n",
    "import random\n",
    "from datetime import datetime, timedelta\n",
    "\n",
    "# Set random seed for reproducibility\n",
    "random.seed(42)\n",
    "np.random.seed(42)\n",
    "\n",
    "# Generate 150 random dates\n",
    "start_date = datetime(2023, 1, 1)\n",
    "date_list = [start_date + timedelta(days=i) for i in range(150)]\n",
    "random_dates = random.choices(date_list, k=150)\n",
    "\n",
    "# --- WEATHER DATASET ---\n",
    "weather_data = {\n",
    "    'date': [d.strftime('%Y-%m-%d') if i % 10 != 0 else d.strftime('%d/%m/%Y') for i, d in enumerate(random_dates)],\n",
    "    'Temp': [round(np.random.uniform(15, 40), 1) if i % 8 != 0 else 'hot' for i in range(150)],\n",
    "    'humidity(%)': [np.random.randint(20, 100) if i % 7 != 0 else np.nan for i in range(150)],\n",
    "    'wind_speed': [round(np.random.uniform(0, 20), 2) if i % 5 != 0 else \"fast\" for i in range(150)],\n",
    "    'city': [random.choice(['New York', 'Los Angeles', 'Chicago', np.nan, '']) for _ in range(150)],\n",
    "}\n",
    "\n",
    "weather_df = pd.DataFrame(weather_data)\n",
    "\n",
    "# Add some duplicate rows\n",
    "weather_df = pd.concat([weather_df, weather_df.iloc[0:5]], ignore_index=True)\n",
    "\n",
    "# --- SALES DATASET ---\n",
    "sales_data = {\n",
    "    'date': [d.strftime('%Y-%m-%d') if i % 6 != 0 else d.strftime('%B %d, %Y') for i, d in enumerate(random_dates)],\n",
    "    'sales_amount': [round(np.random.uniform(1000, 10000), 2) if i % 10 != 0 else 'high' for i in range(150)],\n",
    "    'product_id': [random.choice(['P001', 'P002', 'P003', np.nan, 'p001']) for _ in range(150)],\n",
    "    'units_sold': [np.random.randint(1, 50) if i % 9 != 0 else None for i in range(150)],\n",
    "    'store_location': [random.choice(['New York', 'Chicago', 'Houston', '', np.nan]) for _ in range(150)],\n",
    "}\n",
    "\n",
    "sales_df = pd.DataFrame(sales_data)\n",
    "\n",
    "# Add some duplicate rows\n",
    "sales_df = pd.concat([sales_df, sales_df.iloc[2:4]], ignore_index=True)\n",
    "\n",
    "# --- SAVE TO CSV FILES ---\n",
    "weather_df.to_csv(\"weather.csv\", index=False)\n",
    "sales_df.to_csv(\"sales.csv\", index=False)\n",
    "\n",
    "print(\"Generated messy 'weather.csv' and 'sales.csv' with 150+ rows each.\")\n"
   ]
  },
  {
   "cell_type": "code",
   "execution_count": 1,
   "id": "e1506eac-23a7-4ff8-a315-833bd0dd4bd7",
   "metadata": {},
   "outputs": [],
   "source": [
    "import pandas as pd\n",
    "import numpy as np"
   ]
  },
  {
   "cell_type": "markdown",
   "id": "e4b9ec5b-0749-43a4-8095-774ff16b6c47",
   "metadata": {},
   "source": [
    "#### Reading data"
   ]
  },
  {
   "cell_type": "code",
   "execution_count": 2,
   "id": "76abd6e7-9071-4ed2-9e13-e91cd0dcc29b",
   "metadata": {},
   "outputs": [
    {
     "data": {
      "text/html": [
       "<div>\n",
       "<style scoped>\n",
       "    .dataframe tbody tr th:only-of-type {\n",
       "        vertical-align: middle;\n",
       "    }\n",
       "\n",
       "    .dataframe tbody tr th {\n",
       "        vertical-align: top;\n",
       "    }\n",
       "\n",
       "    .dataframe thead th {\n",
       "        text-align: right;\n",
       "    }\n",
       "</style>\n",
       "<table border=\"1\" class=\"dataframe\">\n",
       "  <thead>\n",
       "    <tr style=\"text-align: right;\">\n",
       "      <th></th>\n",
       "      <th>date</th>\n",
       "      <th>sales_amount</th>\n",
       "      <th>product_id</th>\n",
       "      <th>units_sold</th>\n",
       "      <th>store_location</th>\n",
       "    </tr>\n",
       "  </thead>\n",
       "  <tbody>\n",
       "    <tr>\n",
       "      <th>0</th>\n",
       "      <td>April 06, 2023</td>\n",
       "      <td>high</td>\n",
       "      <td>P003</td>\n",
       "      <td>NaN</td>\n",
       "      <td>NaN</td>\n",
       "    </tr>\n",
       "    <tr>\n",
       "      <th>1</th>\n",
       "      <td>2023-01-04</td>\n",
       "      <td>6727.63</td>\n",
       "      <td>P003</td>\n",
       "      <td>28.0</td>\n",
       "      <td>London</td>\n",
       "    </tr>\n",
       "    <tr>\n",
       "      <th>2</th>\n",
       "      <td>2023-02-11</td>\n",
       "      <td>8208.54</td>\n",
       "      <td>P002</td>\n",
       "      <td>36.0</td>\n",
       "      <td>New York</td>\n",
       "    </tr>\n",
       "    <tr>\n",
       "      <th>3</th>\n",
       "      <td>2023-02-03</td>\n",
       "      <td>7094.52</td>\n",
       "      <td>NaN</td>\n",
       "      <td>26.0</td>\n",
       "      <td>Houston</td>\n",
       "    </tr>\n",
       "    <tr>\n",
       "      <th>4</th>\n",
       "      <td>2023-04-21</td>\n",
       "      <td>6160.3</td>\n",
       "      <td>P008</td>\n",
       "      <td>8.0</td>\n",
       "      <td>Houston</td>\n",
       "    </tr>\n",
       "  </tbody>\n",
       "</table>\n",
       "</div>"
      ],
      "text/plain": [
       "             date sales_amount product_id  units_sold store_location\n",
       "0  April 06, 2023         high       P003         NaN            NaN\n",
       "1      2023-01-04      6727.63       P003        28.0         London\n",
       "2      2023-02-11      8208.54       P002        36.0       New York\n",
       "3      2023-02-03      7094.52        NaN        26.0        Houston\n",
       "4      2023-04-21       6160.3       P008         8.0        Houston"
      ]
     },
     "execution_count": 2,
     "metadata": {},
     "output_type": "execute_result"
    }
   ],
   "source": [
    "df_sales = pd.read_csv('sales.csv')\n",
    "df_sales.head()"
   ]
  },
  {
   "cell_type": "code",
   "execution_count": 3,
   "id": "74fbb24b-19ef-4097-b0c5-f3868ecc92da",
   "metadata": {},
   "outputs": [
    {
     "data": {
      "text/html": [
       "<div>\n",
       "<style scoped>\n",
       "    .dataframe tbody tr th:only-of-type {\n",
       "        vertical-align: middle;\n",
       "    }\n",
       "\n",
       "    .dataframe tbody tr th {\n",
       "        vertical-align: top;\n",
       "    }\n",
       "\n",
       "    .dataframe thead th {\n",
       "        text-align: right;\n",
       "    }\n",
       "</style>\n",
       "<table border=\"1\" class=\"dataframe\">\n",
       "  <thead>\n",
       "    <tr style=\"text-align: right;\">\n",
       "      <th></th>\n",
       "      <th>date</th>\n",
       "      <th>Temp</th>\n",
       "      <th>humidity(%)</th>\n",
       "      <th>wind_speed</th>\n",
       "      <th>city</th>\n",
       "    </tr>\n",
       "  </thead>\n",
       "  <tbody>\n",
       "    <tr>\n",
       "      <th>0</th>\n",
       "      <td>06/04/2023</td>\n",
       "      <td>hot</td>\n",
       "      <td>NaN</td>\n",
       "      <td>fast</td>\n",
       "      <td>Chicago</td>\n",
       "    </tr>\n",
       "    <tr>\n",
       "      <th>1</th>\n",
       "      <td>2023-01-04</td>\n",
       "      <td>24.4</td>\n",
       "      <td>56.0</td>\n",
       "      <td>15.37</td>\n",
       "      <td>NaN</td>\n",
       "    </tr>\n",
       "    <tr>\n",
       "      <th>2</th>\n",
       "      <td>2023-02-11</td>\n",
       "      <td>38.8</td>\n",
       "      <td>70.0</td>\n",
       "      <td>0.87</td>\n",
       "      <td>NaN</td>\n",
       "    </tr>\n",
       "    <tr>\n",
       "      <th>3</th>\n",
       "      <td>2023-02-03</td>\n",
       "      <td>33.3</td>\n",
       "      <td>63.0</td>\n",
       "      <td>19.89</td>\n",
       "      <td>NaN</td>\n",
       "    </tr>\n",
       "    <tr>\n",
       "      <th>4</th>\n",
       "      <td>2023-04-21</td>\n",
       "      <td>30</td>\n",
       "      <td>43.0</td>\n",
       "      <td>9.4</td>\n",
       "      <td>New York</td>\n",
       "    </tr>\n",
       "  </tbody>\n",
       "</table>\n",
       "</div>"
      ],
      "text/plain": [
       "         date  Temp  humidity(%) wind_speed      city\n",
       "0  06/04/2023   hot          NaN       fast   Chicago\n",
       "1  2023-01-04  24.4         56.0      15.37       NaN\n",
       "2  2023-02-11  38.8         70.0       0.87       NaN\n",
       "3  2023-02-03  33.3         63.0      19.89       NaN\n",
       "4  2023-04-21    30         43.0        9.4  New York"
      ]
     },
     "execution_count": 3,
     "metadata": {},
     "output_type": "execute_result"
    }
   ],
   "source": [
    "df_weather = pd.read_csv('weather.csv')\n",
    "df_weather.head()"
   ]
  },
  {
   "cell_type": "markdown",
   "id": "433d0cf1-65d5-4f8b-bc8f-57e8aff598e4",
   "metadata": {},
   "source": [
    "#### Cleaning and Transforming"
   ]
  },
  {
   "cell_type": "markdown",
   "id": "38b71682-9265-450c-9899-1fe8cbf8dcc7",
   "metadata": {},
   "source": [
    "#### Sales Data"
   ]
  },
  {
   "cell_type": "code",
   "execution_count": 4,
   "id": "e04d05be-c85e-4d01-a821-716a7e27e508",
   "metadata": {},
   "outputs": [
    {
     "data": {
      "text/plain": [
       "(152, 5)"
      ]
     },
     "execution_count": 4,
     "metadata": {},
     "output_type": "execute_result"
    }
   ],
   "source": [
    "df_sales.shape"
   ]
  },
  {
   "cell_type": "markdown",
   "id": "0ce59669-3cc3-4a9b-8612-5c241462d656",
   "metadata": {},
   "source": [
    "#### replacing str values like 'High' from 'sales_amount' column with median and changing column's name to 'sales'"
   ]
  },
  {
   "cell_type": "code",
   "execution_count": 5,
   "id": "ac195f16-3ed8-488c-b1ed-41a0eef50083",
   "metadata": {},
   "outputs": [
    {
     "data": {
      "text/plain": [
       "dtype('O')"
      ]
     },
     "execution_count": 5,
     "metadata": {},
     "output_type": "execute_result"
    }
   ],
   "source": [
    "df_sales['sales_amount'].dtype"
   ]
  },
  {
   "cell_type": "code",
   "execution_count": 6,
   "id": "4b532060-8368-495c-aed6-81aa5bc2476d",
   "metadata": {},
   "outputs": [
    {
     "data": {
      "text/plain": [
       "array(['high', '6727.63', '8208.54', '7094.52', '6160.3', '2156.5',\n",
       "       '8300.84', '8385.76', '6633.46', '8383.84', '6863.36', '2860.16',\n",
       "       '3465.65', '2931.3', '4395.33', '1350.67', '6564.28', '4028.99',\n",
       "       '6901.5', '4468.57', '7134.52', '4065.62', '3346.25', '5464.34',\n",
       "       '7236.01', '4135.03', '9429.83', '1352.68', '4761.51', '9708.22',\n",
       "       '5931.75', '4811.24', '6116.68', '6183.32', '7584.83', '2149.21',\n",
       "       '3250.15', '6224.9', '8804.05', '6056.8', '3147.37', '7118.6',\n",
       "       '7659.18', '3144.13', '4399.56', '5808.95', '5469.05', '4506.56',\n",
       "       '3678.72', '1899.86', '1481.37', '9626.87', '8624.29', '4194.15',\n",
       "       '9611.21', '7090.93', '5342.69', '5437.23', '1749.56', '1825.34',\n",
       "       '6421.97', '5983.33', '2914.55', '9515.75', '8031.66', '2021.18',\n",
       "       '9378.36', '9768.23', '9963.38', '1502.84', '7633.32', '5913.24',\n",
       "       '7352.48', '9717.87', '7192.27', '8532.67', '8801.82', '8546.33',\n",
       "       '4834.82', '3003.19', '4569.86', '9027.07', '2319.44', '5619.94',\n",
       "       '3099.05', '6231.75', '8768.25', '8923.24', '3130.17', '9169.24',\n",
       "       '6327', '4151.96', '7373.63', '5335', '4401.89', '7345.76',\n",
       "       '3238.52', '3972.27', '4910.07', '3283.14', '4646.82', '6143.26',\n",
       "       '7668.76', '7904.75', '8405.11', '7697.9', '7129.35', '3137.56',\n",
       "       '4602.01', '5299.43', '1746.02', '5755.33', '4927.02', '8218.98',\n",
       "       '9801.11', '6004.05', '3904.18', '1390.61', '9321.79', '9272.04',\n",
       "       '3276.91', '7258.7', '1678.91', '2495.94', '2951.28', '3650.45',\n",
       "       '9962.48', '7272.33', '4457.82', '7633.91', '9237.29', '9628.32',\n",
       "       '1520.78', '4550.7', '1960.8', '4020.94'], dtype=object)"
      ]
     },
     "execution_count": 6,
     "metadata": {},
     "output_type": "execute_result"
    }
   ],
   "source": [
    "df_sales['sales_amount'].unique()"
   ]
  },
  {
   "cell_type": "code",
   "execution_count": 7,
   "id": "1959b14d-cf58-47af-bee0-550ffc45ed3b",
   "metadata": {},
   "outputs": [
    {
     "name": "stderr",
     "output_type": "stream",
     "text": [
      "/tmp/ipykernel_10566/3797298442.py:1: FutureWarning: A value is trying to be set on a copy of a DataFrame or Series through chained assignment using an inplace method.\n",
      "The behavior will change in pandas 3.0. This inplace method will never work because the intermediate object on which we are setting values always behaves as a copy.\n",
      "\n",
      "For example, when doing 'df[col].method(value, inplace=True)', try using 'df.method({col: value}, inplace=True)' or df[col] = df[col].method(value) instead, to perform the operation inplace on the original object.\n",
      "\n",
      "\n",
      "  df_sales['sales_amount'].replace('high', 0, inplace=True)\n"
     ]
    }
   ],
   "source": [
    "df_sales['sales_amount'].replace('high', 0, inplace=True)"
   ]
  },
  {
   "cell_type": "code",
   "execution_count": 8,
   "id": "bbb8a7bf-60b0-4549-96db-8e30988e3a8e",
   "metadata": {},
   "outputs": [
    {
     "name": "stderr",
     "output_type": "stream",
     "text": [
      "/tmp/ipykernel_10566/3556426372.py:1: FutureWarning: A value is trying to be set on a copy of a DataFrame or Series through chained assignment using an inplace method.\n",
      "The behavior will change in pandas 3.0. This inplace method will never work because the intermediate object on which we are setting values always behaves as a copy.\n",
      "\n",
      "For example, when doing 'df[col].method(value, inplace=True)', try using 'df.method({col: value}, inplace=True)' or df[col] = df[col].method(value) instead, to perform the operation inplace on the original object.\n",
      "\n",
      "\n",
      "  df_sales['sales_amount'].replace(0, df_sales['sales_amount'].median(), inplace=True)\n"
     ]
    }
   ],
   "source": [
    "df_sales['sales_amount'].replace(0, df_sales['sales_amount'].median(), inplace=True)"
   ]
  },
  {
   "cell_type": "code",
   "execution_count": 9,
   "id": "e964ccff-5c90-49bc-991e-6e334808023e",
   "metadata": {},
   "outputs": [],
   "source": [
    "df_sales['sales'] = pd.to_numeric(df_sales['sales_amount'])"
   ]
  },
  {
   "cell_type": "code",
   "execution_count": 10,
   "id": "bb61cc81-090c-4366-9330-111a7209a0ce",
   "metadata": {},
   "outputs": [],
   "source": [
    "df_sales = df_sales.drop('sales_amount', axis=1)"
   ]
  },
  {
   "cell_type": "markdown",
   "id": "55184851-1203-4231-8fd7-27032169b311",
   "metadata": {},
   "source": [
    "#### renaming 'units_sold' to 'quantity' and 'store_location' to 'city'"
   ]
  },
  {
   "cell_type": "code",
   "execution_count": 11,
   "id": "c67b0258-15f2-44e3-b42e-ebbd0767400e",
   "metadata": {},
   "outputs": [
    {
     "data": {
      "text/plain": [
       "dtype('float64')"
      ]
     },
     "execution_count": 11,
     "metadata": {},
     "output_type": "execute_result"
    }
   ],
   "source": [
    "df_sales['units_sold'].dtype"
   ]
  },
  {
   "cell_type": "code",
   "execution_count": 12,
   "id": "78ac3dec-789b-47f1-853a-4cf85ce66b50",
   "metadata": {},
   "outputs": [],
   "source": [
    "df_sales.rename(columns={'units_sold' : 'quantity', 'store_location' : 'city'}, inplace=True)"
   ]
  },
  {
   "cell_type": "markdown",
   "id": "d1a21445-0e64-45b9-ba26-af4355097125",
   "metadata": {},
   "source": [
    "#### cleaning 'date' column and creating a new 'month' column from 'date'"
   ]
  },
  {
   "cell_type": "code",
   "execution_count": 13,
   "id": "1f96661a-d6dd-43b0-b4de-bda39aba2630",
   "metadata": {},
   "outputs": [],
   "source": [
    "df_sales['date'] = pd.to_datetime(df_sales['date'], format='%Y-%m-%d', errors='coerce')"
   ]
  },
  {
   "cell_type": "code",
   "execution_count": 14,
   "id": "5d023655-ec3b-4631-997d-d430a2836568",
   "metadata": {},
   "outputs": [],
   "source": [
    "# df_sales['date'] = df_sales['date'].dt.strftime('%d/%m/%Y')"
   ]
  },
  {
   "cell_type": "code",
   "execution_count": 15,
   "id": "c4ef1995-7823-4651-a219-e081e7e0f22a",
   "metadata": {},
   "outputs": [
    {
     "data": {
      "text/plain": [
       "np.int64(25)"
      ]
     },
     "execution_count": 15,
     "metadata": {},
     "output_type": "execute_result"
    }
   ],
   "source": [
    "df_sales['date'].isna().sum() "
   ]
  },
  {
   "cell_type": "code",
   "execution_count": 16,
   "id": "971481df-8009-406c-b640-bd30f3b08cac",
   "metadata": {},
   "outputs": [],
   "source": [
    "df_sales['month'] = df_sales['date'].dt.month_name()"
   ]
  },
  {
   "cell_type": "code",
   "execution_count": 17,
   "id": "f81107ee-7d6a-4edb-8998-fc976b1b554f",
   "metadata": {},
   "outputs": [
    {
     "data": {
      "text/html": [
       "<div>\n",
       "<style scoped>\n",
       "    .dataframe tbody tr th:only-of-type {\n",
       "        vertical-align: middle;\n",
       "    }\n",
       "\n",
       "    .dataframe tbody tr th {\n",
       "        vertical-align: top;\n",
       "    }\n",
       "\n",
       "    .dataframe thead th {\n",
       "        text-align: right;\n",
       "    }\n",
       "</style>\n",
       "<table border=\"1\" class=\"dataframe\">\n",
       "  <thead>\n",
       "    <tr style=\"text-align: right;\">\n",
       "      <th></th>\n",
       "      <th>date</th>\n",
       "      <th>product_id</th>\n",
       "      <th>quantity</th>\n",
       "      <th>city</th>\n",
       "      <th>sales</th>\n",
       "      <th>month</th>\n",
       "    </tr>\n",
       "  </thead>\n",
       "  <tbody>\n",
       "    <tr>\n",
       "      <th>0</th>\n",
       "      <td>NaT</td>\n",
       "      <td>P003</td>\n",
       "      <td>NaN</td>\n",
       "      <td>NaN</td>\n",
       "      <td>5389.96</td>\n",
       "      <td>NaN</td>\n",
       "    </tr>\n",
       "    <tr>\n",
       "      <th>1</th>\n",
       "      <td>2023-01-04</td>\n",
       "      <td>P003</td>\n",
       "      <td>28.0</td>\n",
       "      <td>London</td>\n",
       "      <td>6727.63</td>\n",
       "      <td>January</td>\n",
       "    </tr>\n",
       "    <tr>\n",
       "      <th>2</th>\n",
       "      <td>2023-02-11</td>\n",
       "      <td>P002</td>\n",
       "      <td>36.0</td>\n",
       "      <td>New York</td>\n",
       "      <td>8208.54</td>\n",
       "      <td>February</td>\n",
       "    </tr>\n",
       "    <tr>\n",
       "      <th>3</th>\n",
       "      <td>2023-02-03</td>\n",
       "      <td>NaN</td>\n",
       "      <td>26.0</td>\n",
       "      <td>Houston</td>\n",
       "      <td>7094.52</td>\n",
       "      <td>February</td>\n",
       "    </tr>\n",
       "    <tr>\n",
       "      <th>4</th>\n",
       "      <td>2023-04-21</td>\n",
       "      <td>P008</td>\n",
       "      <td>8.0</td>\n",
       "      <td>Houston</td>\n",
       "      <td>6160.30</td>\n",
       "      <td>April</td>\n",
       "    </tr>\n",
       "    <tr>\n",
       "      <th>...</th>\n",
       "      <td>...</td>\n",
       "      <td>...</td>\n",
       "      <td>...</td>\n",
       "      <td>...</td>\n",
       "      <td>...</td>\n",
       "      <td>...</td>\n",
       "    </tr>\n",
       "    <tr>\n",
       "      <th>147</th>\n",
       "      <td>2023-04-20</td>\n",
       "      <td>p001</td>\n",
       "      <td>34.0</td>\n",
       "      <td>Houston</td>\n",
       "      <td>4550.70</td>\n",
       "      <td>April</td>\n",
       "    </tr>\n",
       "    <tr>\n",
       "      <th>148</th>\n",
       "      <td>2023-01-31</td>\n",
       "      <td>p001</td>\n",
       "      <td>6.0</td>\n",
       "      <td>Houston</td>\n",
       "      <td>1960.80</td>\n",
       "      <td>January</td>\n",
       "    </tr>\n",
       "    <tr>\n",
       "      <th>149</th>\n",
       "      <td>2023-02-16</td>\n",
       "      <td>P007</td>\n",
       "      <td>2.0</td>\n",
       "      <td>Paris</td>\n",
       "      <td>4020.94</td>\n",
       "      <td>February</td>\n",
       "    </tr>\n",
       "    <tr>\n",
       "      <th>150</th>\n",
       "      <td>2023-02-11</td>\n",
       "      <td>P002</td>\n",
       "      <td>36.0</td>\n",
       "      <td>New York</td>\n",
       "      <td>8208.54</td>\n",
       "      <td>February</td>\n",
       "    </tr>\n",
       "    <tr>\n",
       "      <th>151</th>\n",
       "      <td>2023-02-03</td>\n",
       "      <td>NaN</td>\n",
       "      <td>26.0</td>\n",
       "      <td>Houston</td>\n",
       "      <td>7094.52</td>\n",
       "      <td>February</td>\n",
       "    </tr>\n",
       "  </tbody>\n",
       "</table>\n",
       "<p>152 rows × 6 columns</p>\n",
       "</div>"
      ],
      "text/plain": [
       "          date product_id  quantity      city    sales     month\n",
       "0          NaT       P003       NaN       NaN  5389.96       NaN\n",
       "1   2023-01-04       P003      28.0    London  6727.63   January\n",
       "2   2023-02-11       P002      36.0  New York  8208.54  February\n",
       "3   2023-02-03        NaN      26.0   Houston  7094.52  February\n",
       "4   2023-04-21       P008       8.0   Houston  6160.30     April\n",
       "..         ...        ...       ...       ...      ...       ...\n",
       "147 2023-04-20       p001      34.0   Houston  4550.70     April\n",
       "148 2023-01-31       p001       6.0   Houston  1960.80   January\n",
       "149 2023-02-16       P007       2.0     Paris  4020.94  February\n",
       "150 2023-02-11       P002      36.0  New York  8208.54  February\n",
       "151 2023-02-03        NaN      26.0   Houston  7094.52  February\n",
       "\n",
       "[152 rows x 6 columns]"
      ]
     },
     "execution_count": 17,
     "metadata": {},
     "output_type": "execute_result"
    }
   ],
   "source": [
    "df_sales"
   ]
  },
  {
   "cell_type": "markdown",
   "id": "647f5f17-5b5d-40ca-8457-b9183b9bf8dc",
   "metadata": {},
   "source": [
    "#### finding and dropping duplicates"
   ]
  },
  {
   "cell_type": "code",
   "execution_count": 18,
   "id": "a9755dcd-c32c-49a0-8831-eae7525f199f",
   "metadata": {},
   "outputs": [
    {
     "data": {
      "text/html": [
       "<div>\n",
       "<style scoped>\n",
       "    .dataframe tbody tr th:only-of-type {\n",
       "        vertical-align: middle;\n",
       "    }\n",
       "\n",
       "    .dataframe tbody tr th {\n",
       "        vertical-align: top;\n",
       "    }\n",
       "\n",
       "    .dataframe thead th {\n",
       "        text-align: right;\n",
       "    }\n",
       "</style>\n",
       "<table border=\"1\" class=\"dataframe\">\n",
       "  <thead>\n",
       "    <tr style=\"text-align: right;\">\n",
       "      <th></th>\n",
       "      <th>date</th>\n",
       "      <th>product_id</th>\n",
       "      <th>quantity</th>\n",
       "      <th>city</th>\n",
       "      <th>sales</th>\n",
       "      <th>month</th>\n",
       "    </tr>\n",
       "  </thead>\n",
       "  <tbody>\n",
       "    <tr>\n",
       "      <th>150</th>\n",
       "      <td>2023-02-11</td>\n",
       "      <td>P002</td>\n",
       "      <td>36.0</td>\n",
       "      <td>New York</td>\n",
       "      <td>8208.54</td>\n",
       "      <td>February</td>\n",
       "    </tr>\n",
       "    <tr>\n",
       "      <th>151</th>\n",
       "      <td>2023-02-03</td>\n",
       "      <td>NaN</td>\n",
       "      <td>26.0</td>\n",
       "      <td>Houston</td>\n",
       "      <td>7094.52</td>\n",
       "      <td>February</td>\n",
       "    </tr>\n",
       "  </tbody>\n",
       "</table>\n",
       "</div>"
      ],
      "text/plain": [
       "          date product_id  quantity      city    sales     month\n",
       "150 2023-02-11       P002      36.0  New York  8208.54  February\n",
       "151 2023-02-03        NaN      26.0   Houston  7094.52  February"
      ]
     },
     "execution_count": 18,
     "metadata": {},
     "output_type": "execute_result"
    }
   ],
   "source": [
    "df_sales[df_sales.duplicated()]"
   ]
  },
  {
   "cell_type": "code",
   "execution_count": 19,
   "id": "5d60b4b4-cff8-4633-9764-a87f4217dfb8",
   "metadata": {},
   "outputs": [],
   "source": [
    "df_sales = df_sales.drop_duplicates()"
   ]
  },
  {
   "cell_type": "code",
   "execution_count": 20,
   "id": "4b1f2bb6-0ce7-4a9e-9c31-5f0ac620dbcd",
   "metadata": {},
   "outputs": [
    {
     "data": {
      "text/plain": [
       "date          25\n",
       "product_id    19\n",
       "quantity      17\n",
       "city          61\n",
       "sales          0\n",
       "month         25\n",
       "dtype: int64"
      ]
     },
     "execution_count": 20,
     "metadata": {},
     "output_type": "execute_result"
    }
   ],
   "source": [
    "df_sales.isnull().sum()"
   ]
  },
  {
   "cell_type": "markdown",
   "id": "1cf0db17-110f-43e8-8590-237212a94a50",
   "metadata": {},
   "source": [
    "#### Handling null values in each column by randomly substituting them"
   ]
  },
  {
   "cell_type": "code",
   "execution_count": 21,
   "id": "5220e14d-b072-4c6c-8ee9-136ff3f1cebd",
   "metadata": {},
   "outputs": [],
   "source": [
    "import random"
   ]
  },
  {
   "cell_type": "markdown",
   "id": "a426de46-caf6-43c8-a216-272f2260a37c",
   "metadata": {},
   "source": [
    "##### 'product_id'"
   ]
  },
  {
   "cell_type": "code",
   "execution_count": 22,
   "id": "12906061-6fcd-4a4d-ae16-ceb4c243cd74",
   "metadata": {},
   "outputs": [],
   "source": [
    "product_id_list = list(df_sales['product_id'].unique())"
   ]
  },
  {
   "cell_type": "code",
   "execution_count": 23,
   "id": "93242135-16d7-43ef-a43f-d521ed43a241",
   "metadata": {},
   "outputs": [
    {
     "data": {
      "text/plain": [
       "nan"
      ]
     },
     "execution_count": 23,
     "metadata": {},
     "output_type": "execute_result"
    }
   ],
   "source": [
    "random.choice(product_id_list)"
   ]
  },
  {
   "cell_type": "code",
   "execution_count": 24,
   "id": "90ef578e-0797-417e-a229-0302d193fc06",
   "metadata": {},
   "outputs": [
    {
     "name": "stderr",
     "output_type": "stream",
     "text": [
      "/tmp/ipykernel_10566/1803863322.py:1: FutureWarning: A value is trying to be set on a copy of a DataFrame or Series through chained assignment using an inplace method.\n",
      "The behavior will change in pandas 3.0. This inplace method will never work because the intermediate object on which we are setting values always behaves as a copy.\n",
      "\n",
      "For example, when doing 'df[col].method(value, inplace=True)', try using 'df.method({col: value}, inplace=True)' or df[col] = df[col].method(value) instead, to perform the operation inplace on the original object.\n",
      "\n",
      "\n",
      "  df_sales['product_id'].fillna(random.choice(product_id_list), inplace=True)\n",
      "/tmp/ipykernel_10566/1803863322.py:1: SettingWithCopyWarning: \n",
      "A value is trying to be set on a copy of a slice from a DataFrame\n",
      "\n",
      "See the caveats in the documentation: https://pandas.pydata.org/pandas-docs/stable/user_guide/indexing.html#returning-a-view-versus-a-copy\n",
      "  df_sales['product_id'].fillna(random.choice(product_id_list), inplace=True)\n"
     ]
    }
   ],
   "source": [
    "df_sales['product_id'].fillna(random.choice(product_id_list), inplace=True)"
   ]
  },
  {
   "cell_type": "markdown",
   "id": "ccd4b163-8e33-4551-bdc8-fe4ffff6232a",
   "metadata": {},
   "source": [
    "##### 'city'"
   ]
  },
  {
   "cell_type": "code",
   "execution_count": 25,
   "id": "a821e3e8-59d4-4cd6-a387-f7cc72cf250a",
   "metadata": {},
   "outputs": [],
   "source": [
    "city_list = list(df_sales['city'].unique())"
   ]
  },
  {
   "cell_type": "code",
   "execution_count": 26,
   "id": "7a883aa0-d279-4d69-9716-bb852030ff9d",
   "metadata": {},
   "outputs": [
    {
     "name": "stderr",
     "output_type": "stream",
     "text": [
      "/tmp/ipykernel_10566/945314197.py:1: FutureWarning: A value is trying to be set on a copy of a DataFrame or Series through chained assignment using an inplace method.\n",
      "The behavior will change in pandas 3.0. This inplace method will never work because the intermediate object on which we are setting values always behaves as a copy.\n",
      "\n",
      "For example, when doing 'df[col].method(value, inplace=True)', try using 'df.method({col: value}, inplace=True)' or df[col] = df[col].method(value) instead, to perform the operation inplace on the original object.\n",
      "\n",
      "\n",
      "  df_sales['city'].fillna(random.choice(city_list), inplace=True)\n",
      "/tmp/ipykernel_10566/945314197.py:1: SettingWithCopyWarning: \n",
      "A value is trying to be set on a copy of a slice from a DataFrame\n",
      "\n",
      "See the caveats in the documentation: https://pandas.pydata.org/pandas-docs/stable/user_guide/indexing.html#returning-a-view-versus-a-copy\n",
      "  df_sales['city'].fillna(random.choice(city_list), inplace=True)\n"
     ]
    }
   ],
   "source": [
    "df_sales['city'].fillna(random.choice(city_list), inplace=True)"
   ]
  },
  {
   "cell_type": "markdown",
   "id": "680710ff-eefb-4043-8cb2-e33c1581d482",
   "metadata": {},
   "source": [
    "##### quantity"
   ]
  },
  {
   "cell_type": "code",
   "execution_count": 27,
   "id": "fbec9489-fd72-44f7-b5a3-4948fb7f8903",
   "metadata": {},
   "outputs": [
    {
     "name": "stderr",
     "output_type": "stream",
     "text": [
      "/tmp/ipykernel_10566/825631530.py:1: FutureWarning: A value is trying to be set on a copy of a DataFrame or Series through chained assignment using an inplace method.\n",
      "The behavior will change in pandas 3.0. This inplace method will never work because the intermediate object on which we are setting values always behaves as a copy.\n",
      "\n",
      "For example, when doing 'df[col].method(value, inplace=True)', try using 'df.method({col: value}, inplace=True)' or df[col] = df[col].method(value) instead, to perform the operation inplace on the original object.\n",
      "\n",
      "\n",
      "  df_sales['quantity'].fillna(0, inplace=True)\n",
      "/tmp/ipykernel_10566/825631530.py:1: SettingWithCopyWarning: \n",
      "A value is trying to be set on a copy of a slice from a DataFrame\n",
      "\n",
      "See the caveats in the documentation: https://pandas.pydata.org/pandas-docs/stable/user_guide/indexing.html#returning-a-view-versus-a-copy\n",
      "  df_sales['quantity'].fillna(0, inplace=True)\n"
     ]
    }
   ],
   "source": [
    "df_sales['quantity'].fillna(0, inplace=True)"
   ]
  },
  {
   "cell_type": "markdown",
   "id": "9d4badc2-4980-4cec-b60d-259a2878012b",
   "metadata": {},
   "source": [
    "##### date"
   ]
  },
  {
   "cell_type": "code",
   "execution_count": 28,
   "id": "e789a552-ae45-417f-9b9c-a109f296cc5b",
   "metadata": {},
   "outputs": [],
   "source": [
    "date_list = list(df_sales['date'].unique())"
   ]
  },
  {
   "cell_type": "code",
   "execution_count": 29,
   "id": "ca82278b-8871-4920-994f-33d617c363ef",
   "metadata": {},
   "outputs": [
    {
     "name": "stderr",
     "output_type": "stream",
     "text": [
      "/tmp/ipykernel_10566/139737404.py:1: FutureWarning: A value is trying to be set on a copy of a DataFrame or Series through chained assignment using an inplace method.\n",
      "The behavior will change in pandas 3.0. This inplace method will never work because the intermediate object on which we are setting values always behaves as a copy.\n",
      "\n",
      "For example, when doing 'df[col].method(value, inplace=True)', try using 'df.method({col: value}, inplace=True)' or df[col] = df[col].method(value) instead, to perform the operation inplace on the original object.\n",
      "\n",
      "\n",
      "  df_sales['date'].fillna(random.choice(date_list), inplace=True)\n",
      "/tmp/ipykernel_10566/139737404.py:1: SettingWithCopyWarning: \n",
      "A value is trying to be set on a copy of a slice from a DataFrame\n",
      "\n",
      "See the caveats in the documentation: https://pandas.pydata.org/pandas-docs/stable/user_guide/indexing.html#returning-a-view-versus-a-copy\n",
      "  df_sales['date'].fillna(random.choice(date_list), inplace=True)\n"
     ]
    }
   ],
   "source": [
    "df_sales['date'].fillna(random.choice(date_list), inplace=True)"
   ]
  },
  {
   "cell_type": "markdown",
   "id": "6253c90d-029e-4b96-ab72-4fcfc2cbadd9",
   "metadata": {},
   "source": [
    "##### month"
   ]
  },
  {
   "cell_type": "code",
   "execution_count": 30,
   "id": "e70bc3db-5996-49b3-82e3-e63ddfc95ac3",
   "metadata": {},
   "outputs": [
    {
     "name": "stderr",
     "output_type": "stream",
     "text": [
      "/tmp/ipykernel_10566/3245856864.py:1: FutureWarning: A value is trying to be set on a copy of a DataFrame or Series through chained assignment using an inplace method.\n",
      "The behavior will change in pandas 3.0. This inplace method will never work because the intermediate object on which we are setting values always behaves as a copy.\n",
      "\n",
      "For example, when doing 'df[col].method(value, inplace=True)', try using 'df.method({col: value}, inplace=True)' or df[col] = df[col].method(value) instead, to perform the operation inplace on the original object.\n",
      "\n",
      "\n",
      "  df_sales['month'].fillna(random.choice(['January', 'February', 'April', 'March', 'May', 'June', 'July', 'August', 'September', 'October', 'November', 'December']), inplace=True)\n",
      "/tmp/ipykernel_10566/3245856864.py:1: SettingWithCopyWarning: \n",
      "A value is trying to be set on a copy of a slice from a DataFrame\n",
      "\n",
      "See the caveats in the documentation: https://pandas.pydata.org/pandas-docs/stable/user_guide/indexing.html#returning-a-view-versus-a-copy\n",
      "  df_sales['month'].fillna(random.choice(['January', 'February', 'April', 'March', 'May', 'June', 'July', 'August', 'September', 'October', 'November', 'December']), inplace=True)\n"
     ]
    }
   ],
   "source": [
    "df_sales['month'].fillna(random.choice(['January', 'February', 'April', 'March', 'May', 'June', 'July', 'August', 'September', 'October', 'November', 'December']), inplace=True)"
   ]
  },
  {
   "cell_type": "markdown",
   "id": "f2fa10e9-403b-4261-ad75-13ffc9fda6f5",
   "metadata": {},
   "source": [
    "#### rechecking for null values"
   ]
  },
  {
   "cell_type": "code",
   "execution_count": 31,
   "id": "48a01679-3da8-4c6e-9249-13ed068b41dc",
   "metadata": {},
   "outputs": [
    {
     "data": {
      "text/plain": [
       "date          0\n",
       "product_id    0\n",
       "quantity      0\n",
       "city          0\n",
       "sales         0\n",
       "month         0\n",
       "dtype: int64"
      ]
     },
     "execution_count": 31,
     "metadata": {},
     "output_type": "execute_result"
    }
   ],
   "source": [
    "df_sales.isna().sum()"
   ]
  },
  {
   "cell_type": "markdown",
   "id": "2d2d4644-e510-4c88-ba51-007d3d8ea1e8",
   "metadata": {},
   "source": [
    "#### checking dtype of columns"
   ]
  },
  {
   "cell_type": "code",
   "execution_count": 32,
   "id": "5c5dde56-643f-4478-91ab-d5ddc287ca05",
   "metadata": {},
   "outputs": [
    {
     "data": {
      "text/plain": [
       "date          datetime64[ns]\n",
       "product_id            object\n",
       "quantity             float64\n",
       "city                  object\n",
       "sales                float64\n",
       "month                 object\n",
       "dtype: object"
      ]
     },
     "execution_count": 32,
     "metadata": {},
     "output_type": "execute_result"
    }
   ],
   "source": [
    "df_sales.dtypes"
   ]
  },
  {
   "cell_type": "code",
   "execution_count": null,
   "id": "fd518308-d2df-42ac-b7aa-901348bc6530",
   "metadata": {},
   "outputs": [],
   "source": []
  },
  {
   "cell_type": "code",
   "execution_count": null,
   "id": "fb1e3282-bff9-4f51-a1e4-ddf57ca3883a",
   "metadata": {},
   "outputs": [],
   "source": []
  },
  {
   "cell_type": "markdown",
   "id": "e95c6440-b162-43e7-95e3-f7140a73555d",
   "metadata": {},
   "source": [
    "#### Weather data"
   ]
  },
  {
   "cell_type": "code",
   "execution_count": 33,
   "id": "79dd468c-e0a2-414e-b2c9-2bbb35b9e212",
   "metadata": {},
   "outputs": [
    {
     "data": {
      "text/html": [
       "<div>\n",
       "<style scoped>\n",
       "    .dataframe tbody tr th:only-of-type {\n",
       "        vertical-align: middle;\n",
       "    }\n",
       "\n",
       "    .dataframe tbody tr th {\n",
       "        vertical-align: top;\n",
       "    }\n",
       "\n",
       "    .dataframe thead th {\n",
       "        text-align: right;\n",
       "    }\n",
       "</style>\n",
       "<table border=\"1\" class=\"dataframe\">\n",
       "  <thead>\n",
       "    <tr style=\"text-align: right;\">\n",
       "      <th></th>\n",
       "      <th>date</th>\n",
       "      <th>Temp</th>\n",
       "      <th>humidity(%)</th>\n",
       "      <th>wind_speed</th>\n",
       "      <th>city</th>\n",
       "    </tr>\n",
       "  </thead>\n",
       "  <tbody>\n",
       "    <tr>\n",
       "      <th>0</th>\n",
       "      <td>06/04/2023</td>\n",
       "      <td>hot</td>\n",
       "      <td>NaN</td>\n",
       "      <td>fast</td>\n",
       "      <td>Chicago</td>\n",
       "    </tr>\n",
       "    <tr>\n",
       "      <th>1</th>\n",
       "      <td>2023-01-04</td>\n",
       "      <td>24.4</td>\n",
       "      <td>56.0</td>\n",
       "      <td>15.37</td>\n",
       "      <td>NaN</td>\n",
       "    </tr>\n",
       "    <tr>\n",
       "      <th>2</th>\n",
       "      <td>2023-02-11</td>\n",
       "      <td>38.8</td>\n",
       "      <td>70.0</td>\n",
       "      <td>0.87</td>\n",
       "      <td>NaN</td>\n",
       "    </tr>\n",
       "    <tr>\n",
       "      <th>3</th>\n",
       "      <td>2023-02-03</td>\n",
       "      <td>33.3</td>\n",
       "      <td>63.0</td>\n",
       "      <td>19.89</td>\n",
       "      <td>NaN</td>\n",
       "    </tr>\n",
       "    <tr>\n",
       "      <th>4</th>\n",
       "      <td>2023-04-21</td>\n",
       "      <td>30</td>\n",
       "      <td>43.0</td>\n",
       "      <td>9.4</td>\n",
       "      <td>New York</td>\n",
       "    </tr>\n",
       "  </tbody>\n",
       "</table>\n",
       "</div>"
      ],
      "text/plain": [
       "         date  Temp  humidity(%) wind_speed      city\n",
       "0  06/04/2023   hot          NaN       fast   Chicago\n",
       "1  2023-01-04  24.4         56.0      15.37       NaN\n",
       "2  2023-02-11  38.8         70.0       0.87       NaN\n",
       "3  2023-02-03  33.3         63.0      19.89       NaN\n",
       "4  2023-04-21    30         43.0        9.4  New York"
      ]
     },
     "execution_count": 33,
     "metadata": {},
     "output_type": "execute_result"
    }
   ],
   "source": [
    "df_weather.head()"
   ]
  },
  {
   "cell_type": "code",
   "execution_count": 34,
   "id": "608ada20-400f-40d9-95e5-30f856854882",
   "metadata": {},
   "outputs": [
    {
     "data": {
      "text/plain": [
       "date            object\n",
       "Temp            object\n",
       "humidity(%)    float64\n",
       "wind_speed      object\n",
       "city            object\n",
       "dtype: object"
      ]
     },
     "execution_count": 34,
     "metadata": {},
     "output_type": "execute_result"
    }
   ],
   "source": [
    "df_weather.dtypes"
   ]
  },
  {
   "cell_type": "code",
   "execution_count": 35,
   "id": "7492d64f-c0b9-47a0-b763-a507c188c245",
   "metadata": {},
   "outputs": [
    {
     "data": {
      "text/plain": [
       "date            0\n",
       "Temp            0\n",
       "humidity(%)    23\n",
       "wind_speed      0\n",
       "city           59\n",
       "dtype: int64"
      ]
     },
     "execution_count": 35,
     "metadata": {},
     "output_type": "execute_result"
    }
   ],
   "source": [
    "df_weather.isna().sum()"
   ]
  },
  {
   "cell_type": "markdown",
   "id": "5d848556-0f06-4af7-9a96-f5975a3f4599",
   "metadata": {},
   "source": [
    "#### filling NaN values"
   ]
  },
  {
   "cell_type": "markdown",
   "id": "05efa3d5-2942-4b75-aed3-17626e41783c",
   "metadata": {},
   "source": [
    "##### city"
   ]
  },
  {
   "cell_type": "code",
   "execution_count": 36,
   "id": "f35dafea-70a3-4724-b9ea-5e105c11c5f1",
   "metadata": {},
   "outputs": [
    {
     "name": "stderr",
     "output_type": "stream",
     "text": [
      "/tmp/ipykernel_10566/1925354865.py:1: FutureWarning: A value is trying to be set on a copy of a DataFrame or Series through chained assignment using an inplace method.\n",
      "The behavior will change in pandas 3.0. This inplace method will never work because the intermediate object on which we are setting values always behaves as a copy.\n",
      "\n",
      "For example, when doing 'df[col].method(value, inplace=True)', try using 'df.method({col: value}, inplace=True)' or df[col] = df[col].method(value) instead, to perform the operation inplace on the original object.\n",
      "\n",
      "\n",
      "  df_weather['city'].fillna(random.choice(city_list), inplace = True)\n"
     ]
    }
   ],
   "source": [
    "df_weather['city'].fillna(random.choice(city_list), inplace = True)"
   ]
  },
  {
   "cell_type": "markdown",
   "id": "97734e2c-58e8-401d-9a24-305a7e889886",
   "metadata": {},
   "source": [
    "##### humidity"
   ]
  },
  {
   "cell_type": "code",
   "execution_count": 37,
   "id": "eb5ae3b3-336f-4c78-b5d8-9d400d445195",
   "metadata": {},
   "outputs": [
    {
     "name": "stderr",
     "output_type": "stream",
     "text": [
      "/tmp/ipykernel_10566/2767530713.py:1: FutureWarning: A value is trying to be set on a copy of a DataFrame or Series through chained assignment using an inplace method.\n",
      "The behavior will change in pandas 3.0. This inplace method will never work because the intermediate object on which we are setting values always behaves as a copy.\n",
      "\n",
      "For example, when doing 'df[col].method(value, inplace=True)', try using 'df.method({col: value}, inplace=True)' or df[col] = df[col].method(value) instead, to perform the operation inplace on the original object.\n",
      "\n",
      "\n",
      "  df_weather['humidity(%)'].fillna(0, inplace=True)\n"
     ]
    }
   ],
   "source": [
    "df_weather['humidity(%)'].fillna(0, inplace=True)"
   ]
  },
  {
   "cell_type": "markdown",
   "id": "f0c75cfe-8932-44d5-b813-dd6d13ef44ee",
   "metadata": {},
   "source": [
    "##### temp : converting type + filling NaN"
   ]
  },
  {
   "cell_type": "code",
   "execution_count": 38,
   "id": "be143752-fcdc-4e68-a10b-1f13d758782e",
   "metadata": {},
   "outputs": [],
   "source": [
    "df_weather['Temp'] = pd.to_numeric(df_weather['Temp'], errors='coerce')"
   ]
  },
  {
   "cell_type": "code",
   "execution_count": 39,
   "id": "1fb14e26-fb50-4247-8905-662741db8e67",
   "metadata": {},
   "outputs": [
    {
     "name": "stderr",
     "output_type": "stream",
     "text": [
      "/tmp/ipykernel_10566/1538674686.py:1: FutureWarning: A value is trying to be set on a copy of a DataFrame or Series through chained assignment using an inplace method.\n",
      "The behavior will change in pandas 3.0. This inplace method will never work because the intermediate object on which we are setting values always behaves as a copy.\n",
      "\n",
      "For example, when doing 'df[col].method(value, inplace=True)', try using 'df.method({col: value}, inplace=True)' or df[col] = df[col].method(value) instead, to perform the operation inplace on the original object.\n",
      "\n",
      "\n",
      "  df_weather['Temp'].fillna(0, inplace=True)\n"
     ]
    }
   ],
   "source": [
    "df_weather['Temp'].fillna(0, inplace=True)"
   ]
  },
  {
   "cell_type": "markdown",
   "id": "cfe21033-5df2-48fc-a10c-5e1b0cae35ab",
   "metadata": {},
   "source": [
    "##### wind_speed: converting dtype + filling NaN"
   ]
  },
  {
   "cell_type": "code",
   "execution_count": 40,
   "id": "0b0dca52-32b8-4758-83ba-1f3f83338f63",
   "metadata": {},
   "outputs": [],
   "source": [
    "df_weather['wind_speed'] =  pd.to_numeric(df_weather['wind_speed'], errors='coerce')"
   ]
  },
  {
   "cell_type": "code",
   "execution_count": 41,
   "id": "14045163-ce65-4347-a620-0dadb29d1f88",
   "metadata": {},
   "outputs": [
    {
     "name": "stderr",
     "output_type": "stream",
     "text": [
      "/tmp/ipykernel_10566/570146657.py:1: FutureWarning: A value is trying to be set on a copy of a DataFrame or Series through chained assignment using an inplace method.\n",
      "The behavior will change in pandas 3.0. This inplace method will never work because the intermediate object on which we are setting values always behaves as a copy.\n",
      "\n",
      "For example, when doing 'df[col].method(value, inplace=True)', try using 'df.method({col: value}, inplace=True)' or df[col] = df[col].method(value) instead, to perform the operation inplace on the original object.\n",
      "\n",
      "\n",
      "  df_weather['wind_speed'].fillna(0, inplace=True)\n"
     ]
    }
   ],
   "source": [
    "df_weather['wind_speed'].fillna(0, inplace=True)"
   ]
  },
  {
   "cell_type": "markdown",
   "id": "3196dbd3-7b1f-4532-8766-2ae5fd5baede",
   "metadata": {},
   "source": [
    "##### date: type change"
   ]
  },
  {
   "cell_type": "code",
   "execution_count": 42,
   "id": "6bef19b7-670e-4e18-ba1a-b10ddb204a3d",
   "metadata": {},
   "outputs": [],
   "source": [
    "df_weather['date'] = pd.to_datetime(df_weather['date'], format='%Y-%m-%d', errors='coerce')"
   ]
  },
  {
   "cell_type": "code",
   "execution_count": 43,
   "id": "56c40c7e-ed29-447d-babf-2fe9d15ca09f",
   "metadata": {},
   "outputs": [
    {
     "name": "stderr",
     "output_type": "stream",
     "text": [
      "/tmp/ipykernel_10566/3139859760.py:1: FutureWarning: A value is trying to be set on a copy of a DataFrame or Series through chained assignment using an inplace method.\n",
      "The behavior will change in pandas 3.0. This inplace method will never work because the intermediate object on which we are setting values always behaves as a copy.\n",
      "\n",
      "For example, when doing 'df[col].method(value, inplace=True)', try using 'df.method({col: value}, inplace=True)' or df[col] = df[col].method(value) instead, to perform the operation inplace on the original object.\n",
      "\n",
      "\n",
      "  df_weather['date'].fillna(random.choice(date_list), inplace=True)\n"
     ]
    }
   ],
   "source": [
    "df_weather['date'].fillna(random.choice(date_list), inplace=True)"
   ]
  },
  {
   "cell_type": "markdown",
   "id": "b180d4f0-b5a6-4558-bd78-89bcfb7b646f",
   "metadata": {},
   "source": [
    "#### Rechecking dtypes and nulls"
   ]
  },
  {
   "cell_type": "code",
   "execution_count": 44,
   "id": "ffefaa65-1d83-4c5e-adf4-e4e222fc4b42",
   "metadata": {},
   "outputs": [
    {
     "data": {
      "text/plain": [
       "date           datetime64[ns]\n",
       "Temp                  float64\n",
       "humidity(%)           float64\n",
       "wind_speed            float64\n",
       "city                   object\n",
       "dtype: object"
      ]
     },
     "execution_count": 44,
     "metadata": {},
     "output_type": "execute_result"
    }
   ],
   "source": [
    "df_weather.dtypes"
   ]
  },
  {
   "cell_type": "code",
   "execution_count": 45,
   "id": "2205795d-0a4f-4f37-a113-139666d281ff",
   "metadata": {},
   "outputs": [
    {
     "data": {
      "text/plain": [
       "date           0\n",
       "Temp           0\n",
       "humidity(%)    0\n",
       "wind_speed     0\n",
       "city           0\n",
       "dtype: int64"
      ]
     },
     "execution_count": 45,
     "metadata": {},
     "output_type": "execute_result"
    }
   ],
   "source": [
    "df_weather.isnull().sum()"
   ]
  },
  {
   "cell_type": "code",
   "execution_count": null,
   "id": "6fe5c4d0-6f34-4df9-bf64-6bd4a3192e71",
   "metadata": {},
   "outputs": [],
   "source": []
  },
  {
   "cell_type": "code",
   "execution_count": null,
   "id": "0defa46b-b1f5-4990-8347-faf3681e882a",
   "metadata": {},
   "outputs": [],
   "source": []
  },
  {
   "cell_type": "markdown",
   "id": "64e2ed65-b0d9-43ef-a13d-c7dc0b332a0f",
   "metadata": {},
   "source": [
    "#### Deriving buisness insights"
   ]
  },
  {
   "cell_type": "code",
   "execution_count": 46,
   "id": "603307bd-dd78-4c7b-911e-beef4319b3d8",
   "metadata": {},
   "outputs": [],
   "source": [
    "df_merged = df_sales.set_index('date').join(df_weather.set_index('date'), lsuffix='_sales', rsuffix='_weather')"
   ]
  },
  {
   "cell_type": "code",
   "execution_count": 47,
   "id": "0ca4c3ef-ade8-4c9a-8cdd-e79305157281",
   "metadata": {},
   "outputs": [
    {
     "data": {
      "text/html": [
       "<div>\n",
       "<style scoped>\n",
       "    .dataframe tbody tr th:only-of-type {\n",
       "        vertical-align: middle;\n",
       "    }\n",
       "\n",
       "    .dataframe tbody tr th {\n",
       "        vertical-align: top;\n",
       "    }\n",
       "\n",
       "    .dataframe thead th {\n",
       "        text-align: right;\n",
       "    }\n",
       "</style>\n",
       "<table border=\"1\" class=\"dataframe\">\n",
       "  <thead>\n",
       "    <tr style=\"text-align: right;\">\n",
       "      <th></th>\n",
       "      <th>product_id</th>\n",
       "      <th>quantity</th>\n",
       "      <th>city_sales</th>\n",
       "      <th>sales</th>\n",
       "      <th>month</th>\n",
       "      <th>Temp</th>\n",
       "      <th>humidity(%)</th>\n",
       "      <th>wind_speed</th>\n",
       "      <th>city_weather</th>\n",
       "    </tr>\n",
       "    <tr>\n",
       "      <th>date</th>\n",
       "      <th></th>\n",
       "      <th></th>\n",
       "      <th></th>\n",
       "      <th></th>\n",
       "      <th></th>\n",
       "      <th></th>\n",
       "      <th></th>\n",
       "      <th></th>\n",
       "      <th></th>\n",
       "    </tr>\n",
       "  </thead>\n",
       "  <tbody>\n",
       "    <tr>\n",
       "      <th>2023-05-21</th>\n",
       "      <td>P003</td>\n",
       "      <td>0.0</td>\n",
       "      <td>California</td>\n",
       "      <td>5389.96</td>\n",
       "      <td>October</td>\n",
       "      <td>22.8</td>\n",
       "      <td>78.0</td>\n",
       "      <td>1.02</td>\n",
       "      <td>New York</td>\n",
       "    </tr>\n",
       "    <tr>\n",
       "      <th>2023-01-04</th>\n",
       "      <td>P003</td>\n",
       "      <td>28.0</td>\n",
       "      <td>London</td>\n",
       "      <td>6727.63</td>\n",
       "      <td>January</td>\n",
       "      <td>24.4</td>\n",
       "      <td>56.0</td>\n",
       "      <td>15.37</td>\n",
       "      <td>New York</td>\n",
       "    </tr>\n",
       "    <tr>\n",
       "      <th>2023-01-04</th>\n",
       "      <td>P003</td>\n",
       "      <td>28.0</td>\n",
       "      <td>London</td>\n",
       "      <td>6727.63</td>\n",
       "      <td>January</td>\n",
       "      <td>15.5</td>\n",
       "      <td>71.0</td>\n",
       "      <td>11.06</td>\n",
       "      <td>Los Angeles</td>\n",
       "    </tr>\n",
       "    <tr>\n",
       "      <th>2023-01-04</th>\n",
       "      <td>P003</td>\n",
       "      <td>28.0</td>\n",
       "      <td>London</td>\n",
       "      <td>6727.63</td>\n",
       "      <td>January</td>\n",
       "      <td>24.4</td>\n",
       "      <td>56.0</td>\n",
       "      <td>15.37</td>\n",
       "      <td>New York</td>\n",
       "    </tr>\n",
       "    <tr>\n",
       "      <th>2023-02-11</th>\n",
       "      <td>P002</td>\n",
       "      <td>36.0</td>\n",
       "      <td>New York</td>\n",
       "      <td>8208.54</td>\n",
       "      <td>February</td>\n",
       "      <td>38.8</td>\n",
       "      <td>70.0</td>\n",
       "      <td>0.87</td>\n",
       "      <td>New York</td>\n",
       "    </tr>\n",
       "    <tr>\n",
       "      <th>...</th>\n",
       "      <td>...</td>\n",
       "      <td>...</td>\n",
       "      <td>...</td>\n",
       "      <td>...</td>\n",
       "      <td>...</td>\n",
       "      <td>...</td>\n",
       "      <td>...</td>\n",
       "      <td>...</td>\n",
       "      <td>...</td>\n",
       "    </tr>\n",
       "    <tr>\n",
       "      <th>2023-04-20</th>\n",
       "      <td>p001</td>\n",
       "      <td>34.0</td>\n",
       "      <td>Houston</td>\n",
       "      <td>4550.70</td>\n",
       "      <td>April</td>\n",
       "      <td>27.9</td>\n",
       "      <td>89.0</td>\n",
       "      <td>7.17</td>\n",
       "      <td>New York</td>\n",
       "    </tr>\n",
       "    <tr>\n",
       "      <th>2023-04-20</th>\n",
       "      <td>p001</td>\n",
       "      <td>34.0</td>\n",
       "      <td>Houston</td>\n",
       "      <td>4550.70</td>\n",
       "      <td>April</td>\n",
       "      <td>19.6</td>\n",
       "      <td>86.0</td>\n",
       "      <td>11.58</td>\n",
       "      <td>Los Angeles</td>\n",
       "    </tr>\n",
       "    <tr>\n",
       "      <th>2023-04-20</th>\n",
       "      <td>p001</td>\n",
       "      <td>34.0</td>\n",
       "      <td>Houston</td>\n",
       "      <td>4550.70</td>\n",
       "      <td>April</td>\n",
       "      <td>15.2</td>\n",
       "      <td>0.0</td>\n",
       "      <td>18.88</td>\n",
       "      <td>Chicago</td>\n",
       "    </tr>\n",
       "    <tr>\n",
       "      <th>2023-01-31</th>\n",
       "      <td>p001</td>\n",
       "      <td>6.0</td>\n",
       "      <td>Houston</td>\n",
       "      <td>1960.80</td>\n",
       "      <td>January</td>\n",
       "      <td>27.8</td>\n",
       "      <td>23.0</td>\n",
       "      <td>18.89</td>\n",
       "      <td>New York</td>\n",
       "    </tr>\n",
       "    <tr>\n",
       "      <th>2023-02-16</th>\n",
       "      <td>P007</td>\n",
       "      <td>2.0</td>\n",
       "      <td>Paris</td>\n",
       "      <td>4020.94</td>\n",
       "      <td>February</td>\n",
       "      <td>25.4</td>\n",
       "      <td>54.0</td>\n",
       "      <td>17.34</td>\n",
       "      <td>Los Angeles</td>\n",
       "    </tr>\n",
       "  </tbody>\n",
       "</table>\n",
       "<p>265 rows × 9 columns</p>\n",
       "</div>"
      ],
      "text/plain": [
       "           product_id  quantity  city_sales    sales     month  Temp  \\\n",
       "date                                                                   \n",
       "2023-05-21       P003       0.0  California  5389.96   October  22.8   \n",
       "2023-01-04       P003      28.0      London  6727.63   January  24.4   \n",
       "2023-01-04       P003      28.0      London  6727.63   January  15.5   \n",
       "2023-01-04       P003      28.0      London  6727.63   January  24.4   \n",
       "2023-02-11       P002      36.0    New York  8208.54  February  38.8   \n",
       "...               ...       ...         ...      ...       ...   ...   \n",
       "2023-04-20       p001      34.0     Houston  4550.70     April  27.9   \n",
       "2023-04-20       p001      34.0     Houston  4550.70     April  19.6   \n",
       "2023-04-20       p001      34.0     Houston  4550.70     April  15.2   \n",
       "2023-01-31       p001       6.0     Houston  1960.80   January  27.8   \n",
       "2023-02-16       P007       2.0       Paris  4020.94  February  25.4   \n",
       "\n",
       "            humidity(%)  wind_speed city_weather  \n",
       "date                                              \n",
       "2023-05-21         78.0        1.02     New York  \n",
       "2023-01-04         56.0       15.37     New York  \n",
       "2023-01-04         71.0       11.06  Los Angeles  \n",
       "2023-01-04         56.0       15.37     New York  \n",
       "2023-02-11         70.0        0.87     New York  \n",
       "...                 ...         ...          ...  \n",
       "2023-04-20         89.0        7.17     New York  \n",
       "2023-04-20         86.0       11.58  Los Angeles  \n",
       "2023-04-20          0.0       18.88      Chicago  \n",
       "2023-01-31         23.0       18.89     New York  \n",
       "2023-02-16         54.0       17.34  Los Angeles  \n",
       "\n",
       "[265 rows x 9 columns]"
      ]
     },
     "execution_count": 47,
     "metadata": {},
     "output_type": "execute_result"
    }
   ],
   "source": [
    "df_merged"
   ]
  },
  {
   "cell_type": "markdown",
   "id": "704877d7-0647-4cb0-a382-87b65cfc209b",
   "metadata": {},
   "source": [
    "### Month-wise Revenue"
   ]
  },
  {
   "cell_type": "code",
   "execution_count": 48,
   "id": "d6a5742e-04c1-439d-8d7d-289671aab704",
   "metadata": {},
   "outputs": [],
   "source": [
    "df_merged['revenue'] = df_merged['sales'] * df_merged['quantity']"
   ]
  },
  {
   "cell_type": "code",
   "execution_count": 49,
   "id": "c64ded6c-fc99-4a36-8a66-3724f7a6cbb5",
   "metadata": {},
   "outputs": [
    {
     "data": {
      "text/plain": [
       "month\n",
       "April       3543976.17\n",
       "February    8646841.12\n",
       "January     5213928.99\n",
       "March       8592953.81\n",
       "May         4094945.02\n",
       "October     1864565.80\n",
       "Name: revenue, dtype: float64"
      ]
     },
     "execution_count": 49,
     "metadata": {},
     "output_type": "execute_result"
    }
   ],
   "source": [
    "df_merged.groupby('month')['revenue'].sum()"
   ]
  },
  {
   "cell_type": "markdown",
   "id": "9e0863f9-f79d-4ad1-8439-b24f41b2b275",
   "metadata": {},
   "source": [
    "### Weekly Revenue"
   ]
  },
  {
   "cell_type": "code",
   "execution_count": 50,
   "id": "8a1a395c-6d95-4043-a956-e4720bec3f5c",
   "metadata": {},
   "outputs": [],
   "source": [
    "weekly_revenue_list = df_merged['revenue'].resample('W').sum()"
   ]
  },
  {
   "cell_type": "code",
   "execution_count": 51,
   "id": "b56cd7c7-260b-44cf-8bdd-3926c3de8765",
   "metadata": {},
   "outputs": [
    {
     "data": {
      "text/html": [
       "<div>\n",
       "<style scoped>\n",
       "    .dataframe tbody tr th:only-of-type {\n",
       "        vertical-align: middle;\n",
       "    }\n",
       "\n",
       "    .dataframe tbody tr th {\n",
       "        vertical-align: top;\n",
       "    }\n",
       "\n",
       "    .dataframe thead th {\n",
       "        text-align: right;\n",
       "    }\n",
       "</style>\n",
       "<table border=\"1\" class=\"dataframe\">\n",
       "  <thead>\n",
       "    <tr style=\"text-align: right;\">\n",
       "      <th></th>\n",
       "      <th>date</th>\n",
       "      <th>revenue</th>\n",
       "    </tr>\n",
       "  </thead>\n",
       "  <tbody>\n",
       "    <tr>\n",
       "      <th>0</th>\n",
       "      <td>2023-01-01</td>\n",
       "      <td>810354.60</td>\n",
       "    </tr>\n",
       "    <tr>\n",
       "      <th>1</th>\n",
       "      <td>2023-01-08</td>\n",
       "      <td>1218351.34</td>\n",
       "    </tr>\n",
       "    <tr>\n",
       "      <th>2</th>\n",
       "      <td>2023-01-15</td>\n",
       "      <td>2078640.39</td>\n",
       "    </tr>\n",
       "    <tr>\n",
       "      <th>3</th>\n",
       "      <td>2023-01-22</td>\n",
       "      <td>446553.26</td>\n",
       "    </tr>\n",
       "    <tr>\n",
       "      <th>4</th>\n",
       "      <td>2023-01-29</td>\n",
       "      <td>617073.75</td>\n",
       "    </tr>\n",
       "    <tr>\n",
       "      <th>5</th>\n",
       "      <td>2023-02-05</td>\n",
       "      <td>2073562.93</td>\n",
       "    </tr>\n",
       "    <tr>\n",
       "      <th>6</th>\n",
       "      <td>2023-02-12</td>\n",
       "      <td>4335197.57</td>\n",
       "    </tr>\n",
       "    <tr>\n",
       "      <th>7</th>\n",
       "      <td>2023-02-19</td>\n",
       "      <td>1108360.78</td>\n",
       "    </tr>\n",
       "    <tr>\n",
       "      <th>8</th>\n",
       "      <td>2023-02-26</td>\n",
       "      <td>944700.99</td>\n",
       "    </tr>\n",
       "    <tr>\n",
       "      <th>9</th>\n",
       "      <td>2023-03-05</td>\n",
       "      <td>1457022.20</td>\n",
       "    </tr>\n",
       "    <tr>\n",
       "      <th>10</th>\n",
       "      <td>2023-03-12</td>\n",
       "      <td>400429.65</td>\n",
       "    </tr>\n",
       "    <tr>\n",
       "      <th>11</th>\n",
       "      <td>2023-03-19</td>\n",
       "      <td>2762436.88</td>\n",
       "    </tr>\n",
       "    <tr>\n",
       "      <th>12</th>\n",
       "      <td>2023-03-26</td>\n",
       "      <td>3589582.79</td>\n",
       "    </tr>\n",
       "    <tr>\n",
       "      <th>13</th>\n",
       "      <td>2023-04-02</td>\n",
       "      <td>987424.25</td>\n",
       "    </tr>\n",
       "    <tr>\n",
       "      <th>14</th>\n",
       "      <td>2023-04-09</td>\n",
       "      <td>938106.67</td>\n",
       "    </tr>\n",
       "    <tr>\n",
       "      <th>15</th>\n",
       "      <td>2023-04-16</td>\n",
       "      <td>371801.53</td>\n",
       "    </tr>\n",
       "    <tr>\n",
       "      <th>16</th>\n",
       "      <td>2023-04-23</td>\n",
       "      <td>1431598.01</td>\n",
       "    </tr>\n",
       "    <tr>\n",
       "      <th>17</th>\n",
       "      <td>2023-04-30</td>\n",
       "      <td>426502.50</td>\n",
       "    </tr>\n",
       "    <tr>\n",
       "      <th>18</th>\n",
       "      <td>2023-05-07</td>\n",
       "      <td>302325.46</td>\n",
       "    </tr>\n",
       "    <tr>\n",
       "      <th>19</th>\n",
       "      <td>2023-05-14</td>\n",
       "      <td>1698467.11</td>\n",
       "    </tr>\n",
       "    <tr>\n",
       "      <th>20</th>\n",
       "      <td>2023-05-21</td>\n",
       "      <td>2362015.37</td>\n",
       "    </tr>\n",
       "    <tr>\n",
       "      <th>21</th>\n",
       "      <td>2023-05-28</td>\n",
       "      <td>1122890.52</td>\n",
       "    </tr>\n",
       "    <tr>\n",
       "      <th>22</th>\n",
       "      <td>2023-06-04</td>\n",
       "      <td>473812.36</td>\n",
       "    </tr>\n",
       "  </tbody>\n",
       "</table>\n",
       "</div>"
      ],
      "text/plain": [
       "         date     revenue\n",
       "0  2023-01-01   810354.60\n",
       "1  2023-01-08  1218351.34\n",
       "2  2023-01-15  2078640.39\n",
       "3  2023-01-22   446553.26\n",
       "4  2023-01-29   617073.75\n",
       "5  2023-02-05  2073562.93\n",
       "6  2023-02-12  4335197.57\n",
       "7  2023-02-19  1108360.78\n",
       "8  2023-02-26   944700.99\n",
       "9  2023-03-05  1457022.20\n",
       "10 2023-03-12   400429.65\n",
       "11 2023-03-19  2762436.88\n",
       "12 2023-03-26  3589582.79\n",
       "13 2023-04-02   987424.25\n",
       "14 2023-04-09   938106.67\n",
       "15 2023-04-16   371801.53\n",
       "16 2023-04-23  1431598.01\n",
       "17 2023-04-30   426502.50\n",
       "18 2023-05-07   302325.46\n",
       "19 2023-05-14  1698467.11\n",
       "20 2023-05-21  2362015.37\n",
       "21 2023-05-28  1122890.52\n",
       "22 2023-06-04   473812.36"
      ]
     },
     "execution_count": 51,
     "metadata": {},
     "output_type": "execute_result"
    }
   ],
   "source": [
    "weekly_revenue_list.reset_index()"
   ]
  },
  {
   "cell_type": "markdown",
   "id": "e1c727b9-e34e-4edb-a8d3-5632048d6ff5",
   "metadata": {},
   "source": [
    "### Which city has max sale?"
   ]
  },
  {
   "cell_type": "code",
   "execution_count": 52,
   "id": "3feb2902-9a8d-4ed9-9e0b-001bf9e650da",
   "metadata": {},
   "outputs": [],
   "source": [
    "df_merged_by_city = df_sales.set_index('city').join(df_weather.set_index('city'), lsuffix='_sales', rsuffix='_weather')"
   ]
  },
  {
   "cell_type": "code",
   "execution_count": 53,
   "id": "09582442-e15c-4c59-8c05-36adf5474d44",
   "metadata": {},
   "outputs": [],
   "source": [
    "city_wise_sales = df_merged_by_city.groupby('city')['sales'].sum()"
   ]
  },
  {
   "cell_type": "code",
   "execution_count": 54,
   "id": "4cd6a2ac-fe94-4c30-8713-2d3fb6da3a3a",
   "metadata": {},
   "outputs": [
    {
     "data": {
      "text/plain": [
       "city\n",
       "California     1588814.32\n",
       "Chicago        2902815.28\n",
       "Houston         638793.45\n",
       "London          126148.35\n",
       "MexicoCIty        5797.61\n",
       "New York      10706895.63\n",
       "Paris            65910.05\n",
       "Name: sales, dtype: float64"
      ]
     },
     "execution_count": 54,
     "metadata": {},
     "output_type": "execute_result"
    }
   ],
   "source": [
    "city_wise_sales"
   ]
  },
  {
   "cell_type": "code",
   "execution_count": 55,
   "id": "f2dd2b70-6d31-48d9-ac3d-01fb776e12f6",
   "metadata": {},
   "outputs": [
    {
     "data": {
      "text/plain": [
       "'New York'"
      ]
     },
     "execution_count": 55,
     "metadata": {},
     "output_type": "execute_result"
    }
   ],
   "source": [
    "city_wise_sales.idxmax()"
   ]
  },
  {
   "cell_type": "markdown",
   "id": "0c93daa4-bce6-4a69-b938-c7815b4fa36f",
   "metadata": {},
   "source": [
    "### which city has 2nd highest sales?"
   ]
  },
  {
   "cell_type": "code",
   "execution_count": 56,
   "id": "174654e9-0ae7-415a-b9ba-eb595e082a17",
   "metadata": {},
   "outputs": [],
   "source": [
    "city_wise_sales_sorted = city_wise_sales.sort_values(ascending=False).reset_index()"
   ]
  },
  {
   "cell_type": "code",
   "execution_count": 57,
   "id": "4bb4b6ce-1bfd-4687-bcb9-59443a07cb85",
   "metadata": {},
   "outputs": [
    {
     "data": {
      "text/plain": [
       "city        Chicago\n",
       "sales    2902815.28\n",
       "Name: 1, dtype: object"
      ]
     },
     "execution_count": 57,
     "metadata": {},
     "output_type": "execute_result"
    }
   ],
   "source": [
    "city_wise_sales_sorted.loc[1]"
   ]
  },
  {
   "cell_type": "markdown",
   "id": "70f9f88b-7a53-42dc-8cb2-6c2fe4ca632c",
   "metadata": {},
   "source": [
    "### Analyse effect of temp on sales"
   ]
  },
  {
   "cell_type": "code",
   "execution_count": 58,
   "id": "f4b918da-4267-45ca-b30e-31a57c241b63",
   "metadata": {},
   "outputs": [
    {
     "data": {
      "text/plain": [
       "<Axes: xlabel='Temp'>"
      ]
     },
     "execution_count": 58,
     "metadata": {},
     "output_type": "execute_result"
    },
    {
     "data": {
      "image/png": "[encoded data removed]",
      "text/plain": [
       "<Figure size 640x480 with 1 Axes>"
      ]
     },
     "metadata": {},
     "output_type": "display_data"
    }
   ],
   "source": [
    "df_merged.plot(x='Temp', y='sales')"
   ]
  },
  {
   "cell_type": "markdown",
   "id": "2cbda8cd-da6f-4fc6-abab-6f624fee003b",
   "metadata": {},
   "source": [
    "### City-wise which product has highest sale? return: [city, product, amount]"
   ]
  },
  {
   "cell_type": "code",
   "execution_count": 59,
   "id": "563d6eda-194e-4d3a-8212-af907f67d4aa",
   "metadata": {},
   "outputs": [],
   "source": [
    "df_merged_by_city['revenue'] = df_merged_by_city['sales'] * df_merged_by_city['quantity']"
   ]
  },
  {
   "cell_type": "code",
   "execution_count": 60,
   "id": "7c2d6c30-3a7e-4f29-8853-c3366fc5a22d",
   "metadata": {},
   "outputs": [],
   "source": [
    "city_product_sales = df_merged_by_city.groupby(['city','product_id'])['revenue'].sum().reset_index()"
   ]
  },
  {
   "cell_type": "code",
   "execution_count": 61,
   "id": "1a72cf01-57c6-4367-9695-405d8133a9f0",
   "metadata": {},
   "outputs": [],
   "source": [
    "city_max_revenue_idx = city_product_sales.groupby('city')['revenue'].idxmax()"
   ]
  },
  {
   "cell_type": "code",
   "execution_count": 62,
   "id": "51d2f432-3dba-4bf5-a780-3ca88ca29ed7",
   "metadata": {},
   "outputs": [
    {
     "data": {
      "text/plain": [
       "city\n",
       "California     2\n",
       "Chicago        9\n",
       "Houston       15\n",
       "London        20\n",
       "MexicoCIty    22\n",
       "New York      25\n",
       "Paris         30\n",
       "Name: revenue, dtype: int64"
      ]
     },
     "execution_count": 62,
     "metadata": {},
     "output_type": "execute_result"
    }
   ],
   "source": [
    "city_max_revenue_idx"
   ]
  },
  {
   "cell_type": "code",
   "execution_count": 63,
   "id": "2c308ad6-9b82-415c-af44-a109cdf41d19",
   "metadata": {},
   "outputs": [
    {
     "data": {
      "text/html": [
       "<div>\n",
       "<style scoped>\n",
       "    .dataframe tbody tr th:only-of-type {\n",
       "        vertical-align: middle;\n",
       "    }\n",
       "\n",
       "    .dataframe tbody tr th {\n",
       "        vertical-align: top;\n",
       "    }\n",
       "\n",
       "    .dataframe thead th {\n",
       "        text-align: right;\n",
       "    }\n",
       "</style>\n",
       "<table border=\"1\" class=\"dataframe\">\n",
       "  <thead>\n",
       "    <tr style=\"text-align: right;\">\n",
       "      <th></th>\n",
       "      <th>city</th>\n",
       "      <th>product_id</th>\n",
       "      <th>revenue</th>\n",
       "    </tr>\n",
       "  </thead>\n",
       "  <tbody>\n",
       "    <tr>\n",
       "      <th>2</th>\n",
       "      <td>California</td>\n",
       "      <td>P003</td>\n",
       "      <td>11900277.04</td>\n",
       "    </tr>\n",
       "    <tr>\n",
       "      <th>9</th>\n",
       "      <td>Chicago</td>\n",
       "      <td>P003</td>\n",
       "      <td>12604331.59</td>\n",
       "    </tr>\n",
       "    <tr>\n",
       "      <th>15</th>\n",
       "      <td>Houston</td>\n",
       "      <td>P002</td>\n",
       "      <td>4379192.15</td>\n",
       "    </tr>\n",
       "    <tr>\n",
       "      <th>20</th>\n",
       "      <td>London</td>\n",
       "      <td>P003</td>\n",
       "      <td>2032342.00</td>\n",
       "    </tr>\n",
       "    <tr>\n",
       "      <th>22</th>\n",
       "      <td>MexicoCIty</td>\n",
       "      <td>P016</td>\n",
       "      <td>186696.69</td>\n",
       "    </tr>\n",
       "    <tr>\n",
       "      <th>25</th>\n",
       "      <td>New York</td>\n",
       "      <td>P002</td>\n",
       "      <td>70883809.50</td>\n",
       "    </tr>\n",
       "    <tr>\n",
       "      <th>30</th>\n",
       "      <td>Paris</td>\n",
       "      <td>P003</td>\n",
       "      <td>832016.10</td>\n",
       "    </tr>\n",
       "  </tbody>\n",
       "</table>\n",
       "</div>"
      ],
      "text/plain": [
       "          city product_id      revenue\n",
       "2   California       P003  11900277.04\n",
       "9      Chicago       P003  12604331.59\n",
       "15     Houston       P002   4379192.15\n",
       "20      London       P003   2032342.00\n",
       "22  MexicoCIty       P016    186696.69\n",
       "25    New York       P002  70883809.50\n",
       "30       Paris       P003    832016.10"
      ]
     },
     "execution_count": 63,
     "metadata": {},
     "output_type": "execute_result"
    }
   ],
   "source": [
    "city_product_sales.loc[city_max_revenue_idx]"
   ]
  },
  {
   "cell_type": "markdown",
   "id": "5b02d41e-12aa-476e-a062-30857ab5711f",
   "metadata": {},
   "source": [
    "#### Using rolling statics"
   ]
  },
  {
   "cell_type": "code",
   "execution_count": 75,
   "id": "656e2e68-184e-4876-ac5e-a603c1d3e7d6",
   "metadata": {},
   "outputs": [
    {
     "data": {
      "text/plain": [
       "date\n",
       "2023-01-01    21.650000\n",
       "2023-01-08    24.666667\n",
       "2023-01-15    16.433333\n",
       "2023-01-22    29.833333\n",
       "2023-01-29    24.560000\n",
       "2023-02-05    26.584211\n",
       "2023-02-12    25.407143\n",
       "2023-02-19    23.333333\n",
       "2023-02-26    22.557143\n",
       "2023-03-05    15.755556\n",
       "2023-03-12    32.800000\n",
       "2023-03-19    20.650000\n",
       "2023-03-26    21.630769\n",
       "2023-04-02    28.250000\n",
       "2023-04-09    22.808333\n",
       "2023-04-16    27.375000\n",
       "2023-04-23    23.775000\n",
       "2023-04-30    26.471429\n",
       "2023-05-07    19.166667\n",
       "2023-05-14    21.786667\n",
       "2023-05-21    22.255172\n",
       "2023-05-28    25.487500\n",
       "2023-06-04    16.600000\n",
       "Freq: W-SUN, Name: Temp, dtype: float64"
      ]
     },
     "execution_count": 75,
     "metadata": {},
     "output_type": "execute_result"
    }
   ],
   "source": [
    "df_merged['Temp'].resample('W').mean()"
   ]
  }
 ],
 "metadata": {
  "kernelspec": {
   "display_name": "Python 3 (ipykernel)",
   "language": "python",
   "name": "python3"
  },
  "language_info": {
   "codemirror_mode": {
    "name": "ipython",
    "version": 3
   },
   "file_extension": ".py",
   "mimetype": "text/x-python",
   "name": "python",
   "nbconvert_exporter": "python",
   "pygments_lexer": "ipython3",
   "version": "3.10.12"
  }
 },
 "nbformat": 4,
 "nbformat_minor": 5
}
