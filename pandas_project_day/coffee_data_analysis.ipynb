{
 "cells": [
  {
   "cell_type": "code",
   "execution_count": 1,
   "id": "6b8a1cb7-822c-4106-9131-7747c48803e8",
   "metadata": {},
   "outputs": [],
   "source": [
    "import pandas as pd"
   ]
  },
  {
   "cell_type": "code",
   "execution_count": 2,
   "id": "816b8f91-5b4b-412c-b694-0aa24c6790af",
   "metadata": {},
   "outputs": [],
   "source": [
    "sales = pd.read_csv('index.csv')"
   ]
  },
  {
   "cell_type": "code",
   "execution_count": 3,
   "id": "c3396c94-da82-4578-94c0-a44de4241905",
   "metadata": {},
   "outputs": [
    {
     "data": {
      "text/html": [
       "<div>\n",
       "<style scoped>\n",
       "    .dataframe tbody tr th:only-of-type {\n",
       "        vertical-align: middle;\n",
       "    }\n",
       "\n",
       "    .dataframe tbody tr th {\n",
       "        vertical-align: top;\n",
       "    }\n",
       "\n",
       "    .dataframe thead th {\n",
       "        text-align: right;\n",
       "    }\n",
       "</style>\n",
       "<table border=\"1\" class=\"dataframe\">\n",
       "  <thead>\n",
       "    <tr style=\"text-align: right;\">\n",
       "      <th></th>\n",
       "      <th>date</th>\n",
       "      <th>datetime</th>\n",
       "      <th>cash_type</th>\n",
       "      <th>card</th>\n",
       "      <th>money</th>\n",
       "      <th>coffee_name</th>\n",
       "    </tr>\n",
       "  </thead>\n",
       "  <tbody>\n",
       "    <tr>\n",
       "      <th>0</th>\n",
       "      <td>2024-03-01</td>\n",
       "      <td>2024-03-01 10:15:50.520</td>\n",
       "      <td>card</td>\n",
       "      <td>ANON-0000-0000-0001</td>\n",
       "      <td>38.7</td>\n",
       "      <td>Latte</td>\n",
       "    </tr>\n",
       "    <tr>\n",
       "      <th>1</th>\n",
       "      <td>2024-03-01</td>\n",
       "      <td>2024-03-01 12:19:22.539</td>\n",
       "      <td>card</td>\n",
       "      <td>ANON-0000-0000-0002</td>\n",
       "      <td>38.7</td>\n",
       "      <td>Hot Chocolate</td>\n",
       "    </tr>\n",
       "    <tr>\n",
       "      <th>2</th>\n",
       "      <td>2024-03-01</td>\n",
       "      <td>2024-03-01 12:20:18.089</td>\n",
       "      <td>card</td>\n",
       "      <td>ANON-0000-0000-0002</td>\n",
       "      <td>38.7</td>\n",
       "      <td>Hot Chocolate</td>\n",
       "    </tr>\n",
       "    <tr>\n",
       "      <th>3</th>\n",
       "      <td>2024-03-01</td>\n",
       "      <td>2024-03-01 13:46:33.006</td>\n",
       "      <td>card</td>\n",
       "      <td>ANON-0000-0000-0003</td>\n",
       "      <td>28.9</td>\n",
       "      <td>Americano</td>\n",
       "    </tr>\n",
       "    <tr>\n",
       "      <th>4</th>\n",
       "      <td>2024-03-01</td>\n",
       "      <td>2024-03-01 13:48:14.626</td>\n",
       "      <td>card</td>\n",
       "      <td>ANON-0000-0000-0004</td>\n",
       "      <td>38.7</td>\n",
       "      <td>Latte</td>\n",
       "    </tr>\n",
       "  </tbody>\n",
       "</table>\n",
       "</div>"
      ],
      "text/plain": [
       "         date                 datetime cash_type                 card  money  \\\n",
       "0  2024-03-01  2024-03-01 10:15:50.520      card  ANON-0000-0000-0001   38.7   \n",
       "1  2024-03-01  2024-03-01 12:19:22.539      card  ANON-0000-0000-0002   38.7   \n",
       "2  2024-03-01  2024-03-01 12:20:18.089      card  ANON-0000-0000-0002   38.7   \n",
       "3  2024-03-01  2024-03-01 13:46:33.006      card  ANON-0000-0000-0003   28.9   \n",
       "4  2024-03-01  2024-03-01 13:48:14.626      card  ANON-0000-0000-0004   38.7   \n",
       "\n",
       "     coffee_name  \n",
       "0          Latte  \n",
       "1  Hot Chocolate  \n",
       "2  Hot Chocolate  \n",
       "3      Americano  \n",
       "4          Latte  "
      ]
     },
     "execution_count": 3,
     "metadata": {},
     "output_type": "execute_result"
    }
   ],
   "source": [
    "sales.head()"
   ]
  },
  {
   "cell_type": "code",
   "execution_count": 4,
   "id": "e9bc4860-a346-4078-803b-8c077abdb352",
   "metadata": {},
   "outputs": [
    {
     "data": {
      "text/plain": [
       "date            object\n",
       "datetime        object\n",
       "cash_type       object\n",
       "card            object\n",
       "money          float64\n",
       "coffee_name     object\n",
       "dtype: object"
      ]
     },
     "execution_count": 4,
     "metadata": {},
     "output_type": "execute_result"
    }
   ],
   "source": [
    "sales.dtypes"
   ]
  },
  {
   "cell_type": "code",
   "execution_count": 5,
   "id": "4ea11dee-6741-461a-80a3-a17d16cbac35",
   "metadata": {},
   "outputs": [],
   "source": [
    "sales['date'] = pd.to_datetime(sales['date'], errors = 'coerce')"
   ]
  },
  {
   "cell_type": "code",
   "execution_count": 6,
   "id": "ee60d77f-7df4-4993-856f-4110aed208c6",
   "metadata": {},
   "outputs": [],
   "source": [
    "sales['datetime'] = pd.to_datetime(sales['datetime'], errors = 'coerce')"
   ]
  },
  {
   "cell_type": "code",
   "execution_count": 10,
   "id": "9ebd9d6b-4463-4e15-a3da-93887b8791f1",
   "metadata": {},
   "outputs": [
    {
     "data": {
      "text/plain": [
       "date           0\n",
       "datetime       0\n",
       "cash_type      0\n",
       "card           0\n",
       "money          0\n",
       "coffee_name    0\n",
       "dtype: int64"
      ]
     },
     "execution_count": 10,
     "metadata": {},
     "output_type": "execute_result"
    }
   ],
   "source": [
    "sales.isna().sum()"
   ]
  },
  {
   "cell_type": "code",
   "execution_count": 9,
   "id": "84d380d7-ef49-49e4-9ed3-c4931b5179fd",
   "metadata": {},
   "outputs": [],
   "source": [
    "sales['card'].fillna('unknown', inplace=True)"
   ]
  },
  {
   "cell_type": "code",
   "execution_count": 19,
   "id": "ba5f0fec-495b-448c-8a6a-b0c8b97c7f29",
   "metadata": {},
   "outputs": [
    {
     "data": {
      "text/plain": [
       "cash_type\n",
       "card    1044\n",
       "cash      89\n",
       "Name: count, dtype: int64"
      ]
     },
     "execution_count": 19,
     "metadata": {},
     "output_type": "execute_result"
    }
   ],
   "source": [
    "sales['cash_type'].value_counts()"
   ]
  },
  {
   "cell_type": "markdown",
   "id": "ec84316d-471d-4044-8acc-cb7220bd10af",
   "metadata": {},
   "source": [
    "### EDA"
   ]
  },
  {
   "cell_type": "markdown",
   "id": "5708680d-925e-4922-8cd7-be5b9b233a35",
   "metadata": {
    "jp-MarkdownHeadingCollapsed": true
   },
   "source": [
    "#### Which coffee has highest sale?"
   ]
  },
  {
   "cell_type": "code",
   "execution_count": 24,
   "id": "56d95130-ccea-4b16-b3f9-f4768fbcad57",
   "metadata": {},
   "outputs": [
    {
     "data": {
      "text/plain": [
       "'Latte'"
      ]
     },
     "execution_count": 24,
     "metadata": {},
     "output_type": "execute_result"
    }
   ],
   "source": [
    "sales.groupby('coffee_name')['money'].sum().idxmax()"
   ]
  },
  {
   "cell_type": "code",
   "execution_count": null,
   "id": "fccd41cf-3ba4-4109-942d-c50374d12f53",
   "metadata": {},
   "outputs": [],
   "source": []
  },
  {
   "cell_type": "markdown",
   "id": "f65c07ad-c96d-4f17-b743-79410af58f85",
   "metadata": {
    "jp-MarkdownHeadingCollapsed": true
   },
   "source": [
    "#### which coffee is sold most?"
   ]
  },
  {
   "cell_type": "code",
   "execution_count": 79,
   "id": "fded7833-5b09-4114-8702-4d79945a9eb1",
   "metadata": {},
   "outputs": [
    {
     "data": {
      "text/plain": [
       "coffee_name\n",
       "Americano with Milk    268\n",
       "Latte                  243\n",
       "Cappuccino             196\n",
       "Americano              169\n",
       "Cortado                 99\n",
       "Hot Chocolate           74\n",
       "Espresso                49\n",
       "Cocoa                   35\n",
       "Name: count, dtype: int64"
      ]
     },
     "execution_count": 79,
     "metadata": {},
     "output_type": "execute_result"
    }
   ],
   "source": [
    "sales['coffee_name'].value_counts()"
   ]
  },
  {
   "cell_type": "code",
   "execution_count": null,
   "id": "04698a5a-f326-4f40-afe3-1b61d45b8505",
   "metadata": {},
   "outputs": [],
   "source": []
  },
  {
   "cell_type": "markdown",
   "id": "7e5f252c-66e7-4fc2-9074-d044e2968fe1",
   "metadata": {
    "jp-MarkdownHeadingCollapsed": true
   },
   "source": [
    "#### which coffee has highest sale based on type of cash"
   ]
  },
  {
   "cell_type": "code",
   "execution_count": 39,
   "id": "7344dafd-6db6-4662-bdf0-da3ab069533d",
   "metadata": {},
   "outputs": [],
   "source": [
    "cash_wise_sale = sales.groupby(['cash_type', 'coffee_name'])['money'].sum().reset_index()"
   ]
  },
  {
   "cell_type": "code",
   "execution_count": 40,
   "id": "b2ed8b27-c0bb-4030-96d0-68bdeaaaa23a",
   "metadata": {},
   "outputs": [
    {
     "data": {
      "text/plain": [
       "cash_type\n",
       "card     1\n",
       "cash    15\n",
       "Name: money, dtype: int64"
      ]
     },
     "execution_count": 40,
     "metadata": {},
     "output_type": "execute_result"
    }
   ],
   "source": [
    "idx = cash_wise_sale.groupby('cash_type')['money'].idxmax()\n",
    "idx"
   ]
  },
  {
   "cell_type": "code",
   "execution_count": 41,
   "id": "9884fb77-def9-486a-8beb-a05fb344b72d",
   "metadata": {},
   "outputs": [
    {
     "data": {
      "text/html": [
       "<div>\n",
       "<style scoped>\n",
       "    .dataframe tbody tr th:only-of-type {\n",
       "        vertical-align: middle;\n",
       "    }\n",
       "\n",
       "    .dataframe tbody tr th {\n",
       "        vertical-align: top;\n",
       "    }\n",
       "\n",
       "    .dataframe thead th {\n",
       "        text-align: right;\n",
       "    }\n",
       "</style>\n",
       "<table border=\"1\" class=\"dataframe\">\n",
       "  <thead>\n",
       "    <tr style=\"text-align: right;\">\n",
       "      <th></th>\n",
       "      <th>cash_type</th>\n",
       "      <th>coffee_name</th>\n",
       "      <th>money</th>\n",
       "    </tr>\n",
       "  </thead>\n",
       "  <tbody>\n",
       "    <tr>\n",
       "      <th>1</th>\n",
       "      <td>card</td>\n",
       "      <td>Americano with Milk</td>\n",
       "      <td>8083.94</td>\n",
       "    </tr>\n",
       "    <tr>\n",
       "      <th>15</th>\n",
       "      <td>cash</td>\n",
       "      <td>Latte</td>\n",
       "      <td>991.00</td>\n",
       "    </tr>\n",
       "  </tbody>\n",
       "</table>\n",
       "</div>"
      ],
      "text/plain": [
       "   cash_type          coffee_name    money\n",
       "1       card  Americano with Milk  8083.94\n",
       "15      cash                Latte   991.00"
      ]
     },
     "execution_count": 41,
     "metadata": {},
     "output_type": "execute_result"
    }
   ],
   "source": [
    "cash_wise_sale.loc[idx]"
   ]
  },
  {
   "cell_type": "code",
   "execution_count": null,
   "id": "c4c7057c-4dd0-4607-971d-7a59aaa3e902",
   "metadata": {},
   "outputs": [],
   "source": []
  },
  {
   "cell_type": "markdown",
   "id": "0d31bd47-1f5c-4ac0-9705-9ddecb9eadca",
   "metadata": {
    "jp-MarkdownHeadingCollapsed": true
   },
   "source": [
    "#### which month has highest  sale?"
   ]
  },
  {
   "cell_type": "code",
   "execution_count": 50,
   "id": "08b998d2-611c-4d8d-a64f-a179eae74f66",
   "metadata": {},
   "outputs": [],
   "source": [
    "indexed_sales = sales.set_index('date')"
   ]
  },
  {
   "cell_type": "code",
   "execution_count": 59,
   "id": "a57873e1-af66-430c-aaa6-da4bf5cc4658",
   "metadata": {},
   "outputs": [
    {
     "name": "stderr",
     "output_type": "stream",
     "text": [
      "/tmp/ipykernel_13430/3192110974.py:1: FutureWarning: 'M' is deprecated and will be removed in a future version, please use 'ME' instead.\n",
      "  indexed_sales['money'].resample('M').sum()\n"
     ]
    },
    {
     "data": {
      "text/plain": [
       "date\n",
       "2024-03-31    7050.20\n",
       "2024-04-30    6720.56\n",
       "2024-05-31    9063.42\n",
       "2024-06-30    7758.76\n",
       "2024-07-31    6915.94\n",
       "Freq: ME, Name: money, dtype: float64"
      ]
     },
     "execution_count": 59,
     "metadata": {},
     "output_type": "execute_result"
    }
   ],
   "source": [
    "indexed_sales['money'].resample('M').sum()"
   ]
  },
  {
   "cell_type": "code",
   "execution_count": null,
   "id": "a5bc5e95-4c82-47e0-8466-1e177ea53f05",
   "metadata": {},
   "outputs": [],
   "source": []
  },
  {
   "cell_type": "markdown",
   "id": "854a63a1-7706-4446-a526-d85b70663e82",
   "metadata": {
    "jp-MarkdownHeadingCollapsed": true
   },
   "source": [
    "#### month-wise maximum coffee sale"
   ]
  },
  {
   "cell_type": "code",
   "execution_count": 69,
   "id": "91839766-0e7f-465e-9cec-2bc60a97248b",
   "metadata": {},
   "outputs": [],
   "source": [
    "sales['month'] = sales['date'].dt.month_name()"
   ]
  },
  {
   "cell_type": "code",
   "execution_count": 73,
   "id": "4fc09270-682e-4929-96eb-13bfc66f0f15",
   "metadata": {},
   "outputs": [],
   "source": [
    "monthly_coffee_sale = sales.groupby(['month','coffee_name'])['money'].sum().reset_index()"
   ]
  },
  {
   "cell_type": "code",
   "execution_count": 77,
   "id": "812914d2-9292-4965-8f15-60539f8c61f5",
   "metadata": {},
   "outputs": [],
   "source": [
    "month_idx = monthly_coffee_sale.groupby('month')['money'].idxmax()"
   ]
  },
  {
   "cell_type": "code",
   "execution_count": 78,
   "id": "8d7bd663-cd90-4376-bae2-4d66ebbb521e",
   "metadata": {},
   "outputs": [
    {
     "data": {
      "text/html": [
       "<div>\n",
       "<style scoped>\n",
       "    .dataframe tbody tr th:only-of-type {\n",
       "        vertical-align: middle;\n",
       "    }\n",
       "\n",
       "    .dataframe tbody tr th {\n",
       "        vertical-align: top;\n",
       "    }\n",
       "\n",
       "    .dataframe thead th {\n",
       "        text-align: right;\n",
       "    }\n",
       "</style>\n",
       "<table border=\"1\" class=\"dataframe\">\n",
       "  <thead>\n",
       "    <tr style=\"text-align: right;\">\n",
       "      <th></th>\n",
       "      <th>month</th>\n",
       "      <th>coffee_name</th>\n",
       "      <th>money</th>\n",
       "    </tr>\n",
       "  </thead>\n",
       "  <tbody>\n",
       "    <tr>\n",
       "      <th>2</th>\n",
       "      <td>April</td>\n",
       "      <td>Cappuccino</td>\n",
       "      <td>1659.44</td>\n",
       "    </tr>\n",
       "    <tr>\n",
       "      <th>9</th>\n",
       "      <td>July</td>\n",
       "      <td>Americano with Milk</td>\n",
       "      <td>1863.80</td>\n",
       "    </tr>\n",
       "    <tr>\n",
       "      <th>17</th>\n",
       "      <td>June</td>\n",
       "      <td>Americano with Milk</td>\n",
       "      <td>2268.12</td>\n",
       "    </tr>\n",
       "    <tr>\n",
       "      <th>31</th>\n",
       "      <td>March</td>\n",
       "      <td>Latte</td>\n",
       "      <td>1874.50</td>\n",
       "    </tr>\n",
       "    <tr>\n",
       "      <th>39</th>\n",
       "      <td>May</td>\n",
       "      <td>Latte</td>\n",
       "      <td>2198.00</td>\n",
       "    </tr>\n",
       "  </tbody>\n",
       "</table>\n",
       "</div>"
      ],
      "text/plain": [
       "    month          coffee_name    money\n",
       "2   April           Cappuccino  1659.44\n",
       "9    July  Americano with Milk  1863.80\n",
       "17   June  Americano with Milk  2268.12\n",
       "31  March                Latte  1874.50\n",
       "39    May                Latte  2198.00"
      ]
     },
     "execution_count": 78,
     "metadata": {},
     "output_type": "execute_result"
    }
   ],
   "source": [
    "monthly_coffee_sale.loc[month_idx]"
   ]
  },
  {
   "cell_type": "code",
   "execution_count": null,
   "id": "9980eac2-1e14-4601-ae91-6c0256861af2",
   "metadata": {},
   "outputs": [],
   "source": []
  },
  {
   "cell_type": "markdown",
   "id": "c4a746f9-d7df-43a4-8991-48a54dbc0cb0",
   "metadata": {},
   "source": []
  }
 ],
 "metadata": {
  "kernelspec": {
   "display_name": "Python 3 (ipykernel)",
   "language": "python",
   "name": "python3"
  },
  "language_info": {
   "codemirror_mode": {
    "name": "ipython",
    "version": 3
   },
   "file_extension": ".py",
   "mimetype": "text/x-python",
   "name": "python",
   "nbconvert_exporter": "python",
   "pygments_lexer": "ipython3",
   "version": "3.10.12"
  }
 },
 "nbformat": 4,
 "nbformat_minor": 5
}
