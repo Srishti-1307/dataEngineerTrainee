{
  "nbformat": 4,
  "nbformat_minor": 0,
  "metadata": {
    "colab": {
      "provenance": [],
      "authorship_tag": "ABX9TyMA57I7DJhE0zgBUIHgmjsJ",
      "include_colab_link": true
    },
    "kernelspec": {
      "name": "python3",
      "display_name": "Python 3"
    },
    "language_info": {
      "name": "python"
    }
  },
  "cells": [
    {
      "cell_type": "markdown",
      "metadata": {
        "id": "view-in-github",
        "colab_type": "text"
      },
      "source": [
        "<a href=\"https://colab.research.google.com/github/Srishti-1307/dataEngineerTrainee/blob/main/practice.ipynb\" target=\"_parent\"><img src=\"https://colab.research.google.com/assets/colab-badge.svg\" alt=\"Open In Colab\"/></a>"
      ]
    },
    {
      "cell_type": "code",
      "execution_count": 1,
      "metadata": {
        "id": "L3NySzrRn88q"
      },
      "outputs": [],
      "source": [
        "import numpy as np"
      ]
    },
    {
      "cell_type": "code",
      "source": [
        "weather_data = np.array([23,32,18,41,25,33,28])"
      ],
      "metadata": {
        "id": "nuDhZAjfoAGw"
      },
      "execution_count": 2,
      "outputs": []
    },
    {
      "cell_type": "code",
      "source": [
        "print('Max temp: ', weather_data.max(),'degree')"
      ],
      "metadata": {
        "colab": {
          "base_uri": "https://localhost:8080/"
        },
        "id": "RqwComchoK6e",
        "outputId": "bb7443a7-ff68-4e54-b620-0caab508876f"
      },
      "execution_count": 4,
      "outputs": [
        {
          "output_type": "stream",
          "name": "stdout",
          "text": [
            "Max temp:  41 degree\n"
          ]
        }
      ]
    },
    {
      "cell_type": "code",
      "source": [
        "print('Min temp: ', weather_data.min(),'degree')"
      ],
      "metadata": {
        "colab": {
          "base_uri": "https://localhost:8080/"
        },
        "id": "F3o5xVB0oQxt",
        "outputId": "6a1b7a57-7412-4a9b-c7e1-6a9bb2117b95"
      },
      "execution_count": 5,
      "outputs": [
        {
          "output_type": "stream",
          "name": "stdout",
          "text": [
            "Min temp:  18 degree\n"
          ]
        }
      ]
    },
    {
      "cell_type": "code",
      "source": [
        "print('Average temp: ', np.round(np.average(weather_data), decimals=1),'degree')"
      ],
      "metadata": {
        "colab": {
          "base_uri": "https://localhost:8080/"
        },
        "id": "EcCUGR0toYId",
        "outputId": "7d42b211-b6be-4def-cd3f-306482683d6f"
      },
      "execution_count": 12,
      "outputs": [
        {
          "output_type": "stream",
          "name": "stdout",
          "text": [
            "Average temp:  28.6 degree\n"
          ]
        }
      ]
    },
    {
      "cell_type": "code",
      "source": [],
      "metadata": {
        "id": "fJJWjkntocDt"
      },
      "execution_count": null,
      "outputs": []
    }
  ]
}